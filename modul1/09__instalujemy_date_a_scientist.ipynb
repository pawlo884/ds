{
 "cells": [
  {
   "cell_type": "code",
   "execution_count": null,
   "id": "05db0f68-3b4d-4b6d-bfa9-52e53f6d0138",
   "metadata": {},
   "outputs": [],
   "source": [
    "!pip install --quiet date-a-scientist"
   ]
  },
  {
   "cell_type": "code",
   "execution_count": null,
   "id": "d3abbdca-12ad-4a89-83c6-d9807e18675c",
   "metadata": {},
   "outputs": [],
   "source": [
    "from date_a_scientist import DateAScientist\n",
    "import pandas as pd"
   ]
  },
  {
   "cell_type": "code",
   "execution_count": null,
   "id": "28097eca-de04-4df0-955f-fe7fe737f053",
   "metadata": {},
   "outputs": [],
   "source": [
    "df = pd.read_csv(\"world-happiness-report.csv\", encoding='latin-1')\n",
    "ds = DateAScientist(df=df)"
   ]
  },
  {
   "cell_type": "code",
   "execution_count": null,
   "id": "0bb5f770-c0de-458d-a732-cfe2387a201e",
   "metadata": {},
   "outputs": [],
   "source": [
    "ds.chat(\"ile mamy rekordów?\")"
   ]
  }
 ],
 "metadata": {
  "kernelspec": {
   "display_name": "od_zera_do_ai",
   "language": "python",
   "name": "python3"
  },
  "language_info": {
   "codemirror_mode": {
    "name": "ipython",
    "version": 3
   },
   "file_extension": ".py",
   "mimetype": "text/x-python",
   "name": "python",
   "nbconvert_exporter": "python",
   "pygments_lexer": "ipython3",
   "version": "3.11.9"
  }
 },
 "nbformat": 4,
 "nbformat_minor": 5
}
