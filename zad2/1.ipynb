{
 "cells": [
  {
   "cell_type": "code",
   "execution_count": 3,
   "metadata": {},
   "outputs": [],
   "source": [
    "from date_a_scientist import DateAScientist\n",
    "import pandas as pd\n",
    "\n",
    "pd.options.display.max_columns = None\n",
    "\n",
    "ds = DateAScientist(\n",
    "    # date-a-scientist potrafi pobierać dane z internetu!\n",
    "    df=\"https://drive.google.com/uc?export=download&id=121kjpjzmGr-EfFU8tsqS4TccU7Iw1--6&sep=%3B&encoding=utf-8\",\n",
    "    column_descriptions=\"https://drive.google.com/uc?export=download&id=1GjWB4PAko3o49vwFABbavRFjHOA3mH4c\",\n",
    ")"
   ]
  },
  {
   "cell_type": "markdown",
   "metadata": {},
   "source": []
  }
 ],
 "metadata": {
  "kernelspec": {
   "display_name": ".venv",
   "language": "python",
   "name": "python3"
  },
  "language_info": {
   "codemirror_mode": {
    "name": "ipython",
    "version": 3
   },
   "file_extension": ".py",
   "mimetype": "text/x-python",
   "name": "python",
   "nbconvert_exporter": "python",
   "pygments_lexer": "ipython3",
   "version": "3.11.9"
  }
 },
 "nbformat": 4,
 "nbformat_minor": 2
}
