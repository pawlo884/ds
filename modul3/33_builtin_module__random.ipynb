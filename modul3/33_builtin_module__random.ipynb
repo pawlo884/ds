{
 "cells": [
  {
   "cell_type": "markdown",
   "metadata": {},
   "source": [
    "## Czym jest moduł `random`?\n",
    "\n",
    "* umożliwia generowanie losowych liczb \n",
    "* umożliwia dokonywanie losowych wyborów"
   ]
  },
  {
   "cell_type": "markdown",
   "metadata": {},
   "source": [
    "## Przykłady\n",
    "\n",
    "### `random()`: Zwraca losową liczbę zmiennoprzecinkową z przedziału [0.0, 1.0)."
   ]
  },
  {
   "cell_type": "code",
   "execution_count": null,
   "metadata": {},
   "outputs": [],
   "source": [
    "import random\n",
    "\n",
    "print(random.random())"
   ]
  },
  {
   "cell_type": "markdown",
   "metadata": {},
   "source": [
    "### `randint(a, b)`: Zwraca losową liczbę całkowitą z przedziału [a, b] (oba końce włącznie).\n"
   ]
  },
  {
   "cell_type": "code",
   "execution_count": null,
   "metadata": {},
   "outputs": [],
   "source": [
    "import random\n",
    "\n",
    "print(random.randint(1, 10))  # Losowa liczba całkowita między 1 a 10 włącznie"
   ]
  },
  {
   "cell_type": "markdown",
   "metadata": {},
   "source": [
    "\n",
    "### `choice(seq)`: Zwraca losowy element z niepustej sekwencji.\n"
   ]
  },
  {
   "cell_type": "code",
   "execution_count": null,
   "metadata": {},
   "outputs": [],
   "source": [
    "import random\n",
    "\n",
    "lista = [1, 2, 3, 4, 5]\n",
    "print(random.choice(lista))  # Losowo wybiera jeden element z listy"
   ]
  },
  {
   "cell_type": "markdown",
   "metadata": {},
   "source": [
    "\n",
    "### `shuffle(seq)`: Losowo przetasowuje kolejność elementów w sekwencji.\n"
   ]
  },
  {
   "cell_type": "code",
   "execution_count": null,
   "metadata": {},
   "outputs": [],
   "source": [
    "import random\n",
    "\n",
    "karty = ['as', 'król', 'dama', 'walet']\n",
    "random.shuffle(karty)\n",
    "print(karty)  # Karty są teraz przetasowane"
   ]
  },
  {
   "cell_type": "markdown",
   "metadata": {},
   "source": [
    "\n",
    "### `sample(population, k)`: Zwraca listę `k` unikalnych elementów wylosowanych z populacji.\n"
   ]
  },
  {
   "cell_type": "code",
   "execution_count": null,
   "metadata": {},
   "outputs": [],
   "source": [
    "import random\n",
    "\n",
    "loteryjne_numery = list(range(1, 50))\n",
    "print(random.sample(loteryjne_numery, 6))  # Losuje 6 unikalnych numerów z zakresu 1-49"
   ]
  },
  {
   "cell_type": "markdown",
   "metadata": {},
   "source": [
    "## Zastosowania w rzeczywistości\n",
    "\n",
    "### Symulacja rzutu kostką\n"
   ]
  },
  {
   "cell_type": "code",
   "execution_count": null,
   "metadata": {},
   "outputs": [],
   "source": [
    "import random\n",
    "\n",
    "def rzut_kostka():\n",
    "    return random.randint(1, 6)\n",
    "\n",
    "print(f\"Wynik rzutu kostką: {rzut_kostka()}\")"
   ]
  },
  {
   "cell_type": "markdown",
   "metadata": {},
   "source": [
    "\n",
    "### Losowe losowanie klienta do nagrody\n"
   ]
  },
  {
   "cell_type": "code",
   "execution_count": null,
   "metadata": {},
   "outputs": [],
   "source": [
    "import random\n",
    "\n",
    "klienci = ['Anna', 'Bartosz', 'Cezary', 'Dorota']\n",
    "zwyciezsca = random.choice(klienci)\n",
    "print(f\"Szczęśliwy zwycięzca to: {zwyciezsca}\")"
   ]
  },
  {
   "cell_type": "markdown",
   "metadata": {},
   "source": [
    "\n",
    "### Szuflowanie talii kart\n"
   ]
  },
  {
   "cell_type": "code",
   "execution_count": null,
   "metadata": {},
   "outputs": [],
   "source": [
    "import random\n",
    "\n",
    "talia = ['2 trefl', '3 pik', '4 kier', 'as karo', 'król trefl']\n",
    "random.shuffle(talia)\n",
    "print(\"Potasowana talia kart:\", talia)"
   ]
  }
 ],
 "metadata": {
  "kernelspec": {
   "display_name": "Python 3 (ipykernel)",
   "language": "python",
   "name": "python3"
  },
  "language_info": {
   "codemirror_mode": {
    "name": "ipython",
    "version": 3
   },
   "file_extension": ".py",
   "mimetype": "text/x-python",
   "name": "python",
   "nbconvert_exporter": "python",
   "pygments_lexer": "ipython3",
   "version": "3.11.3"
  }
 },
 "nbformat": 4,
 "nbformat_minor": 4
}
