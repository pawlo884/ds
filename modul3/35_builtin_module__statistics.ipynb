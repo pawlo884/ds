{
 "cells": [
  {
   "cell_type": "markdown",
   "metadata": {},
   "source": [
    "## Czym jest moduł `statistics`?\n",
    "\n",
    "* Moduł `statistics` w Pythonie jest częścią standardowej biblioteki i służy do wykonywania podstawowych operacji statystycznych. \n",
    "* Można go używać do obliczania średniej, mediany, wariancji i wielu innych statystyk z danych liczbowych. \n",
    "\n",
    "## Przykłady"
   ]
  },
  {
   "cell_type": "markdown",
   "metadata": {},
   "source": [
    "### Średnia (mean)   \n",
    "Średnia jest często używana jako miara centralnej tendencji. \n",
    "    \n",
    "Można ją obliczyć za pomocą funkcji `mean()`.   "
   ]
  },
  {
   "cell_type": "code",
   "execution_count": null,
   "metadata": {},
   "outputs": [],
   "source": [
    "import statistics   \n",
    "\n",
    "dane = [1, 2, 3, 4, 5]   \n",
    "srednia = statistics.mean(dane)   \n",
    "print(\"Średnia:\", srednia)  "
   ]
  },
  {
   "cell_type": "markdown",
   "metadata": {},
   "source": [
    "### Mediana (median)\n",
    "Mediana jest wartością środkową w uporządkowanym zbiorze danych. \n",
    "\n",
    "Funkcja `median()` zwraca medianę.   "
   ]
  },
  {
   "cell_type": "code",
   "execution_count": null,
   "metadata": {},
   "outputs": [],
   "source": [
    "import statistics   \n",
    "\n",
    "dane = [1, 3, 3, 6, 7, 8, 9]   \n",
    "mediana = statistics.median(dane)   \n",
    "print(\"Mediana:\", mediana)  "
   ]
  },
  {
   "cell_type": "markdown",
   "metadata": {},
   "source": [
    "### Dominanta (mode)   \n",
    "\n",
    "Dominanta jest wartością, która występuje najczęściej w zbiorze danych. \n",
    "\n",
    "Można ją obliczyć za pomocą funkcji `mode()`.   "
   ]
  },
  {
   "cell_type": "code",
   "execution_count": null,
   "metadata": {},
   "outputs": [],
   "source": [
    "import statistics\n",
    "\n",
    "dane = [1, 3, 3, 6, 7, 8, 9, 3]   \n",
    "dominanta = statistics.mode(dane)   \n",
    "print(\"Dominanta:\", dominanta)  "
   ]
  },
  {
   "cell_type": "markdown",
   "metadata": {},
   "source": [
    "### Wariancja (variance)   \n",
    "\n",
    "Wariancja jest miarą rozproszenia danych wokół średniej.\n",
    "    \n",
    "Funkcja `variance()` zwraca wariancję zbioru danych.   "
   ]
  },
  {
   "cell_type": "code",
   "execution_count": null,
   "metadata": {},
   "outputs": [],
   "source": [
    "import statistics   \n",
    "\n",
    "dane = [600, 470, 170, 430, 300]   \n",
    "wariancja = statistics.variance(dane)   \n",
    "print(\"Wariancja:\", wariancja)  "
   ]
  },
  {
   "cell_type": "markdown",
   "metadata": {},
   "source": [
    "### Odchylenie standardowe (stdev)\n",
    "\n",
    "Odchylenie standardowe jest pierwiastkiem kwadratowym z wariancji i również mierzy, jak bardzo wartości w zbiorze danych rozpraszają się wokół średniej.   "
   ]
  },
  {
   "cell_type": "code",
   "execution_count": null,
   "metadata": {},
   "outputs": [],
   "source": [
    "import statistics   \n",
    "\n",
    "dane = [600, 470, 170, 430, 300]   \n",
    "odchylenie_standardowe = statistics.stdev(dane)   \n",
    "print(\"Odchylenie standardowe:\", odchylenie_standardowe)  # Odchylenie standardowe: 164.7118696390761   "
   ]
  },
  {
   "cell_type": "markdown",
   "metadata": {},
   "source": [
    "### Przykład w kontekście rzeczywistym\n",
    "\n",
    "Wyobraźmy sobie, że mamy sklep internetowy i chcemy analizować ceny produktów sprzedawanych w naszym sklepie. \n",
    "\n",
    "Poniżej znajduje się przykład użycia modułu `statistics` do analizy cen:"
   ]
  },
  {
   "cell_type": "code",
   "execution_count": null,
   "metadata": {},
   "outputs": [],
   "source": [
    "import statistics\n",
    "\n",
    "ceny_produktow = [15.99, 23.49, 9.99, 45.00, 19.99, 29.99, 39.99] # Obliczanie podstawowych statystyk\n",
    "srednia_cena = statistics.mean(ceny_produktow)\n",
    "mediana_cena = statistics.median(ceny_produktow)\n",
    "dominanta_cena = statistics.mode(ceny_produktow)\n",
    "wariancja_cena = statistics.variance(ceny_produktow)\n",
    "odchylenie_standardowe_cena = statistics.stdev(ceny_produktow)\n",
    "\n",
    "print(\"Średnia cena:\", srednia_cena)\n",
    "print(\"Mediana cena:\", mediana_cena)\n",
    "print(\"Dominanta cena:\", dominanta_cena)\n",
    "print(\"Wariancja cena:\", wariancja_cena)\n",
    "print(\"Odchylenie standardowe cena:\", odchylenie_standardowe_cena)"
   ]
  },
  {
   "cell_type": "code",
   "execution_count": null,
   "metadata": {},
   "outputs": [],
   "source": []
  }
 ],
 "metadata": {
  "kernelspec": {
   "display_name": "Python 3 (ipykernel)",
   "language": "python",
   "name": "python3"
  },
  "language_info": {
   "codemirror_mode": {
    "name": "ipython",
    "version": 3
   },
   "file_extension": ".py",
   "mimetype": "text/x-python",
   "name": "python",
   "nbconvert_exporter": "python",
   "pygments_lexer": "ipython3",
   "version": "3.11.3"
  }
 },
 "nbformat": 4,
 "nbformat_minor": 4
}
