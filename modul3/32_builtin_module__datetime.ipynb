{
 "cells": [
  {
   "cell_type": "markdown",
   "metadata": {},
   "source": [
    "## Czym jest moduł `datetime`?\n",
    "\n",
    "* Moduł `datetime` pozwala na manipulację datami i czasem oraz przeprowadzanie na nich obliczeń. \n",
    "* Działa na różnych poziomach, jak daty, czasy i połączenie obu."
   ]
  },
  {
   "cell_type": "markdown",
   "metadata": {},
   "source": [
    "## Obiekty `datetime.date`, `datetime.time` i `datetime.datetime`\n",
    "Te trzy klasy są kluczowe, gdy pracujesz z modułem `datetime`:\n",
    "\n",
    "- **`datetime.date`**: Reprezentuje datę (rok, miesiąc, dzień).\n",
    "- **`datetime.time`**: Reprezentuje czas (godzina, minuta, sekunda, mikrosekunda).\n",
    "- **`datetime.datetime`**: Kombinacja daty i czasu.\n"
   ]
  },
  {
   "cell_type": "markdown",
   "metadata": {},
   "source": [
    "## Przykłady użytkowania"
   ]
  },
  {
   "cell_type": "markdown",
   "metadata": {},
   "source": [
    "### Ustalanie daty\n",
    "Załóżmy, że chcesz ustawić obiekt daty na 1 stycznia 2023 roku:"
   ]
  },
  {
   "cell_type": "code",
   "execution_count": null,
   "metadata": {},
   "outputs": [],
   "source": [
    "import datetime\n",
    "\n",
    "my_date = datetime.date(2023, 1, 1)\n",
    "print(my_date)  # Output: 2023-01-01"
   ]
  },
  {
   "cell_type": "markdown",
   "metadata": {},
   "source": [
    "### Ustalanie czasu\n",
    "Możesz również ustanowić obiekt czasu:"
   ]
  },
  {
   "cell_type": "code",
   "execution_count": null,
   "metadata": {},
   "outputs": [],
   "source": [
    "import datetime\n",
    "\n",
    "my_time = datetime.time(14, 30, 45)\n",
    "print(my_time)  # Output: 14:30:45"
   ]
  },
  {
   "cell_type": "markdown",
   "metadata": {},
   "source": [
    "### Ustalanie daty i czasu\n",
    "Załóżmy, że chcesz ustawić obiekt datetime na 1 stycznia 2023 roku, godzinę 14:30:45:"
   ]
  },
  {
   "cell_type": "code",
   "execution_count": null,
   "metadata": {},
   "outputs": [],
   "source": [
    "import datetime\n",
    "\n",
    "my_datetime = datetime.datetime(2023, 1, 1, 14, 30, 45)\n",
    "print(my_datetime)  # Output: 2023-01-01 14:30:45"
   ]
  },
  {
   "cell_type": "markdown",
   "metadata": {},
   "source": [
    "### Bieżąca Data i Czas\n",
    "\n",
    "Jeżeli chcesz uzyskać bieżącą datę i czas:"
   ]
  },
  {
   "cell_type": "code",
   "execution_count": null,
   "metadata": {},
   "outputs": [],
   "source": [
    "import datetime\n",
    "\n",
    "now = datetime.datetime.now()\n",
    "print(now)  # Output: (Aktualna data i czas, np. 2023-10-01 14:30:45.123456)"
   ]
  },
  {
   "cell_type": "markdown",
   "metadata": {},
   "source": [
    "### Formatowanie Daty i Czasu\n",
    "\n",
    "Moduł `datetime` pozwala również na manipulowanie i formatowanie dat i czasu. Możesz użyć metody `strftime` do formatowania obiektu `datetime` według własnych potrzeb:"
   ]
  },
  {
   "cell_type": "code",
   "execution_count": null,
   "metadata": {},
   "outputs": [],
   "source": [
    "import datetime\n",
    "\n",
    "now = datetime.datetime.now()\n",
    "formatted_now = now.strftime(\"%Y-%m-%d %H:%M:%S\")\n",
    "print(formatted_now)  # Output: np. 2023-10-01 14:30:45"
   ]
  },
  {
   "cell_type": "markdown",
   "metadata": {},
   "source": [
    "### Różnice między Datami i Czasami\n",
    "\n",
    "Możesz również obliczać różnice między datami:"
   ]
  },
  {
   "cell_type": "code",
   "execution_count": null,
   "metadata": {},
   "outputs": [],
   "source": [
    "import datetime\n",
    "\n",
    "date1 = datetime.datetime(2023, 1, 1)\n",
    "date2 = datetime.datetime(2023, 1, 10)\n",
    "difference = date2 - date1\n",
    "print(difference)  # Output: 9 days, 0:00:00"
   ]
  }
 ],
 "metadata": {
  "kernelspec": {
   "display_name": "Python 3 (ipykernel)",
   "language": "python",
   "name": "python3"
  },
  "language_info": {
   "codemirror_mode": {
    "name": "ipython",
    "version": 3
   },
   "file_extension": ".py",
   "mimetype": "text/x-python",
   "name": "python",
   "nbconvert_exporter": "python",
   "pygments_lexer": "ipython3",
   "version": "3.11.3"
  }
 },
 "nbformat": 4,
 "nbformat_minor": 4
}
