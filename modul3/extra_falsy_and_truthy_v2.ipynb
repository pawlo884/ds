{
 "cells": [
  {
   "cell_type": "markdown",
   "id": "40d44025-3542-4e2f-b3c0-0699d0f29061",
   "metadata": {},
   "source": [
    "# \"Prawda\" i \"Fałsz\" w Pythonie\n",
    "\n",
    "* Do tej pory chcąc reprezentować wartości logiczne używaliśmy `True` lub `False`. \n",
    "* Jednak okazuje się, że Python \"rozszerza\" swoje pojmowanie prawdziwości i fałszywości na obiekty \"puste\" i \"niepuste\"\n",
    "* Dodatkową rolę odgrywa obiekt `None`, który dosłownie oznacza brak wartości"
   ]
  },
  {
   "cell_type": "markdown",
   "id": "8c6d228b-3928-4afc-ba6f-5d799238368d",
   "metadata": {},
   "source": [
    "## Obiekty \"puste\""
   ]
  },
  {
   "cell_type": "code",
   "execution_count": null,
   "id": "9d563ef5-b046-4d69-997f-eaa2637a20c3",
   "metadata": {},
   "outputs": [],
   "source": [
    "# każda z poniższych wartości jest potrzegana przez Pythona jako \"fałszywa\"\n",
    "a = []  # pusta lista\n",
    "b = {}  # pusty słownik\n",
    "c = \"\"  # pusty łańcuch znaków\n",
    "d = 0   # zero\n",
    "e = None  # brak wartości"
   ]
  },
  {
   "cell_type": "code",
   "execution_count": null,
   "id": "a6fc127a-e55b-40ec-aa51-d930d0395184",
   "metadata": {},
   "outputs": [],
   "source": [
    "# gdy spróbujemy przekonwertować każdą z tych zmiennych na bool\n",
    "# wówczas otrzymamy False\n",
    "print(bool(a))\n",
    "print(bool(b))\n",
    "print(bool(c))\n",
    "print(bool(d))\n",
    "print(bool(e))"
   ]
  },
  {
   "cell_type": "code",
   "execution_count": null,
   "id": "21af5049-aaee-4cac-bf41-c1e9f48343fd",
   "metadata": {},
   "outputs": [],
   "source": [
    "# gdy zadziałamy operatorem `not` wówczas najpierw Python przekonwertuje\n",
    "# wartości na bool a następnie zadziała operatorem `not` więc wszędzie\n",
    "# dostaniemy `True`\n",
    "print(not a)\n",
    "print(not b)\n",
    "print(not c)\n",
    "print(not d)\n",
    "print(not e)"
   ]
  },
  {
   "cell_type": "code",
   "execution_count": null,
   "id": "e5f4d69f-90aa-43b7-8d88-c14e35c36e7e",
   "metadata": {},
   "outputs": [],
   "source": [
    "# możemy więc używać \"pustych\" obiektów tak jakbyśmy używali False\n",
    "# bez konieczności ekstra konwersji!\n",
    "# np. poniższe możemy czytać: jeżeli lista `a` nie jest pusta\n",
    "if a:\n",
    "    print(\"lista nie jest pusta\")\n",
    "else:\n",
    "    print(\"jednak pusta\")"
   ]
  },
  {
   "cell_type": "markdown",
   "id": "d0da711a-e21a-4e61-8bb9-e447e2e3fc6c",
   "metadata": {},
   "source": [
    "## Obiekty \"niepuste\""
   ]
  },
  {
   "cell_type": "code",
   "execution_count": null,
   "id": "76abe749-58ef-48b8-9535-0feacf31ead1",
   "metadata": {},
   "outputs": [],
   "source": [
    "# każda z poniższych wartości jest potrzegana przez Pythona jako \"prawdziwa\"\n",
    "a = [1, 2]  # niepusta lista\n",
    "b = {\"x\": 34}  # niepusty słownik\n",
    "c = \"kot\"  # niepusty łańcuch znaków\n",
    "d = 1   # nie zero"
   ]
  },
  {
   "cell_type": "code",
   "execution_count": null,
   "id": "889bc1df-8420-4056-83cf-ea707b6d5cee",
   "metadata": {},
   "outputs": [],
   "source": [
    "# gdy spróbujemy przekonwertować każdą z tych zmiennych na bool\n",
    "# wówczas otrzymamy True\n",
    "print(bool(a))\n",
    "print(bool(b))\n",
    "print(bool(c))\n",
    "print(bool(d))"
   ]
  },
  {
   "cell_type": "code",
   "execution_count": null,
   "id": "5177b892-8ae1-4391-a6f0-8eda5c73c12c",
   "metadata": {},
   "outputs": [],
   "source": [
    "# gdy zadziałamy operatorem `not` wówczas najpierw Python przekonwertuje\n",
    "# wartości na bool a następnie zadziała operatorem `not` więc wszędzie\n",
    "# dostaniemy `False`\n",
    "print(not a)\n",
    "print(not b)\n",
    "print(not c)\n",
    "print(not d)"
   ]
  },
  {
   "cell_type": "code",
   "execution_count": null,
   "id": "ecf37031-696a-45d4-8c5e-c04d5acb8932",
   "metadata": {},
   "outputs": [],
   "source": [
    "# możemy więc używać \"niepustych\" obiektów tak jakbyśmy używali True\n",
    "# bez konieczności ekstra konwersji!\n",
    "# np. poniższe możemy czytać: jeżeli łańcuch znaków `c` nie jest pusta\n",
    "if c:\n",
    "    print(\"łańcuch nie jest pusty\")\n",
    "else:\n",
    "    print(\"jednak pusty\")"
   ]
  },
  {
   "cell_type": "markdown",
   "id": "7cb59432-47f3-422f-b0af-f4eb447eac18",
   "metadata": {},
   "source": [
    "### Używanie zmiennych z wartością `None` w operacjach logicznych\n",
    "Zmienne o wartości `None` mogą powodować nieoczekiwane wyniki w porównaniach logicznych.\n"
   ]
  },
  {
   "cell_type": "code",
   "execution_count": null,
   "id": "c3f517dd-1972-43d0-8c3b-417530916dd9",
   "metadata": {},
   "outputs": [],
   "source": [
    "is_sunny = None\n",
    "# sprawdzamy czy jest słonecznie lub nie jest słonecznie\n",
    "# `is_sunny` zawiera `None` więc warunek przy poniższym `if` zwróci False, więc blok `if`\n",
    "# nie zostanie wykonany\n",
    "if is_sunny:\n",
    "    print(\"It's sunny outside!\")\n",
    "# ale kolejny `if` ma warunek który zwróci `True`, ponieważ `is_sunny` zawiera `None`,\n",
    "# a `not None` zwraca `True` i tutaj pojawia się zaskoczenie, bo `None` oznacza brak wartości,\n",
    "# a nie `False`, czy my tak naprawdę nie wiemy czy jest słonecznie czy nie, bo nie mamy tej\n",
    "# informacji. Więc poprawny kod powinien nic nie zwracać, ale w tym przypadku zwróci\n",
    "# \"It's not sunny outside!\"\n",
    "elif not is_sunny:\n",
    "    print(\"It's not sunny outside!\")"
   ]
  },
  {
   "cell_type": "code",
   "execution_count": null,
   "id": "8c385d05-7e9a-46b7-9bd1-979f2578b2ba",
   "metadata": {},
   "outputs": [],
   "source": [
    "# ekstra wyjaśnienie do powyższego kodu, zaprzeczenie `None` zwraca `True`\n",
    "print(not None)\n",
    "# identycznie jak w przypadku `None`, zaprzeczenie `False` zwraca `True`\n",
    "print(not False)\n",
    "# więc jeżeli jakaś zmienna zawiera `None` i źle zbudujemy warunek przy `if` lub `elif`\n",
    "# wówczas może się okazać, że blok `if` lub `elif` zostanie wykonany, mimo że nie powinien"
   ]
  },
  {
   "cell_type": "code",
   "execution_count": null,
   "id": "fe5ea8fb-2581-4a28-a2ec-2716d90d4b38",
   "metadata": {},
   "outputs": [],
   "source": [
    "is_sunny = None\n",
    "\n",
    "# dopiero gdy sprawdzimy czy is_sunny jest różne od None, to możemy sprawdzić czy jest True czy False\n",
    "if is_sunny is not None:\n",
    "    if is_sunny:\n",
    "        print(\"It's sunny outside!\")\n",
    "    else:\n",
    "        print(\"It's not sunny outside!\")\n",
    "else:\n",
    "    print(\"We do not know\")"
   ]
  },
  {
   "cell_type": "code",
   "execution_count": null,
   "id": "48c759d0-43dc-4489-9733-aa8998b2868d",
   "metadata": {},
   "outputs": [],
   "source": []
  }
 ],
 "metadata": {
  "kernelspec": {
   "display_name": "Python 3 (ipykernel)",
   "language": "python",
   "name": "python3"
  },
  "language_info": {
   "codemirror_mode": {
    "name": "ipython",
    "version": 3
   },
   "file_extension": ".py",
   "mimetype": "text/x-python",
   "name": "python",
   "nbconvert_exporter": "python",
   "pygments_lexer": "ipython3",
   "version": "3.11.3"
  }
 },
 "nbformat": 4,
 "nbformat_minor": 5
}
