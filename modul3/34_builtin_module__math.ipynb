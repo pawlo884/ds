{
 "cells": [
  {
   "cell_type": "markdown",
   "metadata": {},
   "source": [
    "## Czym jest moduł `math`?\n",
    "\n",
    "* jest zbiorem różnych funkcji matematycznych.\n",
    "* możemy w nim znaleźć funkcje do pracy z liczbami, takich jak:\n",
    "    * obliczanie wartości trygonometrycznych,\n",
    "    * logarytmów,\n",
    "    * potęg\n",
    "    * czy wartości zaokrąglonych.\n",
    "* Jest to jeden z podstawowych modułów, który dostarcza Python, więc nie trzeba go instalować osobno. "
   ]
  },
  {
   "cell_type": "markdown",
   "metadata": {},
   "source": [
    "## Przykłady"
   ]
  },
  {
   "cell_type": "markdown",
   "metadata": {},
   "source": [
    "### Stałe matematyczne\n",
    "\n",
    "- `math.pi`: Liczba pi, czyli stosunek obwodu koła do jego średnicy (~3.14159)\n"
   ]
  },
  {
   "cell_type": "code",
   "execution_count": null,
   "metadata": {},
   "outputs": [],
   "source": [
    "import math\n",
    "\n",
    "print(math.pi)  # Wyjście: 3.141592653589793"
   ]
  },
  {
   "cell_type": "markdown",
   "metadata": {},
   "source": [
    "\n",
    "- `math.e`: Liczba Eulera, podstawa logarytmu naturalnego (~2.71828)\n"
   ]
  },
  {
   "cell_type": "code",
   "execution_count": null,
   "metadata": {},
   "outputs": [],
   "source": [
    "import math\n",
    "\n",
    "print(math.e)  # Wyjście: 2.718281828459045"
   ]
  },
  {
   "cell_type": "markdown",
   "metadata": {},
   "source": [
    "### Funkcje arytmetyczne\n",
    "\n",
    "- `math.sqrt(x)`: Zwraca pierwiastek kwadratowy z `x`\n"
   ]
  },
  {
   "cell_type": "code",
   "execution_count": null,
   "metadata": {},
   "outputs": [],
   "source": [
    "import math\n",
    "\n",
    "print(math.sqrt(16))  # Wyjście: 4.0"
   ]
  },
  {
   "cell_type": "markdown",
   "metadata": {},
   "source": [
    "\n",
    "- `math.pow(x, y)`: Zwraca wartość `x` podniesioną do potęgi `y`\n"
   ]
  },
  {
   "cell_type": "code",
   "execution_count": null,
   "metadata": {},
   "outputs": [],
   "source": [
    "import math\n",
    "\n",
    "print(math.pow(2, 3))  # Wyjście: 8.0"
   ]
  },
  {
   "cell_type": "markdown",
   "metadata": {},
   "source": [
    "### Trygonometria\n",
    "\n",
    "- `math.sin(x)`: Zwraca sinus `x` (gdzie `x` jest w radianach)\n"
   ]
  },
  {
   "cell_type": "code",
   "execution_count": null,
   "metadata": {},
   "outputs": [],
   "source": [
    "import math\n",
    "\n",
    "print(math.sin(math.pi / 2))  # Wyjście: 1.0"
   ]
  },
  {
   "cell_type": "markdown",
   "metadata": {},
   "source": [
    "\n",
    "- `math.cos(x)`: Zwraca cosinus `x` (gdzie `x` jest w radianach)\n"
   ]
  },
  {
   "cell_type": "code",
   "execution_count": null,
   "metadata": {},
   "outputs": [],
   "source": [
    "import math\n",
    "\n",
    "print(math.cos(0))  # Wyjście: 1.0"
   ]
  },
  {
   "cell_type": "markdown",
   "metadata": {},
   "source": [
    "### Logarytmy i wykładniki\n",
    "\n",
    "- `math.log(x)`: Zwraca logarytm naturalny `x` (logarytm o podstawie `e`)\n"
   ]
  },
  {
   "cell_type": "code",
   "execution_count": null,
   "metadata": {},
   "outputs": [],
   "source": [
    "import math\n",
    "\n",
    "print(math.log(1))  # Wyjście: 0.0"
   ]
  },
  {
   "cell_type": "markdown",
   "metadata": {},
   "source": [
    "\n",
    "- `math.log10(x)`: Zwraca logarytm o podstawie 10 z `x`\n"
   ]
  },
  {
   "cell_type": "code",
   "execution_count": null,
   "metadata": {},
   "outputs": [],
   "source": [
    "import math\n",
    "\n",
    "print(math.log10(100))  # Wyjście: 2.0"
   ]
  },
  {
   "cell_type": "markdown",
   "metadata": {},
   "source": [
    "### Zaokrąglanie\n",
    "\n",
    "- `math.ceil(x)`: Zwraca najmniejszą liczbę całkowitą większą lub równą `x`\n"
   ]
  },
  {
   "cell_type": "code",
   "execution_count": null,
   "metadata": {},
   "outputs": [],
   "source": [
    "import math\n",
    "\n",
    "print(math.ceil(4.3))  # Wyjście: 5"
   ]
  },
  {
   "cell_type": "markdown",
   "metadata": {},
   "source": [
    "\n",
    "- `math.floor(x)`: Zwraca największą liczbę całkowitą mniejszą lub równą `x`\n"
   ]
  },
  {
   "cell_type": "code",
   "execution_count": null,
   "metadata": {},
   "outputs": [],
   "source": [
    "import math\n",
    "\n",
    "print(math.floor(4.7))  # Wyjście: 4"
   ]
  },
  {
   "cell_type": "markdown",
   "metadata": {},
   "source": [
    "### Przykład z życia codziennego\n",
    "\n",
    "Wyobraź sobie, że chcesz obliczyć długość przeciwprostokątnej trójkąta prostokątnego, mając dane długości jego przyprostokątnych (np. 3 i 4 jednostki). Możesz skorzystać z twierdzenia Pitagorasa:\n"
   ]
  },
  {
   "cell_type": "code",
   "execution_count": null,
   "metadata": {},
   "outputs": [],
   "source": [
    "import math\n",
    "\n",
    "def dlugosc_przeciwprostokatnej(a, b):\n",
    "    return math.sqrt(math.pow(a, 2) + math.pow(b, 2))\n",
    "\n",
    "przyprostokatna1 = 3\n",
    "przyprostokatna2 = 4\n",
    "\n",
    "przeciwprostokatna = dlugosc_przeciwprostokatnej(przyprostokatna1, przyprostokatna2)\n",
    "print(przeciwprostokatna)  # Wyjście: 5.0"
   ]
  }
 ],
 "metadata": {
  "kernelspec": {
   "display_name": "Python 3 (ipykernel)",
   "language": "python",
   "name": "python3"
  },
  "language_info": {
   "codemirror_mode": {
    "name": "ipython",
    "version": 3
   },
   "file_extension": ".py",
   "mimetype": "text/x-python",
   "name": "python",
   "nbconvert_exporter": "python",
   "pygments_lexer": "ipython3",
   "version": "3.11.3"
  }
 },
 "nbformat": 4,
 "nbformat_minor": 4
}
