{
 "cells": [
  {
   "cell_type": "code",
   "execution_count": null,
   "metadata": {},
   "outputs": [],
   "source": [
    "import pandas as pd"
   ]
  },
  {
   "cell_type": "markdown",
   "metadata": {},
   "source": [
    "# Grupowanie i agregacja danych w Pandas\n",
    "\n",
    "Przygotujmy dane, które posłużą nam do zilustrowania grupowania i agregacji w Pandas."
   ]
  },
  {
   "cell_type": "code",
   "execution_count": null,
   "metadata": {},
   "outputs": [],
   "source": [
    "df = pd.DataFrame({\n",
    "    'Name': ['Alice', 'Bob', 'Charlie', 'David', 'Emma', 'Frank', 'Grace', 'Hannah'],\n",
    "    'Age': [25, 30, 35, 40, 25, 35, 30, 40],\n",
    "    'City': ['New York', 'Los Angeles', 'Los Angeles', 'Houston', 'New York', 'Chicago', 'Los Angeles', 'Houston'],\n",
    "    'Salary': [70000, 80000, 120000, 100000, 90000, 110000, 95000, 105000],\n",
    "    'Department': ['HR', 'Finance', 'Engineering', 'Engineering', 'HR', 'Engineering', 'Finance', 'HR']\n",
    "})\n",
    "\n",
    "df"
   ]
  },
  {
   "cell_type": "markdown",
   "metadata": {},
   "source": [
    "## Jak obliczyć średnią płacę w każdym z miast?"
   ]
  },
  {
   "cell_type": "code",
   "execution_count": null,
   "metadata": {},
   "outputs": [],
   "source": [
    "df.groupby('City', as_index=False)['Salary'].mean()"
   ]
  },
  {
   "cell_type": "markdown",
   "metadata": {},
   "source": [
    "## Jak obliczyć mediana płacy w każdym z miast?"
   ]
  },
  {
   "cell_type": "code",
   "execution_count": null,
   "metadata": {},
   "outputs": [],
   "source": [
    "df.groupby('City', as_index=False)['Salary'].median()"
   ]
  },
  {
   "cell_type": "markdown",
   "metadata": {},
   "source": [
    "## Jak obliczyć ile jest osób w każdym mieście?"
   ]
  },
  {
   "cell_type": "code",
   "execution_count": null,
   "metadata": {},
   "outputs": [],
   "source": [
    "df.groupby('City', as_index=False)['Salary'].count()"
   ]
  },
  {
   "cell_type": "markdown",
   "metadata": {},
   "source": [
    "## Jak obliczyć ile jest osób w każdym mieście oraz ile wynosi średnia pensja w każdym mieście?"
   ]
  },
  {
   "cell_type": "code",
   "execution_count": null,
   "metadata": {},
   "outputs": [],
   "source": [
    "agg_df = df.groupby('City', as_index=False).agg({'Salary': ['mean', 'median', 'count']})\n",
    "agg_df"
   ]
  },
  {
   "cell_type": "code",
   "execution_count": null,
   "metadata": {},
   "outputs": [],
   "source": [
    "agg_df.columns"
   ]
  },
  {
   "cell_type": "code",
   "execution_count": null,
   "metadata": {},
   "outputs": [],
   "source": [
    "# zmieńmy nazwy kolumn, aby pozbyć się wielopoziomowego indeksu\n",
    "agg_df.columns = ['City', 'Salary Mean', 'Salary Median', 'City Count']\n",
    "agg_df"
   ]
  },
  {
   "cell_type": "markdown",
   "metadata": {},
   "source": [
    "## Oblicz min, max, średnia, medianę i odchylenie standardowe dla wieku i zarobków"
   ]
  },
  {
   "cell_type": "code",
   "execution_count": null,
   "metadata": {},
   "outputs": [],
   "source": [
    "df.groupby('City', as_index=False).agg({\n",
    "    'Age': ['min', 'max', 'mean', 'median', 'std'],\n",
    "    'Salary': ['min', 'max', 'mean', 'median', 'std'],\n",
    "})"
   ]
  },
  {
   "cell_type": "markdown",
   "metadata": {},
   "source": [
    "## Jak pogrupować po dwóch kolumnach?"
   ]
  },
  {
   "cell_type": "code",
   "execution_count": null,
   "metadata": {},
   "outputs": [],
   "source": [
    "# pokażmy oryginalny DataFrame dla porównania\n",
    "df"
   ]
  },
  {
   "cell_type": "code",
   "execution_count": null,
   "metadata": {},
   "outputs": [],
   "source": [
    "df.groupby(['City', 'Department'])[['Salary']].mean().reset_index()"
   ]
  },
  {
   "cell_type": "markdown",
   "metadata": {},
   "source": [
    "## Jak użyć grupowania do radzenia sobie z duplikatami?"
   ]
  },
  {
   "cell_type": "code",
   "execution_count": null,
   "metadata": {},
   "outputs": [],
   "source": [
    "people_df = pd.DataFrame([\n",
    "    {'Name': 'Alice', 'Age': 25, 'City': 'New York', 'Salary': 70000, 'Department': 'HR'},\n",
    "    {'Name': 'Alice', 'Age': 26, 'City': 'Los Angeles', 'Salary': 80000, 'Department': 'HR'},\n",
    "])\n",
    "people_df"
   ]
  },
  {
   "cell_type": "code",
   "execution_count": null,
   "metadata": {},
   "outputs": [],
   "source": [
    "# Zamiast usuwać duplikaty, możemy je zagregować.\n",
    "# Na przykład, możemy zsumować wynagrodzenia osób o tych samych imionach.\n",
    "people_df.groupby('Name', as_index=False).agg({\n",
    "    'Age': 'first',  # Zatrzymanie pierwszej wartości wieku\n",
    "    'City': 'last',  # Zatrzymanie ostatniej wartości miasta\n",
    "    'Salary': 'mean'  # średnie wynagrodzeń\n",
    "})"
   ]
  },
  {
   "cell_type": "markdown",
   "metadata": {},
   "source": [
    "## Jak grupować po datach?"
   ]
  },
  {
   "cell_type": "code",
   "execution_count": null,
   "metadata": {},
   "outputs": [],
   "source": [
    "df = pd.DataFrame({\n",
    "    'Name': ['Alice', 'Bob', 'Charlie', 'David', 'Emma', 'Frank', 'Grace', 'Hannah'],\n",
    "    'Hire Date': ['2024-07-15', '2019-07-23', '2018-03-14', '2021-06-01', '2017-11-30', '2022-02-15', '2019-12-25', '2020-05-10'],\n",
    "    'Department': ['HR', 'Finance', 'Engineering', 'Engineering', 'HR', 'Engineering', 'Finance', 'HR'],\n",
    "    'Salary': [70000, 80000, 120000, 100000, 90000, 110000, 95000, 105000]\n",
    "})\n",
    "df['Hire Date'] = pd.to_datetime(df['Hire Date'])\n",
    "df"
   ]
  },
  {
   "cell_type": "code",
   "execution_count": null,
   "metadata": {},
   "outputs": [],
   "source": [
    "df.groupby(df['Hire Date'].dt.year)['Salary'].mean().reset_index()"
   ]
  },
  {
   "cell_type": "code",
   "execution_count": null,
   "metadata": {},
   "outputs": [],
   "source": []
  }
 ],
 "metadata": {
  "kernelspec": {
   "display_name": "Python 3 (ipykernel)",
   "language": "python",
   "name": "python3"
  },
  "language_info": {
   "codemirror_mode": {
    "name": "ipython",
    "version": 3
   },
   "file_extension": ".py",
   "mimetype": "text/x-python",
   "name": "python",
   "nbconvert_exporter": "python",
   "pygments_lexer": "ipython3",
   "version": "3.11.3"
  }
 },
 "nbformat": 4,
 "nbformat_minor": 4
}
