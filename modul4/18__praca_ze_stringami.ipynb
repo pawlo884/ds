{
 "cells": [
  {
   "cell_type": "code",
   "execution_count": null,
   "metadata": {},
   "outputs": [],
   "source": [
    "import pandas as pd"
   ]
  },
  {
   "cell_type": "markdown",
   "metadata": {},
   "source": [
    "# Jak pracować z łańcuchami znaków (stringami) w Pandas?\n",
    "\n",
    "Zanim zacznimy stwórzmy sobie przykładowy DataFrame, który będziemy wykorzystywać do omawiania różnych operacji na łańcuchach znaków."
   ]
  },
  {
   "cell_type": "code",
   "execution_count": null,
   "metadata": {},
   "outputs": [],
   "source": [
    "df = pd.DataFrame({\n",
    "    'Name': ['Alice Smith', 'Bob Johnson', 'Charlie Brown', 'David Wilson', 'Emma Davis'],\n",
    "    'Email': ['alice@example.com', 'bob@gmail.com', 'charlie@example.com', 'david@wp.pl', 'emma@example.com'],\n",
    "    'City': ['New York', 'Los Angeles', 'Chicago', 'Houston', 'Phoenix']\n",
    "})\n",
    "\n",
    "df"
   ]
  },
  {
   "cell_type": "markdown",
   "metadata": {},
   "source": [
    "## Jak rozdzielić łańcuch znaków na dwie kolumny?"
   ]
  },
  {
   "cell_type": "code",
   "execution_count": null,
   "metadata": {},
   "outputs": [],
   "source": [
    "df[['First Name', 'Last Name']] = df['Name'].str.split(' ', expand=True)\n",
    "df"
   ]
  },
  {
   "cell_type": "markdown",
   "metadata": {},
   "source": [
    "## Jak zmienić wielkość liter w kolumnie?"
   ]
  },
  {
   "cell_type": "code",
   "execution_count": null,
   "metadata": {},
   "outputs": [],
   "source": [
    "df['City Upper'] = df['City'].str.upper()\n",
    "\n",
    "df"
   ]
  },
  {
   "cell_type": "markdown",
   "metadata": {},
   "source": [
    "## Jak kapitalizować pierwszą literę w kolumnie?"
   ]
  },
  {
   "cell_type": "code",
   "execution_count": null,
   "metadata": {},
   "outputs": [],
   "source": [
    "df['Email Capitalized'] = df['Email'].str.title()\n",
    "\n",
    "df"
   ]
  },
  {
   "cell_type": "markdown",
   "metadata": {},
   "source": [
    "## Jak sprawdzić czy łańcuch znaków zawiera podłańcuch?"
   ]
  },
  {
   "cell_type": "code",
   "execution_count": null,
   "metadata": {},
   "outputs": [],
   "source": [
    "df['Email Contains \"example\"'] = df['Email'].str.contains('example')\n",
    "\n",
    "df"
   ]
  },
  {
   "cell_type": "markdown",
   "metadata": {},
   "source": [
    "## Jak zastąpić podłańcuch w kolumnie?"
   ]
  },
  {
   "cell_type": "code",
   "execution_count": null,
   "metadata": {},
   "outputs": [],
   "source": [
    "df['Email Updated'] = df['Email'].str.replace('example.com', 'mail.com')\n",
    "\n",
    "df[[\"Email\", \"Email Updated\"]]"
   ]
  },
  {
   "cell_type": "markdown",
   "metadata": {},
   "source": [
    "## Jak wyodrębnić podłańcuch z kolumny?"
   ]
  },
  {
   "cell_type": "code",
   "execution_count": null,
   "metadata": {},
   "outputs": [],
   "source": [
    "df['Username'] = df['Email'].str.split('@').str[0]\n",
    "df['Username'] = df['Username'].str.title()\n",
    "\n",
    "df[['Email', 'Username']]"
   ]
  },
  {
   "cell_type": "markdown",
   "metadata": {},
   "source": [
    "## Jak połączyć dwie kolumny w jedną?"
   ]
  },
  {
   "cell_type": "code",
   "execution_count": null,
   "metadata": {},
   "outputs": [],
   "source": [
    "df['Username With City'] = df['Username'] + ' from ' + df['City']\n",
    "\n",
    "df[[\"Username\", \"City\", \"Username With City\"]]"
   ]
  },
  {
   "cell_type": "markdown",
   "metadata": {},
   "source": [
    "## Jak obliczyć długość łańcucha w kolumnie?"
   ]
  },
  {
   "cell_type": "code",
   "execution_count": null,
   "metadata": {},
   "outputs": [],
   "source": [
    "df[\"City Length\"] = df[\"City\"].str.len()\n",
    "\n",
    "df[[\"City\", \"City Length\"]]"
   ]
  }
 ],
 "metadata": {
  "kernelspec": {
   "display_name": "Python 3 (ipykernel)",
   "language": "python",
   "name": "python3"
  },
  "language_info": {
   "codemirror_mode": {
    "name": "ipython",
    "version": 3
   },
   "file_extension": ".py",
   "mimetype": "text/x-python",
   "name": "python",
   "nbconvert_exporter": "python",
   "pygments_lexer": "ipython3",
   "version": "3.11.3"
  }
 },
 "nbformat": 4,
 "nbformat_minor": 4
}
