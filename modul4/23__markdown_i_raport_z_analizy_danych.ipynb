{
 "cells": [
  {
   "cell_type": "markdown",
   "metadata": {},
   "source": [
    "# Markdown, czyli jak formatować tekst w Notebookach?"
   ]
  },
  {
   "cell_type": "markdown",
   "metadata": {},
   "source": [
    "## Co to jest Markdown?\n",
    "\n",
    "Markdown to język znaczników, który pozwala na formatowanie tekstu w prosty sposób. Jest to bardzo popularny format, który jest używany w wielu miejscach, np. na GitHubie, w dokumentacji, czy w komentarzach na stronach internetowych."
   ]
  },
  {
   "cell_type": "markdown",
   "metadata": {},
   "source": [
    "## Dodawanie nagłówków\n",
    "\n",
    "* Aby dodać nagłówek, wystarczy dodać znak `#` przed tekstem. \n",
    "* Im więcej znaków `#`, tym mniejszy nagłówek.\n",
    "* Nagłówki pozwalają nam budować **Spis treści**!\n",
    "\n",
    "```markdown\n",
    "# Nagłówek 1\n",
    "\n",
    "## Nagłówek 2\n",
    "\n",
    "### Nagłówek 3\n",
    "\n",
    "#### Nagłówek 4\n",
    "```\n",
    "\n",
    "* Najczęstszy błąd to brak spacji po znaku `#`!"
   ]
  },
  {
   "cell_type": "markdown",
   "metadata": {},
   "source": [
    "## Pogrubianie tekstu\n",
    "\n",
    "Aby pogrubiać tekst, wystarczy umieścić go między dwoma gwiazdkami `**`.\n",
    "\n",
    "```markdown\n",
    "**To jest pogrubiony tekst**\n",
    "```\n",
    "wówczas dostaniemy:\n",
    "\n",
    "**To jest pogrubiony tekst**\n",
    "\n",
    "## Kursywa\n",
    "\n",
    "Aby zaznaczyć tekst kursywą, wystarczy umieścić go między jednym gwiazdkami `*`.\n",
    "\n",
    "```markdown\n",
    "*To jest kursywa*\n",
    "```\n",
    "wówczas dostaniemy:\n",
    "\n",
    "*To jest kursywa*"
   ]
  },
  {
   "cell_type": "markdown",
   "metadata": {},
   "source": [
    "## Cytaty\n",
    "\n",
    "Aby zaznaczyć tekst jako cytat, wystarczy umieścić go między znakami `>`.\n",
    "\n",
    "```markdown\n",
    "> To jest cytat\n",
    "```\n",
    "\n",
    "wówczas dostaniemy:\n",
    "\n",
    "> To jest cytat"
   ]
  },
  {
   "cell_type": "markdown",
   "metadata": {
    "vscode": {
     "languageId": "plaintext"
    }
   },
   "source": [
    "## Listy uporządkowane\n",
    "\n",
    "Aby dodać listę uporządkowaną, wystarczy użyć numeracji.\n",
    "\n",
    "```markdown\n",
    "1. Pierwszy element\n",
    "1. Drugi element\n",
    "1. Trzeci element\n",
    "```\n",
    "\n",
    "wówczas dostaniemy:\n",
    "\n",
    "1. Pierwszy element\n",
    "1. Drugi element\n",
    "1. Trzeci element"
   ]
  },
  {
   "cell_type": "markdown",
   "metadata": {},
   "source": [
    "## Listy nieuporządkowane\n",
    "\n",
    "Aby dodać listę nieuporządkowaną, wystarczy użyć gwiazdek \n",
    "\n",
    "```markdown\n",
    "- Pierwszy element\n",
    "- Drugi element\n",
    "- Trzeci element\n",
    "```\n",
    "\n",
    "wówczas dostaniemy:\n",
    "\n",
    "- Pierwszy element\n",
    "- Drugi element\n",
    "- Trzeci element\n"
   ]
  },
  {
   "cell_type": "markdown",
   "metadata": {
    "vscode": {
     "languageId": "plaintext"
    }
   },
   "source": [
    "## Dodawanie kodu - inline\n",
    "\n",
    "Aby dodać kod wewnątrz tekstu, wystarczy umieścić go między znakami ``.\n",
    "\n",
    "```markdown\n",
    "To jest kod: `print(\"Hello, World!\")`\n",
    "```\n",
    "\n",
    "wówczas dostaniemy:\n",
    "\n",
    "To jest kod: `print(\"Hello, World!\")`\n",
    "\n"
   ]
  },
  {
   "cell_type": "markdown",
   "metadata": {
    "vscode": {
     "languageId": "plaintext"
    }
   },
   "source": [
    "## Dodawanie kodu - blok\n",
    "\n",
    "Aby dodać blok kodu, wystarczy umieścić go między trzema znakami ```.\n",
    "\n",
    "\\```python \\\n",
    "print(\"Hello, World!\") \\\n",
    "\\```\n",
    "\n",
    "wówczas dostaniemy:\n",
    "\n",
    "```python\n",
    "print(\"Hello, World!\")\n",
    "```"
   ]
  },
  {
   "cell_type": "markdown",
   "metadata": {},
   "source": [
    "## Dodawanie linków\n",
    "\n",
    "Aby dodać link, wystarczy umieścić tekst w nawiasach kwadratowych `[]`, a adres w nawiasach okrągłych `()`.\n",
    "\n",
    "```markdown\n",
    "[Link do Google](https://www.google.com)\n",
    "```\n",
    "\n",
    "wówczas dostaniemy:\n",
    "\n",
    "[Link do Google](https://www.google.com)"
   ]
  },
  {
   "cell_type": "markdown",
   "metadata": {
    "vscode": {
     "languageId": "plaintext"
    }
   },
   "source": [
    "## Dodawanie obrazków\n",
    "\n",
    "Aby dodać obrazek, wystarczy umieścić tekst w nawiasach kwadratowych `[]`, a adres obrazka w nawiasach okrągłych `()`.\n",
    "\n",
    "```markdown\n",
    "![Opis obrazka](https://www.google.com/images/branding/googlelogo/1x/googlelogo_color_272x92dp.png)\n",
    "```\n",
    "\n",
    "wówczas dostaniemy:\n",
    "\n",
    "![Opis obrazka](https://www.google.com/images/branding/googlelogo/1x/googlelogo_color_272x92dp.png)"
   ]
  }
 ],
 "metadata": {
  "kernelspec": {
   "display_name": "Python 3 (ipykernel)",
   "language": "python",
   "name": "python3"
  },
  "language_info": {
   "codemirror_mode": {
    "name": "ipython",
    "version": 3
   },
   "file_extension": ".py",
   "mimetype": "text/x-python",
   "name": "python",
   "nbconvert_exporter": "python",
   "pygments_lexer": "ipython3",
   "version": "3.11.3"
  }
 },
 "nbformat": 4,
 "nbformat_minor": 4
}
