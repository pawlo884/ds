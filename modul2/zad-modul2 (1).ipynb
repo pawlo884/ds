{
 "cells": [
  {
   "cell_type": "markdown",
   "id": "24c6f3fb-5d3b-4b8f-8f1a-7697d055d350",
   "metadata": {},
   "source": [
    "# Zadanie domowe\n",
    "\n",
    "* Zadanie domowe polega na analizie danych z Półmaratonu Wrocław 2023.\n",
    "* Przeprowadź analizę analogiczną do tej z Półmaratonu Wrocław 2024.\n",
    "* Należy skorzystać z Data Chattera lub Jupyter Notebook\n",
    "* Data Chatter potrzebne do analizy dane już posiada\n",
    "* Osoby korzystające z Jupyter Notebooka powinny pobrać notebook załączony poniżej i od niego zacząć pracę!\n",
    "* Link do notebooka znajduje się pod video!\n",
    "* Sposób dostarczenia zadania:\n",
    "   * Screenshot waszej analizy LUB\n",
    "   * Nagrane video bez lub z komentarzem (do wyboru)\n",
    "\n",
    "Powodzenia!!! I mega zabawy!"
   ]
  },
  {
   "cell_type": "code",
   "execution_count": 4,
   "id": "502ba0b1-246a-45c7-9ee1-9b4f2a4a3dd0",
   "metadata": {},
   "outputs": [],
   "source": [
    "# te linijki upewniają się, że zawsze macie najnowsze wersje date-a-scientist\n",
    "!pip install --quiet -U date-a-scientist\n",
    "# !pip freeze | grep date-a-scientist  # macos + linux -> odkomentuj żeby sprawdzić wersję\n",
    "# !pip freeze | findstr date-a-scientist  # windows -> odkomentuj żeby sprawdzić wersję"
   ]
  },
  {
   "cell_type": "code",
   "execution_count": 5,
   "id": "d6468865-34a9-402c-a43f-b4dc2dfebfd1",
   "metadata": {},
   "outputs": [],
   "source": [
    "from date_a_scientist import DateAScientist\n",
    "import pandas as pd\n",
    "\n",
    "pd.options.display.max_columns = None\n",
    "\n",
    "ds = DateAScientist(\n",
    "    # date-a-scientist potrafi pobierać dane z internetu!\n",
    "    df=\"https://drive.google.com/uc?export=download&id=121kjpjzmGr-EfFU8tsqS4TccU7Iw1--6&sep=%3B&encoding=utf-8\",\n",
    "    column_descriptions=\"https://drive.google.com/uc?export=download&id=1GjWB4PAko3o49vwFABbavRFjHOA3mH4c\",\n",
    ")"
   ]
  },
  {
   "cell_type": "code",
   "execution_count": 6,
   "id": "ffa3e4f7-6a33-4565-92e0-384b49693af8",
   "metadata": {},
   "outputs": [
    {
     "name": "stdout",
     "output_type": "stream",
     "text": [
      "Please enter your OpenAI API token:  ········\n"
     ]
    },
    {
     "data": {
      "text/plain": [
       "8950"
      ]
     },
     "execution_count": 6,
     "metadata": {},
     "output_type": "execute_result"
    }
   ],
   "source": [
    "ds.chat(\"Pokaż ile jest rekordów\")"
   ]
  },
  {
   "cell_type": "code",
   "execution_count": null,
   "id": "89815b7e-14a0-409d-8ce7-5502c8969605",
   "metadata": {},
   "outputs": [],
   "source": []
  }
 ],
 "metadata": {
  "kernelspec": {
   "display_name": "Python 3 (ipykernel)",
   "language": "python",
   "name": "python3"
  },
  "language_info": {
   "codemirror_mode": {
    "name": "ipython",
    "version": 3
   },
   "file_extension": ".py",
   "mimetype": "text/x-python",
   "name": "python",
   "nbconvert_exporter": "python",
   "pygments_lexer": "ipython3",
   "version": "3.11.3"
  }
 },
 "nbformat": 4,
 "nbformat_minor": 5
}
