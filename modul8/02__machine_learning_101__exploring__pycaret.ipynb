{
 "cells": [
  {
   "cell_type": "markdown",
   "metadata": {},
   "source": [
    "![](https://github.com/pycaret/pycaret/raw/master/docs/images/logo.png)\n",
    "\n",
    "# Czym jest PyCaret?\n",
    "\n",
    "* `PyCaret` to otwarta biblioteka do uczenia maszynowego w Pythonie, która pozwala na szybkie prototypowanie modeli. \n",
    "* `PyCaret` jest zbudowany w oparciu o biblioteki takie jak scikit-learn, XGBoost, LightGBM, CatBoost, spaCy, Optuna, Hyperopt, Ray itp. \n",
    "* Pozwala na szybkie tworzenie modeli, wybór najlepszego modelu, strojenie hiperparametrów, porównywanie modeli, analizę wyników i wiele innych."
   ]
  },
  {
   "cell_type": "markdown",
   "metadata": {},
   "source": [
    "## importy"
   ]
  },
  {
   "cell_type": "markdown",
   "metadata": {},
   "source": [
    "Dla klasyfikacji:\n",
    "\n",
    "```python\n",
    "from pycaret.classification import (\n",
    "    setup, \n",
    "    compare_models, \n",
    "    create_model, \n",
    "    plot_model, \n",
    "    finalize_model, \n",
    "    save_model, \n",
    "    load_model, \n",
    "    predict_model,\n",
    ")\n",
    "```\n",
    "\n",
    "Dla regresji:\n",
    "\n",
    "```python\n",
    "from pycaret.regression import (\n",
    "    setup, \n",
    "    compare_models, \n",
    "    create_model, \n",
    "    plot_model, \n",
    "    finalize_model, \n",
    "    save_model, \n",
    "    load_model, \n",
    "    predict_model,\n",
    ")\n",
    "```\n",
    "\n",
    "Dla klastrowania:\n",
    "\n",
    "```python\n",
    "from pycaret.clustering import (\n",
    "    setup, \n",
    "    create_model, \n",
    "    plot_model, \n",
    "    save_model, \n",
    "    load_model, \n",
    "    predict_model,\n",
    ")\n",
    "```"
   ]
  },
  {
   "cell_type": "markdown",
   "metadata": {},
   "source": [
    "## `setup` - konfiguracja sesji treningowej\n",
    "\n",
    "### `setup` - funkcja, która inicjalizuje środowisko w PyCaret i przygotowuje dane do modelowania. \n",
    "\n",
    "```python\n",
    "setup(data=df, target='price', session_id=123)\n",
    "```"
   ]
  },
  {
   "cell_type": "markdown",
   "metadata": {},
   "source": [
    "## `create_model` / `compare_models`  (nie dla klastrowania) - tworzenie modelu\n",
    "\n",
    "### `create_model` - funkcja, która tworzy model i zwraca tabelę z wynikami walidacji krzyżowej (cross-validation).\n",
    "```python\n",
    "lr_model = create_model('lr')\n",
    "```\n",
    "\n",
    "### `compare_models` - funkcja, która porównuje wszystkie dostępne modele i zwraca tabelę z wynikami walidacji krzyżowej (cross-validation).\n",
    "```python\n",
    "best_model = compare_models()\n",
    "```"
   ]
  },
  {
   "cell_type": "markdown",
   "metadata": {},
   "source": [
    "## `plot_model` - wizualizacja modelu i jego wyników"
   ]
  },
  {
   "cell_type": "markdown",
   "metadata": {},
   "source": [
    "### `plot_model` - funkcja, która wizualizuje wyniki modelu.\n",
    "```python\n",
    "plot_model(lr_model, plot='feature')\n",
    "plot_model(lr_model, plot='confusion_matrix')\n",
    "```"
   ]
  },
  {
   "cell_type": "markdown",
   "metadata": {},
   "source": [
    "## `finalize_model` - finalizacja modelu (nie dla klastrowania)"
   ]
  },
  {
   "cell_type": "markdown",
   "metadata": {},
   "source": [
    "### `finalize_model` - funkcja, która finalizuje model, czyli trenuje go na całym zbiorze danych.\n",
    "```python\n",
    "final_lr_model = finalize_model(lr_model)\n",
    "```"
   ]
  },
  {
   "cell_type": "markdown",
   "metadata": {},
   "source": [
    "## `save_model` - zapis modelu"
   ]
  },
  {
   "cell_type": "markdown",
   "metadata": {},
   "source": [
    "### `save_model` - funkcja, która zapisuje model do pliku.\n",
    "```python\n",
    "save_model(final_lr_model, 'final_lr_model')\n",
    "```"
   ]
  },
  {
   "cell_type": "markdown",
   "metadata": {},
   "source": [
    "## `load_model` - wczytanie modelu"
   ]
  },
  {
   "cell_type": "markdown",
   "metadata": {},
   "source": [
    "### `load_model` - funkcja, która wczytuje model z pliku.\n",
    "```python\n",
    "loaded_lr_model = load_model('final_lr_model')\n",
    "```"
   ]
  },
  {
   "cell_type": "markdown",
   "metadata": {
    "vscode": {
     "languageId": "plaintext"
    }
   },
   "source": [
    "## `predict_model` - predykcja na podstawie modelu"
   ]
  },
  {
   "cell_type": "markdown",
   "metadata": {},
   "source": [
    "### `predict_model` - funkcja, która dokonuje predykcji na podstawie modelu.\n",
    "```python\n",
    "predictions = predict_model(loaded_lr_model, data=new_df)\n",
    "```"
   ]
  },
  {
   "cell_type": "markdown",
   "metadata": {},
   "source": [
    "## Modele kontra Pipeline?\n",
    "\n",
    "- **Model**: Odnosi się do konkretnego algorytmu uczenia maszynowego, który jest trenowany na danych, np. `Logistic Regression`, `Random Forest`, `KMeans`, itp. Modele są używane do przewidywania wyników na podstawie danych wejściowych.\n",
    "\n",
    "- **Pipeline**: To sekwencja operacji, które obejmują pełen proces przetwarzania danych i uruchamianie modelu. Pipeline w PyCaret automatycznie łączy etapy takie jak skalowanie, kodowanie, usuwanie brakujących danych, a na końcu uruchamianie wybranego modelu. Dzięki Pipeline cały proces od surowych danych do gotowego modelu jest spójny i zautomatyzowany."
   ]
  }
 ],
 "metadata": {
  "kernelspec": {
   "display_name": "Python 3 (ipykernel)",
   "language": "python",
   "name": "python3"
  },
  "language_info": {
   "codemirror_mode": {
    "name": "ipython",
    "version": 3
   },
   "file_extension": ".py",
   "mimetype": "text/x-python",
   "name": "python",
   "nbconvert_exporter": "python",
   "pygments_lexer": "ipython3",
   "version": "3.11.9"
  }
 },
 "nbformat": 4,
 "nbformat_minor": 4
}
