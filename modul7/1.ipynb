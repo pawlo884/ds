{
 "cells": [
  {
   "cell_type": "code",
   "execution_count": 1,
   "id": "cf98214a",
   "metadata": {},
   "outputs": [
    {
     "name": "stderr",
     "output_type": "stream",
     "text": [
      "c:\\Users\\pawlo\\Desktop\\kodowanie\\datascientist\\.venv\\Lib\\site-packages\\pydub\\utils.py:170: RuntimeWarning: Couldn't find ffmpeg or avconv - defaulting to ffmpeg, but may not work\n",
      "  warn(\"Couldn't find ffmpeg or avconv - defaulting to ffmpeg, but may not work\", RuntimeWarning)\n"
     ]
    }
   ],
   "source": [
    "import os\n",
    "from pydub import AudioSegment"
   ]
  },
  {
   "cell_type": "code",
   "execution_count": 2,
   "id": "1470356b",
   "metadata": {},
   "outputs": [
    {
     "name": "stdout",
     "output_type": "stream",
     "text": [
      "Ścieżka do ffmpeg: None\n",
      "ffmpeg nie został znaleziony. Instaluję ffmpeg-python...\n",
      "ffmpeg-python zainstalowany pomyślnie!\n"
     ]
    }
   ],
   "source": [
    "import os\n",
    "from pydub import AudioSegment\n",
    "from pydub.utils import which\n",
    "\n",
    "# Sprawdź czy ffmpeg jest dostępny\n",
    "ffmpeg_path = which(\"ffmpeg\")\n",
    "print(f\"Ścieżka do ffmpeg: {ffmpeg_path}\")\n",
    "\n",
    "# Jeśli ffmpeg nie jest znaleziony, spróbuj zainstalować go przez pip\n",
    "if ffmpeg_path is None:\n",
    "    print(\"ffmpeg nie został znaleziony. Instaluję ffmpeg-python...\")\n",
    "    try:\n",
    "        import subprocess\n",
    "        subprocess.check_call([\"pip\", \"install\", \"ffmpeg-python\"])\n",
    "        print(\"ffmpeg-python zainstalowany pomyślnie!\")\n",
    "    except Exception as e:\n",
    "        print(f\"Błąd podczas instalacji ffmpeg-python: {e}\")\n",
    "        print(\"Możesz zainstalować ffmpeg ręcznie z: https://ffmpeg.org/download.html\")\n",
    "else:\n",
    "    print(\"ffmpeg jest dostępny!\")"
   ]
  },
  {
   "cell_type": "code",
   "execution_count": 3,
   "id": "f3fa7dc3",
   "metadata": {},
   "outputs": [
    {
     "ename": "FileNotFoundError",
     "evalue": "[WinError 2] Nie można odnaleźć określonego pliku",
     "output_type": "error",
     "traceback": [
      "\u001b[31m---------------------------------------------------------------------------\u001b[39m",
      "\u001b[31mFileNotFoundError\u001b[39m                         Traceback (most recent call last)",
      "\u001b[36mFile \u001b[39m\u001b[32mc:\\Users\\pawlo\\Desktop\\kodowanie\\datascientist\\.venv\\Lib\\site-packages\\IPython\\core\\formatters.py:406\u001b[39m, in \u001b[36mBaseFormatter.__call__\u001b[39m\u001b[34m(self, obj)\u001b[39m\n\u001b[32m    404\u001b[39m     method = get_real_method(obj, \u001b[38;5;28mself\u001b[39m.print_method)\n\u001b[32m    405\u001b[39m     \u001b[38;5;28;01mif\u001b[39;00m method \u001b[38;5;129;01mis\u001b[39;00m \u001b[38;5;129;01mnot\u001b[39;00m \u001b[38;5;28;01mNone\u001b[39;00m:\n\u001b[32m--> \u001b[39m\u001b[32m406\u001b[39m         \u001b[38;5;28;01mreturn\u001b[39;00m \u001b[43mmethod\u001b[49m\u001b[43m(\u001b[49m\u001b[43m)\u001b[49m\n\u001b[32m    407\u001b[39m     \u001b[38;5;28;01mreturn\u001b[39;00m \u001b[38;5;28;01mNone\u001b[39;00m\n\u001b[32m    408\u001b[39m \u001b[38;5;28;01melse\u001b[39;00m:\n",
      "\u001b[36mFile \u001b[39m\u001b[32mc:\\Users\\pawlo\\Desktop\\kodowanie\\datascientist\\.venv\\Lib\\site-packages\\pydub\\audio_segment.py:1394\u001b[39m, in \u001b[36mAudioSegment._repr_html_\u001b[39m\u001b[34m(self)\u001b[39m\n\u001b[32m   1387\u001b[39m \u001b[38;5;28;01mdef\u001b[39;00m\u001b[38;5;250m \u001b[39m\u001b[34m_repr_html_\u001b[39m(\u001b[38;5;28mself\u001b[39m):\n\u001b[32m   1388\u001b[39m     src = \u001b[33m\"\"\"\u001b[39m\n\u001b[32m   1389\u001b[39m \u001b[33m                <audio controls>\u001b[39m\n\u001b[32m   1390\u001b[39m \u001b[33m                    <source src=\u001b[39m\u001b[33m\"\u001b[39m\u001b[33mdata:audio/mpeg;base64,\u001b[39m\u001b[38;5;132;01m{base64}\u001b[39;00m\u001b[33m\"\u001b[39m\u001b[33m type=\u001b[39m\u001b[33m\"\u001b[39m\u001b[33maudio/mpeg\u001b[39m\u001b[33m\"\u001b[39m\u001b[33m/>\u001b[39m\n\u001b[32m   1391\u001b[39m \u001b[33m                    Your browser does not support the audio element.\u001b[39m\n\u001b[32m   1392\u001b[39m \u001b[33m                </audio>\u001b[39m\n\u001b[32m   1393\u001b[39m \u001b[33m              \u001b[39m\u001b[33m\"\"\"\u001b[39m\n\u001b[32m-> \u001b[39m\u001b[32m1394\u001b[39m     fh = \u001b[38;5;28;43mself\u001b[39;49m\u001b[43m.\u001b[49m\u001b[43mexport\u001b[49m\u001b[43m(\u001b[49m\u001b[43m)\u001b[49m\n\u001b[32m   1395\u001b[39m     data = base64.b64encode(fh.read()).decode(\u001b[33m'\u001b[39m\u001b[33mascii\u001b[39m\u001b[33m'\u001b[39m)\n\u001b[32m   1396\u001b[39m     \u001b[38;5;28;01mreturn\u001b[39;00m src.format(base64=data)\n",
      "\u001b[36mFile \u001b[39m\u001b[32mc:\\Users\\pawlo\\Desktop\\kodowanie\\datascientist\\.venv\\Lib\\site-packages\\pydub\\audio_segment.py:963\u001b[39m, in \u001b[36mAudioSegment.export\u001b[39m\u001b[34m(self, out_f, format, codec, bitrate, parameters, tags, id3v2_version, cover)\u001b[39m\n\u001b[32m    961\u001b[39m \u001b[38;5;66;03m# read stdin / write stdout\u001b[39;00m\n\u001b[32m    962\u001b[39m \u001b[38;5;28;01mwith\u001b[39;00m \u001b[38;5;28mopen\u001b[39m(os.devnull, \u001b[33m'\u001b[39m\u001b[33mrb\u001b[39m\u001b[33m'\u001b[39m) \u001b[38;5;28;01mas\u001b[39;00m devnull:\n\u001b[32m--> \u001b[39m\u001b[32m963\u001b[39m     p = \u001b[43msubprocess\u001b[49m\u001b[43m.\u001b[49m\u001b[43mPopen\u001b[49m\u001b[43m(\u001b[49m\u001b[43mconversion_command\u001b[49m\u001b[43m,\u001b[49m\u001b[43m \u001b[49m\u001b[43mstdin\u001b[49m\u001b[43m=\u001b[49m\u001b[43mdevnull\u001b[49m\u001b[43m,\u001b[49m\u001b[43m \u001b[49m\u001b[43mstdout\u001b[49m\u001b[43m=\u001b[49m\u001b[43msubprocess\u001b[49m\u001b[43m.\u001b[49m\u001b[43mPIPE\u001b[49m\u001b[43m,\u001b[49m\u001b[43m \u001b[49m\u001b[43mstderr\u001b[49m\u001b[43m=\u001b[49m\u001b[43msubprocess\u001b[49m\u001b[43m.\u001b[49m\u001b[43mPIPE\u001b[49m\u001b[43m)\u001b[49m\n\u001b[32m    964\u001b[39m p_out, p_err = p.communicate()\n\u001b[32m    966\u001b[39m log_subprocess_output(p_out)\n",
      "\u001b[36mFile \u001b[39m\u001b[32m~\\AppData\\Local\\Programs\\Python\\Python311\\Lib\\subprocess.py:1026\u001b[39m, in \u001b[36mPopen.__init__\u001b[39m\u001b[34m(self, args, bufsize, executable, stdin, stdout, stderr, preexec_fn, close_fds, shell, cwd, env, universal_newlines, startupinfo, creationflags, restore_signals, start_new_session, pass_fds, user, group, extra_groups, encoding, errors, text, umask, pipesize, process_group)\u001b[39m\n\u001b[32m   1022\u001b[39m         \u001b[38;5;28;01mif\u001b[39;00m \u001b[38;5;28mself\u001b[39m.text_mode:\n\u001b[32m   1023\u001b[39m             \u001b[38;5;28mself\u001b[39m.stderr = io.TextIOWrapper(\u001b[38;5;28mself\u001b[39m.stderr,\n\u001b[32m   1024\u001b[39m                     encoding=encoding, errors=errors)\n\u001b[32m-> \u001b[39m\u001b[32m1026\u001b[39m     \u001b[38;5;28;43mself\u001b[39;49m\u001b[43m.\u001b[49m\u001b[43m_execute_child\u001b[49m\u001b[43m(\u001b[49m\u001b[43margs\u001b[49m\u001b[43m,\u001b[49m\u001b[43m \u001b[49m\u001b[43mexecutable\u001b[49m\u001b[43m,\u001b[49m\u001b[43m \u001b[49m\u001b[43mpreexec_fn\u001b[49m\u001b[43m,\u001b[49m\u001b[43m \u001b[49m\u001b[43mclose_fds\u001b[49m\u001b[43m,\u001b[49m\n\u001b[32m   1027\u001b[39m \u001b[43m                        \u001b[49m\u001b[43mpass_fds\u001b[49m\u001b[43m,\u001b[49m\u001b[43m \u001b[49m\u001b[43mcwd\u001b[49m\u001b[43m,\u001b[49m\u001b[43m \u001b[49m\u001b[43menv\u001b[49m\u001b[43m,\u001b[49m\n\u001b[32m   1028\u001b[39m \u001b[43m                        \u001b[49m\u001b[43mstartupinfo\u001b[49m\u001b[43m,\u001b[49m\u001b[43m \u001b[49m\u001b[43mcreationflags\u001b[49m\u001b[43m,\u001b[49m\u001b[43m \u001b[49m\u001b[43mshell\u001b[49m\u001b[43m,\u001b[49m\n\u001b[32m   1029\u001b[39m \u001b[43m                        \u001b[49m\u001b[43mp2cread\u001b[49m\u001b[43m,\u001b[49m\u001b[43m \u001b[49m\u001b[43mp2cwrite\u001b[49m\u001b[43m,\u001b[49m\n\u001b[32m   1030\u001b[39m \u001b[43m                        \u001b[49m\u001b[43mc2pread\u001b[49m\u001b[43m,\u001b[49m\u001b[43m \u001b[49m\u001b[43mc2pwrite\u001b[49m\u001b[43m,\u001b[49m\n\u001b[32m   1031\u001b[39m \u001b[43m                        \u001b[49m\u001b[43merrread\u001b[49m\u001b[43m,\u001b[49m\u001b[43m \u001b[49m\u001b[43merrwrite\u001b[49m\u001b[43m,\u001b[49m\n\u001b[32m   1032\u001b[39m \u001b[43m                        \u001b[49m\u001b[43mrestore_signals\u001b[49m\u001b[43m,\u001b[49m\n\u001b[32m   1033\u001b[39m \u001b[43m                        \u001b[49m\u001b[43mgid\u001b[49m\u001b[43m,\u001b[49m\u001b[43m \u001b[49m\u001b[43mgids\u001b[49m\u001b[43m,\u001b[49m\u001b[43m \u001b[49m\u001b[43muid\u001b[49m\u001b[43m,\u001b[49m\u001b[43m \u001b[49m\u001b[43mumask\u001b[49m\u001b[43m,\u001b[49m\n\u001b[32m   1034\u001b[39m \u001b[43m                        \u001b[49m\u001b[43mstart_new_session\u001b[49m\u001b[43m,\u001b[49m\u001b[43m \u001b[49m\u001b[43mprocess_group\u001b[49m\u001b[43m)\u001b[49m\n\u001b[32m   1035\u001b[39m \u001b[38;5;28;01mexcept\u001b[39;00m:\n\u001b[32m   1036\u001b[39m     \u001b[38;5;66;03m# Cleanup if the child failed starting.\u001b[39;00m\n\u001b[32m   1037\u001b[39m     \u001b[38;5;28;01mfor\u001b[39;00m f \u001b[38;5;129;01min\u001b[39;00m \u001b[38;5;28mfilter\u001b[39m(\u001b[38;5;28;01mNone\u001b[39;00m, (\u001b[38;5;28mself\u001b[39m.stdin, \u001b[38;5;28mself\u001b[39m.stdout, \u001b[38;5;28mself\u001b[39m.stderr)):\n",
      "\u001b[36mFile \u001b[39m\u001b[32m~\\AppData\\Local\\Programs\\Python\\Python311\\Lib\\subprocess.py:1538\u001b[39m, in \u001b[36mPopen._execute_child\u001b[39m\u001b[34m(self, args, executable, preexec_fn, close_fds, pass_fds, cwd, env, startupinfo, creationflags, shell, p2cread, p2cwrite, c2pread, c2pwrite, errread, errwrite, unused_restore_signals, unused_gid, unused_gids, unused_uid, unused_umask, unused_start_new_session, unused_process_group)\u001b[39m\n\u001b[32m   1536\u001b[39m \u001b[38;5;66;03m# Start the process\u001b[39;00m\n\u001b[32m   1537\u001b[39m \u001b[38;5;28;01mtry\u001b[39;00m:\n\u001b[32m-> \u001b[39m\u001b[32m1538\u001b[39m     hp, ht, pid, tid = \u001b[43m_winapi\u001b[49m\u001b[43m.\u001b[49m\u001b[43mCreateProcess\u001b[49m\u001b[43m(\u001b[49m\u001b[43mexecutable\u001b[49m\u001b[43m,\u001b[49m\u001b[43m \u001b[49m\u001b[43margs\u001b[49m\u001b[43m,\u001b[49m\n\u001b[32m   1539\u001b[39m \u001b[43m                             \u001b[49m\u001b[38;5;66;43;03m# no special security\u001b[39;49;00m\n\u001b[32m   1540\u001b[39m \u001b[43m                             \u001b[49m\u001b[38;5;28;43;01mNone\u001b[39;49;00m\u001b[43m,\u001b[49m\u001b[43m \u001b[49m\u001b[38;5;28;43;01mNone\u001b[39;49;00m\u001b[43m,\u001b[49m\n\u001b[32m   1541\u001b[39m \u001b[43m                             \u001b[49m\u001b[38;5;28;43mint\u001b[39;49m\u001b[43m(\u001b[49m\u001b[38;5;129;43;01mnot\u001b[39;49;00m\u001b[43m \u001b[49m\u001b[43mclose_fds\u001b[49m\u001b[43m)\u001b[49m\u001b[43m,\u001b[49m\n\u001b[32m   1542\u001b[39m \u001b[43m                             \u001b[49m\u001b[43mcreationflags\u001b[49m\u001b[43m,\u001b[49m\n\u001b[32m   1543\u001b[39m \u001b[43m                             \u001b[49m\u001b[43menv\u001b[49m\u001b[43m,\u001b[49m\n\u001b[32m   1544\u001b[39m \u001b[43m                             \u001b[49m\u001b[43mcwd\u001b[49m\u001b[43m,\u001b[49m\n\u001b[32m   1545\u001b[39m \u001b[43m                             \u001b[49m\u001b[43mstartupinfo\u001b[49m\u001b[43m)\u001b[49m\n\u001b[32m   1546\u001b[39m \u001b[38;5;28;01mfinally\u001b[39;00m:\n\u001b[32m   1547\u001b[39m     \u001b[38;5;66;03m# Child is launched. Close the parent's copy of those pipe\u001b[39;00m\n\u001b[32m   1548\u001b[39m     \u001b[38;5;66;03m# handles that only the child should have open.  You need\u001b[39;00m\n\u001b[32m   (...)\u001b[39m\u001b[32m   1551\u001b[39m     \u001b[38;5;66;03m# pipe will not close when the child process exits and the\u001b[39;00m\n\u001b[32m   1552\u001b[39m     \u001b[38;5;66;03m# ReadFile will hang.\u001b[39;00m\n\u001b[32m   1553\u001b[39m     \u001b[38;5;28mself\u001b[39m._close_pipe_fds(p2cread, p2cwrite,\n\u001b[32m   1554\u001b[39m                          c2pread, c2pwrite,\n\u001b[32m   1555\u001b[39m                          errread, errwrite)\n",
      "\u001b[31mFileNotFoundError\u001b[39m: [WinError 2] Nie można odnaleźć określonego pliku"
     ]
    },
    {
     "data": {
      "text/plain": [
       "<pydub.audio_segment.AudioSegment at 0x1ad716f8410>"
      ]
     },
     "execution_count": 3,
     "metadata": {},
     "output_type": "execute_result"
    }
   ],
   "source": [
    "segment = AudioSegment.from_wav(\"audio_about_ai.wav\")\n",
    "segment"
   ]
  },
  {
   "cell_type": "code",
   "execution_count": null,
   "id": "bdce78fd",
   "metadata": {},
   "outputs": [],
   "source": [
    "# Sprawdź aktualny katalog roboczy\n",
    "print(\"Aktualny katalog:\", os.getcwd())\n",
    "\n",
    "# Sprawdź czy plik istnieje w aktualnym katalogu\n",
    "print(\"Czy plik istnieje:\", os.path.exists(\"audio_about_ai.wav\"))\n",
    "\n",
    "# Pokaż zawartość katalogu\n",
    "print(\"Zawartość katalogu:\")\n",
    "for file in os.listdir(\".\"):\n",
    "    print(f\"  {file}\")\n"
   ]
  },
  {
   "cell_type": "code",
   "execution_count": null,
   "id": "8316c7ff",
   "metadata": {},
   "outputs": [],
   "source": [
    "# Użyj pełnej ścieżki do pliku\n",
    "audio_file_path = os.path.join(os.getcwd(), \"audio_about_ai.wav\")\n",
    "print(f\"Pełna ścieżka: {audio_file_path}\")\n",
    "\n",
    "# Alternatywnie - użyj ścieżki względnej z ./ \n",
    "audio_file_path2 = \"./audio_about_ai.wav\"\n",
    "print(f\"Ścieżka z ./: {audio_file_path2}\")\n"
   ]
  },
  {
   "cell_type": "code",
   "execution_count": null,
   "id": "a535e8e7",
   "metadata": {},
   "outputs": [],
   "source": [
    "# Poprawiony sposób ładowania pliku audio\n",
    "try:\n",
    "    # Sprawdź czy plik istnieje\n",
    "    if os.path.exists(\"audio_about_ai.wav\"):\n",
    "        segment = AudioSegment.from_wav(\"audio_about_ai.wav\")\n",
    "        print(\"Plik audio załadowany pomyślnie!\")\n",
    "        print(f\"Długość: {len(segment)} ms\")\n",
    "        print(f\"Sample rate: {segment.frame_rate} Hz\")\n",
    "        print(f\"Channels: {segment.channels}\")\n",
    "    else:\n",
    "        print(\"Plik audio_about_ai.wav nie został znaleziony!\")\n",
    "        print(\"Sprawdź czy plik jest w tym samym folderze co notebook\")\n",
    "except Exception as e:\n",
    "    print(f\"Błąd podczas ładowania pliku: {e}\")\n"
   ]
  },
  {
   "cell_type": "code",
   "execution_count": null,
   "id": "4881120c",
   "metadata": {},
   "outputs": [],
   "source": [
    "# Alternatywne rozwiązanie - użyj wave library dla plików WAV\n",
    "import wave\n",
    "import numpy as np\n",
    "\n",
    "def load_wav_without_ffmpeg(filename):\n",
    "    \"\"\"Ładuje plik WAV bez używania ffmpeg\"\"\"\n",
    "    try:\n",
    "        with wave.open(filename, 'rb') as wav_file:\n",
    "            # Pobierz parametry audio\n",
    "            frames = wav_file.getnframes()\n",
    "            sample_rate = wav_file.getframerate()\n",
    "            channels = wav_file.getnchannels()\n",
    "            sample_width = wav_file.getsampwidth()\n",
    "            \n",
    "            # Wczytaj dane audio\n",
    "            audio_data = wav_file.readframes(frames)\n",
    "            \n",
    "            print(f\"Plik WAV załadowany pomyślnie!\")\n",
    "            print(f\"Sample rate: {sample_rate} Hz\")\n",
    "            print(f\"Channels: {channels}\")\n",
    "            print(f\"Sample width: {sample_width} bytes\")\n",
    "            print(f\"Frames: {frames}\")\n",
    "            print(f\"Długość: {frames / sample_rate:.2f} sekund\")\n",
    "            \n",
    "            return audio_data, sample_rate, channels, sample_width\n",
    "            \n",
    "    except Exception as e:\n",
    "        print(f\"Błąd podczas ładowania pliku WAV: {e}\")\n",
    "        return None, None, None, None\n",
    "\n",
    "# Przetestuj ładowanie pliku\n",
    "audio_data, sr, ch, sw = load_wav_without_ffmpeg(\"audio_about_ai.wav\")\n"
   ]
  },
  {
   "cell_type": "code",
   "execution_count": null,
   "id": "be4339e7",
   "metadata": {},
   "outputs": [],
   "source": [
    "# Instrukcje instalacji ffmpeg na Windows\n",
    "\n",
    "print(\"=== INSTRUKCJE INSTALACJI FFMPEG ===\")\n",
    "print()\n",
    "print(\"Opcja 1 - Przez conda (jeśli używasz conda):\")\n",
    "print(\"conda install -c conda-forge ffmpeg\")\n",
    "print()\n",
    "print(\"Opcja 2 - Przez pip:\")\n",
    "print(\"pip install ffmpeg-python\")\n",
    "print()\n",
    "print(\"Opcja 3 - Ręczna instalacja:\")\n",
    "print(\"1. Pobierz ffmpeg z: https://ffmpeg.org/download.html\")\n",
    "print(\"2. Wypakuj do folderu (np. C:\\\\ffmpeg)\")\n",
    "print(\"3. Dodaj C:\\\\ffmpeg\\\\bin do zmiennej PATH\")\n",
    "print(\"4. Restartuj terminal/notebook\")\n",
    "print()\n",
    "print(\"Opcja 4 - Użyj alternatywnej biblioteki:\")\n",
    "print(\"pip install librosa  # lepsza do analizy audio\")\n",
    "print(\"pip install soundfile  # do odczytu/zapisu plików audio\")\n"
   ]
  },
  {
   "cell_type": "code",
   "execution_count": null,
   "id": "83851bd1",
   "metadata": {},
   "outputs": [],
   "source": []
  }
 ],
 "metadata": {
  "kernelspec": {
   "display_name": ".venv",
   "language": "python",
   "name": "python3"
  },
  "language_info": {
   "codemirror_mode": {
    "name": "ipython",
    "version": 3
   },
   "file_extension": ".py",
   "mimetype": "text/x-python",
   "name": "python",
   "nbconvert_exporter": "python",
   "pygments_lexer": "ipython3",
   "version": "3.11.9"
  }
 },
 "nbformat": 4,
 "nbformat_minor": 5
}
