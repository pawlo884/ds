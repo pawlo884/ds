{
 "cells": [
  {
   "cell_type": "code",
   "execution_count": 1,
   "id": "b2c36ff2",
   "metadata": {},
   "outputs": [],
   "source": [
    "from dotenv import dotenv_values\n",
    "from openai import OpenAI\n",
    "import numpy as np"
   ]
  },
  {
   "cell_type": "code",
   "execution_count": 4,
   "id": "96e8d170",
   "metadata": {},
   "outputs": [],
   "source": [
    "env = dotenv_values(\"../.env\")\n",
    "\n",
    "openai_client = OpenAI(api_key=env[\"OPENAI_API_KEY\"])"
   ]
  },
  {
   "cell_type": "code",
   "execution_count": 5,
   "id": "bd07f6b5",
   "metadata": {},
   "outputs": [],
   "source": [
    "embedding_model = \"text-embedding-3-large\"\n",
    "\n",
    "result = openai_client.embeddings.create(\n",
    "    input=[\n",
    "        \"Dawno temy w trawie\",\n",
    "        \"Gdzieś na końcu świata\",\n",
    "        \"W krainie czarów\",\n",
    "    ],\n",
    "    model = embedding_model,\n",
    ")\n"
   ]
  },
  {
   "cell_type": "code",
   "execution_count": 6,
   "id": "46288cbb",
   "metadata": {},
   "outputs": [
    {
     "data": {
      "text/plain": [
       "3"
      ]
     },
     "execution_count": 6,
     "metadata": {},
     "output_type": "execute_result"
    }
   ],
   "source": [
    "len(result.data)"
   ]
  },
  {
   "cell_type": "code",
   "execution_count": 7,
   "id": "2f9133ad",
   "metadata": {},
   "outputs": [
    {
     "data": {
      "text/plain": [
       "3072"
      ]
     },
     "execution_count": 7,
     "metadata": {},
     "output_type": "execute_result"
    }
   ],
   "source": [
    "len(result.data[0].embedding)"
   ]
  },
  {
   "cell_type": "code",
   "execution_count": 8,
   "id": "8a6b54bc",
   "metadata": {},
   "outputs": [
    {
     "data": {
      "text/plain": [
       "[0.031030016019940376,\n",
       " -0.018684063106775284,\n",
       " 0.007281752303242683,\n",
       " -0.007560912054032087,\n",
       " 0.028497915714979172,\n",
       " -0.0021644732914865017,\n",
       " 0.0043879239819943905,\n",
       " 0.04881761968135834,\n",
       " 0.023465171456336975,\n",
       " -0.009688032791018486]"
      ]
     },
     "execution_count": 8,
     "metadata": {},
     "output_type": "execute_result"
    }
   ],
   "source": [
    "result.data[0].embedding[:10]"
   ]
  },
  {
   "cell_type": "code",
   "execution_count": 9,
   "id": "1827d96e",
   "metadata": {},
   "outputs": [],
   "source": [
    "def calculate_embeddings(text):\n",
    "    result = openai_client.embeddings.create(\n",
    "        input = [text],\n",
    "        model = embedding_model,\n",
    "    )\n",
    "    return result.data[0].embedding\n",
    "    "
   ]
  },
  {
   "cell_type": "code",
   "execution_count": 10,
   "id": "1f353b34",
   "metadata": {},
   "outputs": [
    {
     "data": {
      "text/plain": [
       "np.int64(9)"
      ]
     },
     "execution_count": 10,
     "metadata": {},
     "output_type": "execute_result"
    }
   ],
   "source": [
    "a = np.array([1,2])\n",
    "b = np.array([1,4])\n",
    "np.dot(a,b)"
   ]
  },
  {
   "cell_type": "code",
   "execution_count": 12,
   "id": "9348faab",
   "metadata": {},
   "outputs": [
    {
     "data": {
      "text/plain": [
       "np.float64(2.23606797749979)"
      ]
     },
     "execution_count": 12,
     "metadata": {},
     "output_type": "execute_result"
    }
   ],
   "source": [
    "np.linalg.norm(a)"
   ]
  },
  {
   "cell_type": "code",
   "execution_count": 13,
   "id": "fd79ab9d",
   "metadata": {},
   "outputs": [
    {
     "data": {
      "text/plain": [
       "np.float64(4.123105625617661)"
      ]
     },
     "execution_count": 13,
     "metadata": {},
     "output_type": "execute_result"
    }
   ],
   "source": [
    "np.linalg.norm(b)"
   ]
  },
  {
   "cell_type": "code",
   "execution_count": 14,
   "id": "898d3244",
   "metadata": {},
   "outputs": [
    {
     "data": {
      "text/plain": [
       "np.float64(0.9761870601839528)"
      ]
     },
     "execution_count": 14,
     "metadata": {},
     "output_type": "execute_result"
    }
   ],
   "source": [
    "def cosine_similarity(a,b):\n",
    "    return np.dot(a,b) / (np.linalg.norm(a) * np.linalg.norm(b))\n",
    "\n",
    "cosine_similarity(a,b)"
   ]
  }
 ],
 "metadata": {
  "kernelspec": {
   "display_name": ".venv",
   "language": "python",
   "name": "python3"
  },
  "language_info": {
   "codemirror_mode": {
    "name": "ipython",
    "version": 3
   },
   "file_extension": ".py",
   "mimetype": "text/x-python",
   "name": "python",
   "nbconvert_exporter": "python",
   "pygments_lexer": "ipython3",
   "version": "3.11.9"
  }
 },
 "nbformat": 4,
 "nbformat_minor": 5
}
