{
 "cells": [
  {
   "cell_type": "markdown",
   "metadata": {},
   "source": [
    "## Eksplorujemy `io.BytesIO` \n",
    "\n",
    "* Czasami chcemy **GDZIEŚ WCZYTAĆ** lub **GDZIEŚ ZAPISAĆ** dane binarne, ale nie chcemy używać plików na dysku.\n",
    "* Wtedy możemy użyć `io.BytesIO` - to jest obiekt, który zachowuje się jak plik, ale przechowuje dane binarne w pamięci.\n",
    "* Dane binarne to np. obrazy, pliki audio, pliki video, pliki zip, pliki pdf, itp.\n",
    "* Dane binarne, w odróżnieniu od tekstu, nie są zrozumiałe dla człowieka, ale są zrozumiałe dla komputera.\n",
    "* Dane binarne możemy edytować używając odpowiednich bibliotek"
   ]
  },
  {
   "cell_type": "code",
   "execution_count": null,
   "metadata": {},
   "outputs": [],
   "source": [
    "from io import BytesIO\n",
    "from pydub import AudioSegment"
   ]
  },
  {
   "cell_type": "markdown",
   "metadata": {},
   "source": [
    "## Jak używać `io.BytesIO`?"
   ]
  },
  {
   "cell_type": "code",
   "execution_count": null,
   "metadata": {},
   "outputs": [],
   "source": [
    "# tworzymy obiekt typu BytesIO\n",
    "bio = BytesIO()\n",
    "\n",
    "# do obiektu bio zapisujemy bajty\n",
    "bio.write(b'Python jest super!')\n",
    "\n",
    "# przesuwamy wskaźnik na początek\n",
    "bio.seek(0)\n",
    "\n",
    "# odczytujemy bajty z obiektu bio\n",
    "print(bio.read())"
   ]
  },
  {
   "cell_type": "markdown",
   "metadata": {},
   "source": [
    "* Czasami mamy do czynienia z bibliotekami, których funkcje oczekują na wejściu obiektu pliku. \n",
    "* W takich przypadkach możemy użyć obiektu BytesIO, aby przekazać dane w postaci bajtów. "
   ]
  },
  {
   "cell_type": "code",
   "execution_count": null,
   "metadata": {},
   "outputs": [],
   "source": [
    "segment = AudioSegment.from_file(\"audio_about_ai.wav\", format='wav')\n",
    "segment"
   ]
  },
  {
   "cell_type": "code",
   "execution_count": null,
   "metadata": {},
   "outputs": [],
   "source": [
    "# możemy zapisać do pliku na dysku\n",
    "segment.export(\"audio_about_ai.mp3\", format='mp3')"
   ]
  },
  {
   "cell_type": "code",
   "execution_count": null,
   "metadata": {},
   "outputs": [],
   "source": [
    "# lub do obiektu BytesIO\n",
    "audio = BytesIO()\n",
    "segment.export(audio, format='mp3')"
   ]
  },
  {
   "cell_type": "code",
   "execution_count": null,
   "metadata": {},
   "outputs": [],
   "source": [
    "# wówczas możemy odczytać bajty z obiektu BytesIO\n",
    "audio.seek(0)\n",
    "print(audio.read()[:20])"
   ]
  }
 ],
 "metadata": {
  "kernelspec": {
   "display_name": "Python 3 (ipykernel)",
   "language": "python",
   "name": "python3"
  },
  "language_info": {
   "codemirror_mode": {
    "name": "ipython",
    "version": 3
   },
   "file_extension": ".py",
   "mimetype": "text/x-python",
   "name": "python",
   "nbconvert_exporter": "python",
   "pygments_lexer": "ipython3",
   "version": "3.11.9"
  }
 },
 "nbformat": 4,
 "nbformat_minor": 4
}
