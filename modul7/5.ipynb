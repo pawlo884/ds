{
 "cells": [
  {
   "cell_type": "code",
   "execution_count": 2,
   "id": "fe904eec",
   "metadata": {},
   "outputs": [],
   "source": [
    "from dotenv import dotenv_values\n",
    "from IPython.display import Markdown\n",
    "from openai import OpenAI"
   ]
  },
  {
   "cell_type": "code",
   "execution_count": 20,
   "id": "07bd1848",
   "metadata": {},
   "outputs": [],
   "source": [
    "env = dotenv_values(\"../.env\")\n",
    "\n",
    "openai_client = OpenAI(api_key=env[\"OPENAI_API_KEY\"])"
   ]
  },
  {
   "cell_type": "code",
   "execution_count": 10,
   "id": "fa49130a",
   "metadata": {},
   "outputs": [],
   "source": [
    "with open(\"audio_about_ai.mp3\", \"rb\") as f:\n",
    "    transcript = openai_client.audio.transcriptions.create(\n",
    "        file=f,\n",
    "        model=\"whisper-1\",\n",
    "    )"
   ]
  },
  {
   "cell_type": "code",
   "execution_count": 11,
   "id": "dcb40fb5",
   "metadata": {},
   "outputs": [
    {
     "data": {
      "text/markdown": [
       "Sztuczna inteligencja to dziedzina technologii, która umożliwia maszynom naśladowanie ludzkiego myślenia i podejmowanie decyzji. Dzięki zaawansowanym algorytmom i uczeniu maszynowemu, AI potrafi analizować ogromne ilości danych, rozpoznawać wzorce i przewidywać przyszłe zdarzenia. Współcześnie AI znajduje zastosowanie w wielu dziedzinach, takich jak medycyna, finanse, transport czy edukacja, rewolucjonizując sposób w jaki funkcjonuje społeczeństwo. Choć niesie ze sobą ogromny potencjał, rozwój AI rodzi także pytania o etykę, prywatność i przyszłość rynku pracy."
      ],
      "text/plain": [
       "<IPython.core.display.Markdown object>"
      ]
     },
     "execution_count": 11,
     "metadata": {},
     "output_type": "execute_result"
    }
   ],
   "source": [
    "Markdown(transcript.text)"
   ]
  },
  {
   "cell_type": "code",
   "execution_count": 14,
   "id": "f08de166",
   "metadata": {},
   "outputs": [
    {
     "name": "stdout",
     "output_type": "stream",
     "text": [
      "\n",
      "Sztuczna inteligencja to dziedzina technologii,\n",
      "która umożliwia maszynom naśladowanie ludzkiego myślenia i podejmowania decyzji.\n",
      "\n",
      "Dzięki zaawansowanym algorytmom i uczeniu maszynowemu, AI potrafi analizować ogromne ilości danych,\n",
      "rozpoznawać wzorce i przewidywać przyszłe zdarzenia.\n",
      "\n",
      "Współcześnie AI znajduje zastosowanie w wielu dziedzinach, takich jak medycyna, finanse,\n",
      "transport czy edukacja, rewolucjonizując sposób, w jaki funkcjonują społeczeństwa.\n",
      "\n",
      "Choć niesie ze sobą ogromny potencjał, rozwój AI rodzi także pytania o etykę,\n",
      "prywatność i przyszłość rynku pracy.\n",
      "\n"
     ]
    }
   ],
   "source": [
    "with open(\"audio_about_ai.txt\", \"r\", encoding=\"utf-8\") as f:\n",
    "    print(f.read())"
   ]
  },
  {
   "cell_type": "code",
   "execution_count": 16,
   "id": "4194a098",
   "metadata": {},
   "outputs": [],
   "source": [
    "with open(\"audio_about_ai.mp3\", \"rb\") as f:\n",
    "    transcript = openai_client.audio.transcriptions.create(\n",
    "        file=f,\n",
    "        model=\"whisper-1\",\n",
    "        response_format=\"verbose_json\",\n",
    "    )"
   ]
  },
  {
   "cell_type": "code",
   "execution_count": 17,
   "id": "435dfae7",
   "metadata": {},
   "outputs": [
    {
     "data": {
      "text/plain": [
       "'polish'"
      ]
     },
     "execution_count": 17,
     "metadata": {},
     "output_type": "execute_result"
    }
   ],
   "source": [
    "transcript.language"
   ]
  },
  {
   "cell_type": "code",
   "execution_count": 18,
   "id": "290ab214",
   "metadata": {},
   "outputs": [],
   "source": [
    "with open(\"audio_about_ai.mp3\", \"rb\") as f:\n",
    "    transcript = openai_client.audio.transcriptions.create(\n",
    "        file=f,\n",
    "        model=\"whisper-1\",\n",
    "        response_format=\"verbose_json\",\n",
    "        timestamp_granularities=[\"word\", \"segment\"],\n",
    "    )"
   ]
  },
  {
   "cell_type": "code",
   "execution_count": 19,
   "id": "20dfe94a",
   "metadata": {},
   "outputs": [
    {
     "data": {
      "text/plain": [
       "[TranscriptionWord(end=1.440000057220459, start=0.0, word='Sztuczna'),\n",
       " TranscriptionWord(end=2.0199999809265137, start=1.440000057220459, word='inteligencja'),\n",
       " TranscriptionWord(end=2.259999990463257, start=2.0199999809265137, word='to'),\n",
       " TranscriptionWord(end=2.5999999046325684, start=2.259999990463257, word='dziedzina'),\n",
       " TranscriptionWord(end=3.299999952316284, start=2.5999999046325684, word='technologii'),\n",
       " TranscriptionWord(end=3.5799999237060547, start=3.4800000190734863, word='która'),\n",
       " TranscriptionWord(end=4.119999885559082, start=3.5799999237060547, word='umożliwia'),\n",
       " TranscriptionWord(end=4.599999904632568, start=4.119999885559082, word='maszynom'),\n",
       " TranscriptionWord(end=5.199999809265137, start=4.599999904632568, word='naśladowanie'),\n",
       " TranscriptionWord(end=5.639999866485596, start=5.199999809265137, word='ludzkiego'),\n",
       " TranscriptionWord(end=6.159999847412109, start=5.639999866485596, word='myślenia'),\n",
       " TranscriptionWord(end=6.400000095367432, start=6.159999847412109, word='i'),\n",
       " TranscriptionWord(end=6.960000038146973, start=6.400000095367432, word='podejmowanie'),\n",
       " TranscriptionWord(end=7.960000038146973, start=6.960000038146973, word='decyzji'),\n",
       " TranscriptionWord(end=8.9399995803833, start=8.800000190734863, word='Dzięki'),\n",
       " TranscriptionWord(end=9.920000076293945, start=8.9399995803833, word='zaawansowanym'),\n",
       " TranscriptionWord(end=10.399999618530273, start=9.920000076293945, word='algorytmom'),\n",
       " TranscriptionWord(end=10.600000381469727, start=10.399999618530273, word='i'),\n",
       " TranscriptionWord(end=10.84000015258789, start=10.600000381469727, word='uczeniu'),\n",
       " TranscriptionWord(end=11.520000457763672, start=10.84000015258789, word='maszynowemu'),\n",
       " TranscriptionWord(end=12.039999961853027, start=12.039999961853027, word='AI'),\n",
       " TranscriptionWord(end=12.539999961853027, start=12.039999961853027, word='potrafi'),\n",
       " TranscriptionWord(end=13.15999984741211, start=12.539999961853027, word='analizować'),\n",
       " TranscriptionWord(end=13.739999771118164, start=13.15999984741211, word='ogromne'),\n",
       " TranscriptionWord(end=14.039999961853027, start=13.739999771118164, word='ilości'),\n",
       " TranscriptionWord(end=14.399999618530273, start=14.039999961853027, word='danych'),\n",
       " TranscriptionWord(end=15.039999961853027, start=14.699999809265137, word='rozpoznawać'),\n",
       " TranscriptionWord(end=15.5600004196167, start=15.039999961853027, word='wzorce'),\n",
       " TranscriptionWord(end=15.84000015258789, start=15.5600004196167, word='i'),\n",
       " TranscriptionWord(end=16.34000015258789, start=15.84000015258789, word='przewidywać'),\n",
       " TranscriptionWord(end=16.81999969482422, start=16.34000015258789, word='przyszłe'),\n",
       " TranscriptionWord(end=17.700000762939453, start=16.81999969482422, word='zdarzenia'),\n",
       " TranscriptionWord(end=19.079999923706055, start=17.700000762939453, word='Współcześnie'),\n",
       " TranscriptionWord(end=19.600000381469727, start=19.079999923706055, word='AI'),\n",
       " TranscriptionWord(end=20.0, start=19.600000381469727, word='znajduje'),\n",
       " TranscriptionWord(end=20.6200008392334, start=20.0, word='zastosowanie'),\n",
       " TranscriptionWord(end=20.780000686645508, start=20.6200008392334, word='w'),\n",
       " TranscriptionWord(end=21.020000457763672, start=20.780000686645508, word='wielu'),\n",
       " TranscriptionWord(end=21.639999389648438, start=21.020000457763672, word='dziedzinach'),\n",
       " TranscriptionWord(end=22.5, start=22.5, word='takich'),\n",
       " TranscriptionWord(end=22.860000610351562, start=22.5, word='jak'),\n",
       " TranscriptionWord(end=23.459999084472656, start=22.860000610351562, word='medycyna'),\n",
       " TranscriptionWord(end=24.260000228881836, start=23.860000610351562, word='finanse'),\n",
       " TranscriptionWord(end=25.0, start=24.760000228881836, word='transport'),\n",
       " TranscriptionWord(end=25.239999771118164, start=25.0, word='czy'),\n",
       " TranscriptionWord(end=25.84000015258789, start=25.239999771118164, word='edukacja'),\n",
       " TranscriptionWord(end=27.479999542236328, start=26.6200008392334, word='rewolucjonizując'),\n",
       " TranscriptionWord(end=27.940000534057617, start=27.479999542236328, word='sposób'),\n",
       " TranscriptionWord(end=28.200000762939453, start=27.940000534057617, word='w'),\n",
       " TranscriptionWord(end=28.260000228881836, start=28.200000762939453, word='jaki'),\n",
       " TranscriptionWord(end=28.780000686645508, start=28.260000228881836, word='funkcjonuje'),\n",
       " TranscriptionWord(end=29.780000686645508, start=28.780000686645508, word='społeczeństwo'),\n",
       " TranscriptionWord(end=30.700000762939453, start=30.68000030517578, word='Choć'),\n",
       " TranscriptionWord(end=30.959999084472656, start=30.700000762939453, word='niesie'),\n",
       " TranscriptionWord(end=31.200000762939453, start=30.959999084472656, word='ze'),\n",
       " TranscriptionWord(end=31.3799991607666, start=31.200000762939453, word='sobą'),\n",
       " TranscriptionWord(end=31.860000610351562, start=31.3799991607666, word='ogromny'),\n",
       " TranscriptionWord(end=32.560001373291016, start=31.860000610351562, word='potencjał'),\n",
       " TranscriptionWord(end=32.880001068115234, start=32.7400016784668, word='rozwój'),\n",
       " TranscriptionWord(end=33.400001525878906, start=32.880001068115234, word='AI'),\n",
       " TranscriptionWord(end=33.68000030517578, start=33.400001525878906, word='rodzi'),\n",
       " TranscriptionWord(end=34.119998931884766, start=33.68000030517578, word='także'),\n",
       " TranscriptionWord(end=34.36000061035156, start=34.119998931884766, word='pytania'),\n",
       " TranscriptionWord(end=35.0, start=34.36000061035156, word='o'),\n",
       " TranscriptionWord(end=35.0, start=35.0, word='etykę'),\n",
       " TranscriptionWord(end=35.86000061035156, start=35.400001525878906, word='prywatność'),\n",
       " TranscriptionWord(end=36.220001220703125, start=35.86000061035156, word='i'),\n",
       " TranscriptionWord(end=36.63999938964844, start=36.220001220703125, word='przyszłość'),\n",
       " TranscriptionWord(end=36.97999954223633, start=36.63999938964844, word='rynku'),\n",
       " TranscriptionWord(end=37.36000061035156, start=36.97999954223633, word='pracy')]"
      ]
     },
     "execution_count": 19,
     "metadata": {},
     "output_type": "execute_result"
    }
   ],
   "source": [
    "transcript.words"
   ]
  }
 ],
 "metadata": {
  "kernelspec": {
   "display_name": ".venv",
   "language": "python",
   "name": "python3"
  },
  "language_info": {
   "codemirror_mode": {
    "name": "ipython",
    "version": 3
   },
   "file_extension": ".py",
   "mimetype": "text/x-python",
   "name": "python",
   "nbconvert_exporter": "python",
   "pygments_lexer": "ipython3",
   "version": "3.11.9"
  }
 },
 "nbformat": 4,
 "nbformat_minor": 5
}
