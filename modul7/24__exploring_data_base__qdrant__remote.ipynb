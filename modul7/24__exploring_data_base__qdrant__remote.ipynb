{
 "cells": [
  {
   "cell_type": "markdown",
   "metadata": {},
   "source": [
    "# Eksplorujemy Bazę Danych: QDrant\n",
    "\n",
    "* `QDrant` to baza danych, która pozwala na przechowywanie i przeszukiwanie wielowymiarowych wektorów. \n",
    "* Pozwalan na tzw. semantyczne wyszukiwanie czyli na podstawie znaczenia słów i fraz a nie tylko na podstawie ich wystąpień.\n",
    "* `QDrant` jest dostępny jako usługa w chmurze, ale można go też zainstalować na własnym serwerze.\n",
    "* `QDrant` posiada darmowy plan w chmurze!"
   ]
  },
  {
   "cell_type": "markdown",
   "metadata": {},
   "source": [
    "## Jak zainstalować client do komunikacji z `QDrant`?"
   ]
  },
  {
   "cell_type": "code",
   "execution_count": null,
   "metadata": {},
   "outputs": [],
   "source": [
    "# za pomocą conda (https://anaconda.org/conda-forge/qdrant-client)\n",
    "!conda install -y qdrant-client"
   ]
  },
  {
   "cell_type": "code",
   "execution_count": null,
   "metadata": {},
   "outputs": [],
   "source": [
    "# za pomoca pip\n",
    "!pip install --quiet qdrant-client"
   ]
  },
  {
   "cell_type": "code",
   "execution_count": null,
   "metadata": {},
   "outputs": [],
   "source": [
    "# do pracy z sekretami i kluczami\n",
    "from dotenv import dotenv_values\n",
    "# do pracy z qdrantem\n",
    "from qdrant_client import QdrantClient\n",
    "from qdrant_client.models import PointStruct\n",
    "from qdrant_client.models import VectorParams, Distance\n",
    "# do pracy z openai\n",
    "from openai import OpenAI"
   ]
  },
  {
   "cell_type": "code",
   "execution_count": null,
   "metadata": {},
   "outputs": [],
   "source": [
    "env = dotenv_values(\".env\")"
   ]
  },
  {
   "cell_type": "code",
   "execution_count": null,
   "metadata": {},
   "outputs": [],
   "source": [
    "EMBEDDING_DIM = 1536\n",
    "\n",
    "EMBEDDING_MODEL = \"text-embedding-3-small\"\n",
    "\n",
    "def get_openai_client():\n",
    "    return OpenAI(api_key=env[\"OPENAI_API_KEY\"])\n",
    "\n",
    "def get_embedding(text):\n",
    "    openai_client = get_openai_client()\n",
    "    result = openai_client.embeddings.create(\n",
    "        input=[text],\n",
    "        model=EMBEDDING_MODEL,\n",
    "        dimensions=EMBEDDING_DIM,\n",
    "    )\n",
    "\n",
    "    return result.data[0].embedding"
   ]
  },
  {
   "cell_type": "markdown",
   "metadata": {},
   "source": [
    "## Jak połączyć się z Qdrantem?"
   ]
  },
  {
   "cell_type": "code",
   "execution_count": null,
   "metadata": {},
   "outputs": [],
   "source": [
    "# Tu jest zmiana względem wcześniejszej wersji\n",
    "# Tworzymy klienta który komunikuje się z instancją bazy danych która znajduje się w chmurze\n",
    "qdrant_client = QdrantClient(\n",
    "    url=env[\"QDRANT_URL\"],\n",
    "    api_key=env[\"QDRANT_API_KEY\"]\n",
    ")"
   ]
  },
  {
   "cell_type": "markdown",
   "metadata": {},
   "source": [
    "## Jak dodać dane do Qdranta?"
   ]
  },
  {
   "cell_type": "code",
   "execution_count": null,
   "metadata": {},
   "outputs": [],
   "source": [
    "sci_fi_books = [\n",
    "    {\n",
    "        \"name\": \"Wehikuł czasu\",\n",
    "        \"description\": \"Człowiek podróżuje w czasie i jest świadkiem ewolucji ludzkości.\",\n",
    "        \"author\": \"H.G. Wells\",\n",
    "        \"year\": 1895,\n",
    "    },\n",
    "    {\n",
    "        \"name\": \"Gra Endera\",\n",
    "        \"description\": \"Młody chłopiec jest szkolony na dowódcę wojskowego w wojnie przeciwko obcej rasie.\",\n",
    "        \"author\": \"Orson Scott Card\",\n",
    "        \"year\": 1985,\n",
    "    },\n",
    "    {\n",
    "        \"name\": \"Nowy wspaniały świat\",\n",
    "        \"description\": \"Dystopijne społeczeństwo, w którym ludzie są genetycznie modyfikowani i warunkowani do przestrzegania ścisłej hierarchii społecznej.\",\n",
    "        \"author\": \"Aldous Huxley\",\n",
    "        \"year\": 1932,\n",
    "    },\n",
    "    {\n",
    "        \"name\": \"Autostopem przez Galaktykę\",\n",
    "        \"description\": \"Komediowa seria science fiction śledząca nieudane przygody nieświadomego człowieka i jego kosmicznego przyjaciela.\",\n",
    "        \"author\": \"Douglas Adams\",\n",
    "        \"year\": 1979,\n",
    "    },\n",
    "    {\n",
    "        \"name\": \"Diuna\",\n",
    "        \"description\": \"Planeta pustynna jest miejscem intryg politycznych i walk o władzę.\",\n",
    "        \"author\": \"Frank Herbert\",\n",
    "        \"year\": 1965,\n",
    "    },\n",
    "    {\n",
    "        \"name\": \"Fundacja\",\n",
    "        \"description\": \"Matematyk opracowuje naukę przewidywania przyszłości ludzkości i stara się uratować cywilizację przed upadkiem.\",\n",
    "        \"author\": \"Isaac Asimov\",\n",
    "        \"year\": 1951,\n",
    "    },\n",
    "    {\n",
    "        \"name\": \"Zamieć\",\n",
    "        \"description\": \"Futurystyczny świat, w którym internet przekształcił się w wirtualną rzeczywistość.\",\n",
    "        \"author\": \"Neal Stephenson\",\n",
    "        \"year\": 1992,\n",
    "    },\n",
    "    {\n",
    "        \"name\": \"Neuromancer\",\n",
    "        \"description\": \"Haker zostaje zatrudniony do wykonania niemal niemożliwego włamania i wplątuje się w sieć intryg.\",\n",
    "        \"author\": \"William Gibson\",\n",
    "        \"year\": 1984,\n",
    "    },\n",
    "    {\n",
    "        \"name\": \"Wojna światów\",\n",
    "        \"description\": \"Inwazja Marsjan na Ziemię rzuca ludzkość w chaos.\",\n",
    "        \"author\": \"H.G. Wells\",\n",
    "        \"year\": 1898,\n",
    "    },\n",
    "    {\n",
    "        \"name\": \"Igrzyska śmierci\",\n",
    "        \"description\": \"Dystopijne społeczeństwo, w którym nastolatkowie są zmuszani do walki na śmierć i życie w telewizyjnym spektaklu.\",\n",
    "        \"author\": \"Suzanne Collins\",\n",
    "        \"year\": 2008,\n",
    "    },\n",
    "    {\n",
    "        \"name\": \"Szczep Andromedy\",\n",
    "        \"description\": \"Śmiertelny wirus z kosmosu zagraża ludzkości.\",\n",
    "        \"author\": \"Michael Crichton\",\n",
    "        \"year\": 1969,\n",
    "    },\n",
    "    {\n",
    "        \"name\": \"Lewa ręka ciemności\",\n",
    "        \"description\": \"Ludzki ambasador zostaje wysłany na planetę, gdzie mieszkańcy są bezpłciowi i mogą zmieniać płeć według woli.\",\n",
    "        \"author\": \"Ursula K. Le Guin\",\n",
    "        \"year\": 1969,\n",
    "    },\n",
    "    {\n",
    "        \"name\": \"Problem trzech ciał\",\n",
    "        \"description\": \"Ludzie napotykają obcą cywilizację, która żyje w umierającym systemie.\",\n",
    "        \"author\": \"Liu Cixin\",\n",
    "        \"year\": 2008,\n",
    "    },\n",
    "]"
   ]
  },
  {
   "cell_type": "markdown",
   "metadata": {},
   "source": [
    "najpierw musimy stworzyć kolekcję. Kolekcja to zbiór tzw. punktów, które są wektorami w przestrzeni wielowymiarowej. Każdy punkt ma swój identyfikator, który jest unikalny w ramach kolekcji."
   ]
  },
  {
   "cell_type": "code",
   "execution_count": null,
   "metadata": {},
   "outputs": [],
   "source": [
    "\n",
    "QDRANT_COLLECTION_NAME = \"sci_fi_books\"\n",
    "\n",
    "if not qdrant_client.collection_exists(collection_name=QDRANT_COLLECTION_NAME):\n",
    "    print(\"Tworzę kolekcję\")\n",
    "    qdrant_client.create_collection(\n",
    "        collection_name=QDRANT_COLLECTION_NAME,\n",
    "        vectors_config=VectorParams(size=EMBEDDING_DIM, distance=Distance.COSINE),\n",
    "    )"
   ]
  },
  {
   "cell_type": "markdown",
   "metadata": {},
   "source": [
    "na koniec dodajemy punkty do kolekcji."
   ]
  },
  {
   "cell_type": "code",
   "execution_count": null,
   "metadata": {},
   "outputs": [],
   "source": [
    "for idx, book in enumerate(sci_fi_books)\n",
    "    qdrant_client.upsert(\n",
    "        collection_name=QDRANT_COLLECTION_NAME,\n",
    "        points=[\n",
    "            PointStruct(\n",
    "                id=idx,\n",
    "                vector=get_embedding(f'{book[\"name\"]} {book[\"description\"]} autorstwa: {book[\"author\"]}'),\n",
    "                payload=book\n",
    "            )\n",
    "        ]\n",
    "    )"
   ]
  },
  {
   "cell_type": "markdown",
   "metadata": {},
   "source": [
    "## Jak szukać punktów w Qdrancie?"
   ]
  },
  {
   "cell_type": "code",
   "execution_count": null,
   "metadata": {},
   "outputs": [],
   "source": [
    "results = qdrant_client.search(\n",
    "    collection_name=QDRANT_COLLECTION_NAME,\n",
    "    query_vector=get_embedding(\"Inwazja kosmitów na Ziemię\"),\n",
    "    limit=3,\n",
    ")\n",
    "for result in results:\n",
    "    print('TYTUŁ', result.payload[\"name\"], 'OPIS', result.payload[\"description\"], 'WYNIK', result.score)"
   ]
  },
  {
   "cell_type": "markdown",
   "metadata": {},
   "source": [
    "## Budujemy funkcje: jak się upewnić, że kolekcja istnieje?"
   ]
  },
  {
   "cell_type": "code",
   "execution_count": null,
   "metadata": {},
   "outputs": [],
   "source": [
    "def assure_db_collection_exists(\n",
    "    qdrant_client,\n",
    "    collection_name,\n",
    "    embedding_dim,\n",
    "):\n",
    "    if not qdrant_client.collection_exists(collection_name):\n",
    "        print(f\"Tworzę kolekcję '{collection_name}'\")\n",
    "        qdrant_client.create_collection(\n",
    "            collection_name=collection_name,\n",
    "            vectors_config=VectorParams(\n",
    "                size=embedding_dim,\n",
    "                distance=Distance.COSINE,\n",
    "            ),\n",
    "        )\n",
    "    else:\n",
    "        print(f\"Kolekcja '{collection_name}' już istnieje\")\n",
    "\n",
    "assure_db_collection_exists(qdrant_client, collection_name=QDRANT_COLLECTION_NAME, embedding_dim=EMBEDDING_DIM)"
   ]
  },
  {
   "cell_type": "markdown",
   "metadata": {},
   "source": []
  }
 ],
 "metadata": {
  "kernelspec": {
   "display_name": "Python 3 (ipykernel)",
   "language": "python",
   "name": "python3"
  },
  "language_info": {
   "codemirror_mode": {
    "name": "ipython",
    "version": 3
   },
   "file_extension": ".py",
   "mimetype": "text/x-python",
   "name": "python",
   "nbconvert_exporter": "python",
   "pygments_lexer": "ipython3",
   "version": "3.11.9"
  }
 },
 "nbformat": 4,
 "nbformat_minor": 4
}
