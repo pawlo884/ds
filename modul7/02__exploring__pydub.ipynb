{
 "cells": [
  {
   "cell_type": "markdown",
   "metadata": {},
   "source": [
    "# Eksplorujemy bibliotekę `pydub`"
   ]
  },
  {
   "cell_type": "markdown",
   "metadata": {},
   "source": [
    "## Czym jest i do czego służy biblioteka `pydub`?\n",
    "\n",
    "* `pydub` to biblioteka Pythona, która pozwala na manipulację dźwiękiem.\n",
    "* Możemy z niej korzystać do odtwarzania, nagrywania, konwertowania, a także do analizy dźwięku.\n",
    "* `pydub` jest oparty na bibliotece `ffmpeg`, która jest bardzo popularna wśród programistów zajmujących się przetwarzaniem dźwięku i obrazu.\n",
    "* [dokumentacja](https://pydub.com/)\n",
    "* [repozytorium](https://github.com/jiaaro/pydub)"
   ]
  },
  {
   "cell_type": "markdown",
   "metadata": {},
   "source": [
    "## Instalujemy wymagane biblioteki (conda wymagana)\n",
    "\n",
    "- otwórz terminal\n",
    "- uruchom `conda activate od_zera_do_ai`\n",
    "- uruchom `conda install -y ffmpeg pydub`"
   ]
  },
  {
   "cell_type": "code",
   "execution_count": null,
   "metadata": {},
   "outputs": [],
   "source": [
    "import os\n",
    "from pydub import AudioSegment"
   ]
  },
  {
   "cell_type": "markdown",
   "metadata": {},
   "source": [
    "## Jak wczytać plik dźwiękowy?"
   ]
  },
  {
   "cell_type": "code",
   "execution_count": null,
   "metadata": {},
   "outputs": [],
   "source": [
    "# tworzony jest obiekt AudioSegment z pliku audio_about_ai.wav\n",
    "segment = AudioSegment.from_wav(\"audio_about_ai.wav\")\n",
    "segment"
   ]
  },
  {
   "cell_type": "markdown",
   "metadata": {},
   "source": [
    "## Jak przekonwertować plik dźwiękowy na inny format?"
   ]
  },
  {
   "cell_type": "code",
   "execution_count": null,
   "metadata": {},
   "outputs": [],
   "source": [
    "segment = AudioSegment.from_wav(\"audio_about_ai.wav\")\n",
    "segment.export(\"audio_about_ai.mp3\", format=\"mp3\")"
   ]
  },
  {
   "cell_type": "code",
   "execution_count": null,
   "metadata": {},
   "outputs": [],
   "source": [
    "# po co w zasadzie robimy konwersję z WAV do MP3?\n",
    "bytes_size_wav = os.stat('audio_about_ai.wav').st_size\n",
    "bytes_size_mp3 = os.stat('audio_about_ai.mp3').st_size\n",
    "\n",
    "# plik wav jest prawie 24 razy większy niż plik mp3!\n",
    "bytes_size_wav / bytes_size_mp3"
   ]
  },
  {
   "cell_type": "markdown",
   "metadata": {},
   "source": [
    "## Jak sprawdzić długość pliku dźwiękowego?"
   ]
  },
  {
   "cell_type": "code",
   "execution_count": null,
   "metadata": {},
   "outputs": [],
   "source": [
    "segment = AudioSegment.from_wav(\"audio_about_ai.wav\")\n",
    "\n",
    "segment.duration_seconds"
   ]
  },
  {
   "cell_type": "markdown",
   "metadata": {},
   "source": [
    "## Jak odtworzyć pierwsze 5 sekund pliku dźwiękowego?"
   ]
  },
  {
   "cell_type": "code",
   "execution_count": null,
   "metadata": {},
   "outputs": [],
   "source": [
    "segment = AudioSegment.from_wav(\"audio_about_ai.wav\")\n",
    "\n",
    "segment[:5000]"
   ]
  },
  {
   "cell_type": "markdown",
   "metadata": {},
   "source": [
    "## Jak pogłośnić pierwsze 5 sekund i wyciszyć resztę"
   ]
  },
  {
   "cell_type": "code",
   "execution_count": null,
   "metadata": {},
   "outputs": [],
   "source": [
    "segment = AudioSegment.from_mp3(\"audio_about_ai.mp3\")\n",
    "\n",
    "beginning = segment[:5000]\n",
    "louder_beggining = beginning + 10\n",
    "\n",
    "end = segment[-5000:]\n",
    "quieter_end = end - 10\n",
    "\n",
    "new_segment = louder_beggining + segment[5000:-5000] + quieter_end\n",
    "new_segment"
   ]
  },
  {
   "cell_type": "markdown",
   "metadata": {},
   "source": [
    "## Jak powtórzyć audio 4 razy?"
   ]
  },
  {
   "cell_type": "code",
   "execution_count": null,
   "metadata": {},
   "outputs": [],
   "source": [
    "segment = AudioSegment.from_wav(\"audio_about_ai.wav\")\n",
    "\n",
    "segment * 4"
   ]
  }
 ],
 "metadata": {
  "kernelspec": {
   "display_name": "Python 3 (ipykernel)",
   "language": "python",
   "name": "python3"
  },
  "language_info": {
   "codemirror_mode": {
    "name": "ipython",
    "version": 3
   },
   "file_extension": ".py",
   "mimetype": "text/x-python",
   "name": "python",
   "nbconvert_exporter": "python",
   "pygments_lexer": "ipython3",
   "version": "3.11.9"
  }
 },
 "nbformat": 4,
 "nbformat_minor": 4
}
