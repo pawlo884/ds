{
 "cells": [
  {
   "cell_type": "markdown",
   "metadata": {},
   "source": [
    "# Eksplorujemy `md5`\n",
    "\n",
    "* `md5` to funkcja, która na podstawie zawartości pliku potrafi wygenerować unikalny ciąg znaków. \n",
    "* Ten ciąg znaków jest zawsze taki sam dla tego samego pliku.\n",
    "* `md5` jest używane do sprawdzania integralności plików, ponieważ jeśli plik zostanie zmieniony, to `md5` również się zmieni.\n",
    "* `md5` może być użyte do porównywania plików, ponieważ jeśli dwa pliki mają ten sam `md5`, to są identyczne."
   ]
  },
  {
   "cell_type": "code",
   "execution_count": null,
   "metadata": {},
   "outputs": [],
   "source": [
    "from hashlib import md5"
   ]
  },
  {
   "cell_type": "markdown",
   "metadata": {},
   "source": [
    "## Jak obliczać `md5`?"
   ]
  },
  {
   "cell_type": "code",
   "execution_count": null,
   "metadata": {},
   "outputs": [],
   "source": [
    "md5(b\"hello\").hexdigest()"
   ]
  },
  {
   "cell_type": "code",
   "execution_count": null,
   "metadata": {},
   "outputs": [],
   "source": [
    "md5(b\"hello!\").hexdigest()"
   ]
  }
 ],
 "metadata": {
  "kernelspec": {
   "display_name": "Python 3 (ipykernel)",
   "language": "python",
   "name": "python3"
  },
  "language_info": {
   "codemirror_mode": {
    "name": "ipython",
    "version": 3
   },
   "file_extension": ".py",
   "mimetype": "text/x-python",
   "name": "python",
   "nbconvert_exporter": "python",
   "pygments_lexer": "ipython3",
   "version": "3.11.9"
  }
 },
 "nbformat": 4,
 "nbformat_minor": 4
}
