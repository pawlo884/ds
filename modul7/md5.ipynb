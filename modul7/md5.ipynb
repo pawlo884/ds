{
 "cells": [
  {
   "cell_type": "code",
   "execution_count": 2,
   "id": "73e75487",
   "metadata": {},
   "outputs": [],
   "source": [
    "from hashlib import md5\n"
   ]
  },
  {
   "cell_type": "code",
   "execution_count": 3,
   "id": "a7cf4efc",
   "metadata": {},
   "outputs": [
    {
     "data": {
      "text/plain": [
       "'5d41402abc4b2a76b9719d911017c592'"
      ]
     },
     "execution_count": 3,
     "metadata": {},
     "output_type": "execute_result"
    }
   ],
   "source": [
    "md5(b\"hello\").hexdigest()"
   ]
  },
  {
   "cell_type": "code",
   "execution_count": 4,
   "id": "496f2d3c",
   "metadata": {},
   "outputs": [
    {
     "data": {
      "text/plain": [
       "'5a8dd3ad0756a93ded72b823b19dd877'"
      ]
     },
     "execution_count": 4,
     "metadata": {},
     "output_type": "execute_result"
    }
   ],
   "source": [
    "md5(b\"hello!\").hexdigest()"
   ]
  }
 ],
 "metadata": {
  "kernelspec": {
   "display_name": ".venv",
   "language": "python",
   "name": "python3"
  },
  "language_info": {
   "codemirror_mode": {
    "name": "ipython",
    "version": 3
   },
   "file_extension": ".py",
   "mimetype": "text/x-python",
   "name": "python",
   "nbconvert_exporter": "python",
   "pygments_lexer": "ipython3",
   "version": "3.11.9"
  }
 },
 "nbformat": 4,
 "nbformat_minor": 5
}
