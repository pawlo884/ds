{
 "cells": [
  {
   "cell_type": "code",
   "execution_count": null,
   "metadata": {},
   "outputs": [],
   "source": [
    "# RESTART KERNEL AFTER INSTALLING\n",
    "!pip install --quiet openai"
   ]
  },
  {
   "cell_type": "code",
   "execution_count": null,
   "metadata": {},
   "outputs": [],
   "source": [
    "from IPython.display import Markdown\n",
    "import pandas as pd\n",
    "from getpass import getpass\n",
    "from openai import OpenAI"
   ]
  },
  {
   "cell_type": "code",
   "execution_count": null,
   "metadata": {},
   "outputs": [],
   "source": [
    "openai_key = getpass(\"Wprowadź swój klucz OpenAI: \")"
   ]
  },
  {
   "cell_type": "code",
   "execution_count": null,
   "metadata": {},
   "outputs": [],
   "source": [
    "openai_client = OpenAI(api_key=openai_key)\n",
    "\n",
    "def ASK(prompt: str):\n",
    "    ASK_SENIOR_DATA_SCIENTIST_PROMPT = \"\"\"\n",
    "        * Jesteś Senior Data Scientistem w dużym przedsiębiorstwie.\n",
    "        * Twoim zadaniem jest pomoc i mentorowanie młodszych pracowników, takich jak ja\n",
    "        * Będę cię prosił o różne rady i wskazówki, które pomogą mi w mojej pracy\n",
    "        * Odpowiadaj zwięźle i jeżeli się da od razu przesyłaj mi kod w Pythonie\n",
    "    \"\"\"\n",
    "    response = openai_client.chat.completions.create(\n",
    "        model=\"gpt-4o-mini\",\n",
    "        temperature=0.0,\n",
    "        messages=[\n",
    "            {\"role\": \"system\", \"content\": ASK_SENIOR_DATA_SCIENTIST_PROMPT},\n",
    "            {\"role\": \"user\", \"content\": prompt}\n",
    "        ]\n",
    "    )\n",
    "\n",
    "    return Markdown(response.choices[0].message.content)"
   ]
  },
  {
   "cell_type": "code",
   "execution_count": null,
   "metadata": {},
   "outputs": [],
   "source": [
    "# sprawdźmy czy nasz mentor działa\n",
    "ASK(\"Jak posortować rzędy w DataFrame po wartościach w kolumnie 'price'?\")"
   ]
  },
  {
   "cell_type": "markdown",
   "metadata": {},
   "source": [
    "# Naprawiamy dane z ankiety `Poznajmy się lepiej`\n",
    "\n",
    "* W lekcji tej zajmiemy się danymi z ankiety `Poznajmy się lepiej`. \n",
    "* Ankieta była skonstruowana tak, aby dopuszczać wiele odpowiedzi wpisywanych bezpośrednio przez uczestników.\n",
    "* Prezentujemy tylko fragment danych, aby nie naruszać prywatności uczestników.\n",
    "* Dodatkowo dane zostały nieco zmodyfikowane, aby nie było możliwe identyfikowanie uczestników."
   ]
  },
  {
   "cell_type": "code",
   "execution_count": null,
   "metadata": {},
   "outputs": [],
   "source": [
    "df = pd.read_csv('welcome_survey.csv')\n",
    "\n",
    "df.head()"
   ]
  },
  {
   "cell_type": "code",
   "execution_count": null,
   "metadata": {},
   "outputs": [],
   "source": [
    "df = df.rename(columns={\n",
    "    \"Poziom wykształcenia\": \"edu_level\",\n",
    "    \"Obecna branża\": \"industry\",\n",
    "    'Liczba lat doświadczenia zawodowego': 'years_of_experience',\n",
    "    'Jak preferujesz się uczyć? (wybierz wszystkie, które pasują)': 'learning_preferences',\n",
    "    'Ile czasu tygodniowo możesz poświęcić na naukę data science i AI?': 'weekly_study_hours',\n",
    "    'Co najbardziej motywuje Cię do nauki data science i AI? (wybierz maks. 3)': 'motivation',\n",
    "    'Jak zwierzęta są Twoimi ulubionymi?': 'fav_animals',\n",
    "    'Jakie jest Twoje ulubione miejsce na ziemi?' : 'fav_place',\n",
    "    'Bardziej lubisz przysmaki słodkie czy słone?': 'sweet_or_salty',\n",
    "    'Płeć': 'gender',\n",
    "    'Wiek': 'age',\n",
    "    'Jak spędzasz wolny czas?' : 'hobbies',\n",
    "})\n",
    "df.head()"
   ]
  },
  {
   "cell_type": "code",
   "execution_count": null,
   "metadata": {},
   "outputs": [],
   "source": [
    "df.info()"
   ]
  },
  {
   "cell_type": "code",
   "execution_count": null,
   "metadata": {},
   "outputs": [],
   "source": [
    "df.nunique()"
   ]
  },
  {
   "cell_type": "markdown",
   "metadata": {},
   "source": [
    "## Naprawiamy / czyścimy kolumnę `Wiek`"
   ]
  },
  {
   "cell_type": "code",
   "execution_count": null,
   "metadata": {},
   "outputs": [],
   "source": [
    "df[\"age\"].value_counts()"
   ]
  },
  {
   "cell_type": "code",
   "execution_count": null,
   "metadata": {},
   "outputs": [],
   "source": [
    "df[\"age_cleaned\"] = df[\"age\"].map({\n",
    "    \"Poniżej 18 lat\": \"<18\",\n",
    "    \"18-24\": \"18-24\",\n",
    "    \"25-34\": \"25-34\",\n",
    "    \"35-44\": \"35-44\",\n",
    "    \"45-54\": \"45-54\",\n",
    "    \"55-64\": \"55-64\",\n",
    "    \"65 i więcej\": \">=65\",\n",
    "    \"Nie chcę podawać\": \"unknown\"\n",
    "})\n",
    "df[\"age_cleaned\"] = df[\"age_cleaned\"].fillna(\"unknown\")\n",
    "df[\"age_cleaned\"].value_counts()"
   ]
  },
  {
   "cell_type": "markdown",
   "metadata": {},
   "source": [
    "## Naprawiamy / czyścimy kolumnę `Płeć`"
   ]
  },
  {
   "cell_type": "code",
   "execution_count": null,
   "metadata": {},
   "outputs": [],
   "source": [
    "df[\"gender\"].value_counts()"
   ]
  },
  {
   "cell_type": "code",
   "execution_count": null,
   "metadata": {},
   "outputs": [],
   "source": [
    "df[\"gender_cleaned\"] = df[\"gender\"].map({\n",
    "    \"Mężczyzna\": 0,\n",
    "    \"Kobieta\": 1,\n",
    "})\n",
    "df[\"gender_cleaned\"].value_counts()"
   ]
  },
  {
   "cell_type": "markdown",
   "metadata": {},
   "source": [
    "## Naprawiamy / czyścimy kolumnę `Liczba lat doświadczenia zawodowego`"
   ]
  },
  {
   "cell_type": "code",
   "execution_count": null,
   "metadata": {},
   "outputs": [],
   "source": [
    "df[\"years_of_experience\"].value_counts()"
   ]
  },
  {
   "cell_type": "code",
   "execution_count": null,
   "metadata": {},
   "outputs": [],
   "source": [
    "df[\"years_of_experience_cleaned\"] = df[\"years_of_experience\"].map({\n",
    "    \"0-2 lata\": \"0-2\",\n",
    "    \"3-5 lat\": \"3-5\",\n",
    "    \"6-10 lat\": \"6-10\",\n",
    "    \"11-15 lat\": \"11-15\",\n",
    "    \"16 i więcej\": \">=16\",\n",
    "})\n",
    "df[\"years_of_experience_cleaned\"].value_counts()"
   ]
  },
  {
   "cell_type": "markdown",
   "metadata": {},
   "source": [
    "## Naprawiamy / czyścimy kolumnę `Jak spędzasz wolny czas?`"
   ]
  },
  {
   "cell_type": "code",
   "execution_count": null,
   "metadata": {},
   "outputs": [],
   "source": [
    "df[\"hobbies\"].value_counts()"
   ]
  },
  {
   "cell_type": "code",
   "execution_count": null,
   "metadata": {},
   "outputs": [],
   "source": [
    "df[\"hobbies\"].str.get_dummies(sep=\", \").sum().sort_values(ascending=False)"
   ]
  },
  {
   "cell_type": "code",
   "execution_count": null,
   "metadata": {},
   "outputs": [],
   "source": [
    "def categorize_hobbies(hobbies):\n",
    "    if not isinstance(hobbies, str):\n",
    "        return []\n",
    "\n",
    "    cleaned = []\n",
    "    for hobby in hobbies.split(\", \"):\n",
    "        if hobby == \"Filmy / Seriale\":\n",
    "            cleaned.append(\"hobby_movies\")\n",
    "        elif hobby == \"Sport\":\n",
    "            cleaned.append(\"hobby_sport\")\n",
    "        elif hobby == \"Książki\":\n",
    "            cleaned.append(\"hobby_books\")\n",
    "        elif hobby == \"Gry komputerowe\":\n",
    "            cleaned.append(\"hobby_video_games\")\n",
    "        elif hobby == \"Sztuka\":\n",
    "            cleaned.append(\"hobby_art\")\n",
    "        else:\n",
    "            cleaned.append(\"hobby_other\")\n",
    "\n",
    "    return \", \".join(cleaned)\n",
    "\n",
    "\n",
    "df[\"hobbies_cleaned\"] = df[\"hobbies\"].apply(categorize_hobbies)\n",
    "df[\"hobbies_cleaned\"].str.get_dummies(sep=\", \").sum().sort_values(ascending=False)"
   ]
  },
  {
   "cell_type": "code",
   "execution_count": null,
   "metadata": {},
   "outputs": [],
   "source": [
    "hobbies_df = df[\"hobbies_cleaned\"].str.get_dummies(sep=\", \")\n",
    "hobbies_df = hobbies_df.drop(columns=[\"[]\"])\n",
    "hobbies_df"
   ]
  },
  {
   "cell_type": "code",
   "execution_count": null,
   "metadata": {},
   "outputs": [],
   "source": [
    "df = pd.concat([df, hobbies_df], axis=1)"
   ]
  },
  {
   "cell_type": "markdown",
   "metadata": {},
   "source": [
    "## Naprawiamy / czyścimy kolumnę `Bardziej lubisz przysmaki słodkie czy słone?`"
   ]
  },
  {
   "cell_type": "code",
   "execution_count": null,
   "metadata": {},
   "outputs": [],
   "source": [
    "df[\"sweet_or_salty\"].value_counts()"
   ]
  },
  {
   "cell_type": "code",
   "execution_count": null,
   "metadata": {},
   "outputs": [],
   "source": [
    "df[\"sweet_or_salty_cleaned\"] = df[\"sweet_or_salty\"].map({\n",
    "    \"Słone\": \"salty\",\n",
    "    \"Słodkie\": \"sweet\",\n",
    "})\n",
    "df[\"sweet_or_salty_cleaned\"].value_counts()"
   ]
  },
  {
   "cell_type": "markdown",
   "metadata": {},
   "source": [
    "## Naprawiamy / czyścimy kolumnę `Jakie jest Twoje ulubione miejsce na ziemi?`"
   ]
  },
  {
   "cell_type": "code",
   "execution_count": null,
   "metadata": {},
   "outputs": [],
   "source": [
    "df[\"fav_place\"].value_counts()"
   ]
  },
  {
   "cell_type": "code",
   "execution_count": null,
   "metadata": {},
   "outputs": [],
   "source": [
    "\", \".join(df[\"fav_place\"].dropna().unique().tolist())"
   ]
  },
  {
   "cell_type": "code",
   "execution_count": null,
   "metadata": {},
   "outputs": [],
   "source": [
    "ASK(\"\"\"\n",
    "W kolumnie 'Jakie jest Twoje ulubione miejsce na ziemi?' mam różne wartości. Niektóre można by zgrupować w jedną kategorię,\n",
    "np. 'Nad wodą', 'W górach' .etc\n",
    "Oto wartości w tej kolumnie:\n",
    "    Morze, Las, Góry, las i jezioro, Zielona oaza siedliskowa nad wodą., Miasto, ruch, spacer nad morzem, dom,\n",
    "    we wszystkich miejscach czuje sie dobrze, Jezioro, Dom, Góry połączone z jeziorem, wieś, Morze Las , góry, morze, las, Teren nad rzeką ,\n",
    "    Albania , Mazury, Góry, Morze, Las, miejsca, gdzie jest mało ludzi, teren gdzie temperatura nie spada do 20 stopni,\n",
    "    góry + zbiornik wodny (np. Jezioro Garda), Każde z powyższych, Wyspy / Ocean, Las i jezioro\n",
    "\n",
    "Jak zgrupować te wartości do mniejszej liczby kategorii?\n",
    "\"\"\")"
   ]
  },
  {
   "cell_type": "code",
   "execution_count": null,
   "metadata": {},
   "outputs": [],
   "source": [
    "category_map = {\n",
    "    'Morze': 'Nad wodą',\n",
    "    'Jezioro': 'Nad wodą',\n",
    "    'Teren nad rzeką': 'Nad wodą',\n",
    "    'Wyspy / Ocean': 'Nad wodą',\n",
    "    'las i jezioro': 'Nad wodą',\n",
    "    'góry + zbiornik wodny (np. Jezioro Garda)': 'Nad wodą',\n",
    "    'Góry': 'W górach',\n",
    "    'Góry połączone z jeziorem': 'W górach',\n",
    "    'Las': 'W lesie',\n",
    "    'Las i jezioro': 'W lesie',\n",
    "    'Morze Las': 'W lesie',\n",
    "    'Miasto, ruch': 'Miasto',\n",
    "    'dom': 'Inne',\n",
    "    'wieś': 'Inne',\n",
    "    'miejsca, gdzie jest mało ludzi': 'Inne',\n",
    "    'teren gdzie temperatura nie spada do 20 stopni': 'Inne',\n",
    "    'Każde z powyższych': 'Inne',\n",
    "    'Albania': 'Inne',\n",
    "    'Mazury': 'Inne',\n",
    "    'spacer nad morzem': 'Inne',\n",
    "    'we wszystkich miejscach czuje sie dobrze': 'Inne',\n",
    "    'Dom': 'Inne',\n",
    "}\n",
    "\n",
    "df['fav_place_cleaned'] = df['fav_place'].map(category_map)\n",
    "df['fav_place_cleaned'].value_counts()"
   ]
  },
  {
   "cell_type": "markdown",
   "metadata": {},
   "source": [
    "## Naprawiamy `Poziom wykształcenia`"
   ]
  },
  {
   "cell_type": "code",
   "execution_count": null,
   "metadata": {},
   "outputs": [],
   "source": [
    "df[\"edu_level\"].value_counts()"
   ]
  },
  {
   "cell_type": "code",
   "execution_count": null,
   "metadata": {},
   "outputs": [],
   "source": [
    "len(df[\"edu_level\"].dropna().unique())"
   ]
  },
  {
   "cell_type": "code",
   "execution_count": null,
   "metadata": {},
   "outputs": [],
   "source": [
    "\", \".join(df[\"edu_level\"].dropna().unique().tolist())"
   ]
  },
  {
   "cell_type": "code",
   "execution_count": null,
   "metadata": {},
   "outputs": [],
   "source": [
    "ASK(\"\"\"\n",
    "W kolumnie 'Poziom wykształcenia' mam różne wartości. Niektóre można by zgrupować w jedną kategorię,\n",
    "np. 'Podstawowe', 'Średnie', 'Wyższe'.\n",
    "Oto wartości w tej kolumnie:\n",
    "    Szkoła podstawowa, Szkoła średnia / Technikum, Magister, Inżynier, Doktorat, mgr inż., Licencjat,\n",
    "    Studia podyplomowe, Szkoła zawodowa, inżynier, Inżynier , magister inżynier, W szkole doktorskiej, Inżynierskie + podyplomowe\n",
    "\n",
    "Jak zgrupować te wartości w mniej kategorii?\n",
    "\"\"\")"
   ]
  },
  {
   "cell_type": "code",
   "execution_count": null,
   "metadata": {},
   "outputs": [],
   "source": [
    "def group_education(level):\n",
    "    if level in ['Szkoła podstawowa']:\n",
    "        return 'Podstawowe'\n",
    "    elif level in ['Szkoła średnia / Technikum', 'Szkoła zawodowa']:\n",
    "        return 'Średnie'\n",
    "    else:\n",
    "        return 'Wyższe'\n",
    "\n",
    "# Zastosowanie funkcji do kolumny\n",
    "df['edu_level_cleaned'] = df['edu_level'].apply(group_education)"
   ]
  },
  {
   "cell_type": "code",
   "execution_count": null,
   "metadata": {},
   "outputs": [],
   "source": [
    "df['edu_level_cleaned'].value_counts()"
   ]
  },
  {
   "cell_type": "markdown",
   "metadata": {},
   "source": [
    "## Naprawiamy `Obecna branża`"
   ]
  },
  {
   "cell_type": "code",
   "execution_count": null,
   "metadata": {},
   "outputs": [],
   "source": [
    "df[\"industry\"].value_counts()"
   ]
  },
  {
   "cell_type": "code",
   "execution_count": null,
   "metadata": {},
   "outputs": [],
   "source": [
    "len(df[\"industry\"].dropna().unique())"
   ]
  },
  {
   "cell_type": "code",
   "execution_count": null,
   "metadata": {},
   "outputs": [],
   "source": [
    "\", \".join(df[\"industry\"].dropna().unique().tolist())"
   ]
  },
  {
   "cell_type": "code",
   "execution_count": null,
   "metadata": {},
   "outputs": [],
   "source": [
    "ASK(\"\"\"\n",
    "Dla każdej z podanych nazw przypisz branżę:\n",
    "    IT, Edukacja, Energetyka, Automotvie, Automatyzacja, Energetyka zawodowa, Zdrowie, Kadry (HR), Marketing, Produkcja, Wellness,\n",
    "    Chemia, Nieruchomości, poligrafia, Administracja publiczna, chemik branża automotive, usługi, obsługa klienta, brak,\n",
    "    Budowlana, Automatyka i robotyka, Bezrobotny, Finanse, izynier GPS, Opieka, emeryt, Hotelarstwo, Budowa maszyn , energetyka,\n",
    "    Logistyka, Branża Produkcyjno Usługowa, Motoryzacja, Media, fotografia, wideo dron, Bez pracy, ostatnio HR, logistyka,\n",
    "    zakupy w dystrybucji IT, R&D, przemysł - zarządzanie jakością, Inżyniera, Pracownik naukowy: Nawigacja samolotowa,\n",
    "    systemy nawigacji satelitarnej, administrator sieci i systemów w służbie zdrowia, FMCG , produkcja, fundusze europejskie,\n",
    "    Administracja , Projektowanie mebli na wymiar, Logistyka , Ochrona Środowiska, Automotiv,\n",
    "    Pomoc Społeczna (Asystent osobisty osoby z niepełnosprawnością), Zabezpieczenia transportowe, Logistyka i Produkcja, Transport,\n",
    "    Property Management, księgowość, Bezpieczeństwo, Produkcja , Mechanik, Logistyka i Transport, handel, budownictwo/architektura,\n",
    "    Usługi, Transport Międzynarodowy, Chłodnictwo, Marketing, SEO, logistyka, usługi elektryczne, Architektura/Urbansityka,\n",
    "    Inżynieria, e-commerce, Budownictwo, fotowoltaika, Mechanik Samochodowy, Gastronomia,\n",
    "    Pracuję przy projektach związanych z sieciami gazowymi, Spedycja\n",
    "\n",
    "Odpowiedź zwróć jako słownik pythona, gdzie kluczem jest podana przeze mnie nazwa, a wartością przypisana branża.\n",
    "\"\"\")"
   ]
  },
  {
   "cell_type": "code",
   "execution_count": null,
   "metadata": {},
   "outputs": [],
   "source": [
    "df[\"industry_cleaned\"] = df[\"industry\"].map({\n",
    "    \"IT\": \"IT\",\n",
    "    \"Edukacja\": \"Edukacja\",\n",
    "    \"Energetyka\": \"Energetyka\",\n",
    "    \"Automotvie\": \"Automotive\",\n",
    "    \"Automatyzacja\": \"Automatyzacja\",\n",
    "    \"Energetyka zawodowa\": \"Energetyka zawodowa\",\n",
    "    \"Zdrowie\": \"Zdrowie\",\n",
    "    \"Kadry (HR)\": \"Kadry (HR)\",\n",
    "    \"Marketing\": \"Marketing\",\n",
    "    \"Produkcja\": \"Produkcja\",\n",
    "    \"Wellness\": \"Wellness\",\n",
    "    \"Chemia\": \"Chemia\",\n",
    "    \"Nieruchomości\": \"Nieruchomości\",\n",
    "    \"poligrafia\": \"Poligrafia\",\n",
    "    \"Administracja publiczna\": \"Administracja publiczna\",\n",
    "    \"chemik branża automotive\": \"Automotive\",\n",
    "    \"usługi\": \"Usługi\",\n",
    "    \"obsługa klienta\": \"Obsługa klienta\",\n",
    "    \"brak\": \"Brak\",\n",
    "    \"Budowlana\": \"Budowlana\",\n",
    "    \"Automatyka i robotyka\": \"Automatyka i robotyka\",\n",
    "    \"Bezrobotny\": \"Bezrobotny\",\n",
    "    \"Finanse\": \"Finanse\",\n",
    "    \"izynier GPS\": \"Inżynieria\",\n",
    "    \"Opieka\": \"Opieka\",\n",
    "    \"emeryt\": \"Emerytura\",\n",
    "    \"Hotelarstwo\": \"Hotelarstwo\",\n",
    "    \"Budowa maszyn\": \"Budowa maszyn\",\n",
    "    \"energetyka\": \"Energetyka\",\n",
    "    \"Logistyka\": \"Logistyka\",\n",
    "    \"Branża Produkcyjno Usługowa\": \"Branża Produkcyjno Usługowa\",\n",
    "    \"Motoryzacja\": \"Motoryzacja\",\n",
    "    \"Media\": \"Media\",\n",
    "    \"fotografia\": \"Fotografia\",\n",
    "    \"wideo dron\": \"Wideo dron\",\n",
    "    \"Bez pracy\": \"Bez pracy\",\n",
    "    \"ostatnio HR\": \"Kadry (HR)\",\n",
    "    \"logistyka\": \"Logistyka\",\n",
    "    \"zakupy w dystrybucji IT\": \"IT\",\n",
    "    \"R&D\": \"R&D\",\n",
    "    \"przemysł - zarządzanie jakością\": \"Produkcja\",\n",
    "    \"Inżyniera\": \"Inżynieria\",\n",
    "    \"Pracownik naukowy: Nawigacja samolotowa\": \"Nauka\",\n",
    "    \"systemy nawigacji satelitarnej\": \"Inżynieria\",\n",
    "    \"administrator sieci i systemów w służbie zdrowia\": \"Zdrowie\",\n",
    "    \"FMCG\": \"FMCG\",\n",
    "    \"produkcja\": \"Produkcja\",\n",
    "    \"fundusze europejskie\": \"Finanse\",\n",
    "    \"Administracja\": \"Administracja\",\n",
    "    \"Projektowanie mebli na wymiar\": \"Usługi\",\n",
    "    \"Logistyka\": \"Logistyka\",\n",
    "    \"Ochrona Środowiska\": \"Ochrona Środowiska\",\n",
    "    \"Automotiv\": \"Automotive\",\n",
    "    \"Pomoc Społeczna (Asystent osobisty osoby z niepełnosprawnością)\": \"Pomoc Społeczna\",\n",
    "    \"Zabezpieczenia transportowe\": \"Transport\",\n",
    "    \"Logistyka i Produkcja\": \"Logistyka i Produkcja\",\n",
    "    \"Transport\": \"Transport\",\n",
    "    \"Property Management\": \"Nieruchomości\",\n",
    "    \"księgowość\": \"Finanse\",\n",
    "    \"Bezpieczeństwo\": \"Bezpieczeństwo\",\n",
    "    \"Produkcja\": \"Produkcja\",\n",
    "    \"Mechanik\": \"Automotive\",\n",
    "    \"Logistyka i Transport\": \"Logistyka i Transport\",\n",
    "    \"handel\": \"Usługi\",\n",
    "    \"budownictwo/architektura\": \"Budownictwo\",\n",
    "    \"Usługi\": \"Usługi\",\n",
    "    \"Transport Międzynarodowy\": \"Transport\",\n",
    "    \"Chłodnictwo\": \"Usługi\",\n",
    "    \"Marketing\": \"Marketing\",\n",
    "    \"SEO\": \"Marketing\",\n",
    "    \"logistyka\": \"Logistyka\",\n",
    "    \"usługi elektryczne\": \"Usługi\",\n",
    "    \"Architektura/Urbansityka\": \"Architektura\",\n",
    "    \"Inżynieria\": \"Inżynieria\",\n",
    "    \"e-commerce\": \"E-commerce\",\n",
    "    \"Budownictwo\": \"Budownictwo\",\n",
    "    \"fotowoltaika\": \"Energetyka\",\n",
    "    \"Mechanik Samochodowy\": \"Automotive\",\n",
    "    \"Gastronomia\": \"Gastronomia\",\n",
    "    \"Pracuję przy projektach związanych z sieciami gazowymi\": \"Energetyka\",\n",
    "    \"Spedycja\": \"Logistyka\"\n",
    "})"
   ]
  },
  {
   "cell_type": "code",
   "execution_count": null,
   "metadata": {},
   "outputs": [],
   "source": [
    "len(df[\"industry_cleaned\"].unique())"
   ]
  },
  {
   "cell_type": "code",
   "execution_count": null,
   "metadata": {},
   "outputs": [],
   "source": [
    "df[\"industry_cleaned\"].value_counts()"
   ]
  },
  {
   "cell_type": "markdown",
   "metadata": {},
   "source": [
    "## Naprawiamy `Jak zwierzęta są Twoimi ulubionymi?`"
   ]
  },
  {
   "cell_type": "code",
   "execution_count": null,
   "metadata": {},
   "outputs": [],
   "source": [
    "df[\"fav_animals\"].value_counts()"
   ]
  },
  {
   "cell_type": "code",
   "execution_count": null,
   "metadata": {},
   "outputs": [],
   "source": [
    "len(df[\"fav_animals\"].dropna().unique())"
   ]
  },
  {
   "cell_type": "code",
   "execution_count": null,
   "metadata": {},
   "outputs": [],
   "source": [
    "def categorize_animals(animal_name):\n",
    "    if not isinstance(animal_name, str):\n",
    "        return \"Brak ulubionych\"\n",
    "\n",
    "    animal_name = animal_name.lower()\n",
    "    if \"Nie mam\" in animal_name or \"brak\" in animal_name or \"nie lubię\" in animal_name:\n",
    "        return \"Brak ulubionych\"\n",
    "\n",
    "    elif \"koty\" in animal_name and \"psy\" in animal_name:\n",
    "        return \"Koty i Psy\"\n",
    "\n",
    "    elif \"koty\" in animal_name:\n",
    "        return \"Koty\"\n",
    "\n",
    "    elif \"psy\" in animal_name:\n",
    "        return \"Psy\"\n",
    "\n",
    "    else:\n",
    "        return \"Inne\"\n",
    "\n",
    "df[\"fav_animals_cleaned\"] = df[\"fav_animals\"].apply(categorize_animals)"
   ]
  },
  {
   "cell_type": "code",
   "execution_count": null,
   "metadata": {},
   "outputs": [],
   "source": [
    "df[\"fav_animals_cleaned\"].value_counts()"
   ]
  },
  {
   "cell_type": "markdown",
   "metadata": {},
   "source": [
    "## Naprawiamy kolumnę `Jak preferujesz się uczyć? (wybierz wszystkie, które pasują)`"
   ]
  },
  {
   "cell_type": "code",
   "execution_count": null,
   "metadata": {},
   "outputs": [],
   "source": [
    "df[\"learning_preferences\"].value_counts()"
   ]
  },
  {
   "cell_type": "code",
   "execution_count": null,
   "metadata": {},
   "outputs": [],
   "source": [
    "learning_pref_df = df[\"learning_preferences\"].str.replace(\", stacjonarnie\", \", Kursy stacjonarne\").str.get_dummies(sep=\", \")\n",
    "learning_pref_df = learning_pref_df.rename(columns={\n",
    "    \"Książki\": \"learning_pref_books\",\n",
    "    \"Kursy online\": \"learning_pref_online_courses\",\n",
    "    \"Kursy stacjonarne\": \"learning_pref_offline_courses\",\n",
    "    \"Praca z ChatGPT\": \"learning_pref_chatgpt\",\n",
    "    \"Praca zespołowa\": \"learning_pref_teamwork\",\n",
    "    \"Samodzielne projekty\": \"learning_pref_personal_projects\",\n",
    "    \"Uczenie innych osób.\" : \"learning_pref_teaching\",\n",
    "    \"Warsztaty\": \"learning_pref_workshops\",\n",
    "})\n",
    "df = pd.concat([df, learning_pref_df], axis=1)\n",
    "df.head()"
   ]
  },
  {
   "cell_type": "markdown",
   "metadata": {},
   "source": [
    "## Naprawiamy kolumnę `Co najbardziej motywuje Cię do nauki data science i AI? (wybierz maks. 3)`"
   ]
  },
  {
   "cell_type": "code",
   "execution_count": null,
   "metadata": {},
   "outputs": [],
   "source": [
    "df[\"motivation\"].str.get_dummies(sep=\", \").columns.tolist()"
   ]
  },
  {
   "cell_type": "code",
   "execution_count": null,
   "metadata": {},
   "outputs": [],
   "source": [
    "values = df[\"motivation\"].str.get_dummies(sep=\", \").columns.tolist()\n",
    "\",\".join(values)"
   ]
  },
  {
   "cell_type": "code",
   "execution_count": null,
   "metadata": {},
   "outputs": [],
   "source": [
    "ASK(\"\"\"\n",
    "W kolumnie 'Co najbardziej motywuje Cię do nauki data science i AI' mam różne wartości. Niektóre można by zgrupować w jedną kategorię,\n",
    "Oto wartości w tej kolumnie:\n",
    "    Chęć zmiany zawodu,Dodanie kompetencji Data Science do obecnego profilu IT,Fascynacja możliwościami jakie daje nam AI,\n",
    "    Pasja do analizy danych,Pomoc w realizacji swoich pomysłów,Rozwiązywanie rzeczywistych problemów,Rozwój kariery,Swoboda pracy,\n",
    "    Wynagrodzenie,Wyzwania intelektualne,Zagadnienia w doktoracie,jako dźwigni zwiększającej mój projektowy zasięg (getting out of the box).,\n",
    "    możliwośc tworzenia narzędzi AI,możliwość pracy zdalnej,odnalezieniesię na rynku pracy  ,pasja do AI,poznawanie nowych rzeczy,\n",
    "    praca z AI,praca zdalna,rozwój osobisty,tworzenie aplikacji AI,własny projekt,zdobycie nowych umiejętności,\n",
    "    znalezienie właściwej dla siebie drogi dla zmiany sytuacji zawodowej\n",
    "\n",
    "Jak zgrupować te wartości w mniej kategorii? Stwórz słownik pythona, gdzie kluczem jest podana przeze mnie nazwa, a wartością przypisana motywacja.\n",
    "\"\"\")"
   ]
  },
  {
   "cell_type": "code",
   "execution_count": null,
   "metadata": {},
   "outputs": [],
   "source": [
    "motywacje = {\n",
    "    \"motivation_career\": [\n",
    "        \"Chęć zmiany zawodu\",\n",
    "        \"Znalezienie właściwej dla siebie drogi dla zmiany sytuacji zawodowej\",\n",
    "        \"Dodanie kompetencji Data Science do obecnego profilu IT\"\n",
    "    ],\n",
    "    \"motivation_personal_growth\": [\n",
    "        \"Fascynacja możliwościami jakie daje nam AI\",\n",
    "        \"Pasja do analizy danych\",\n",
    "        \"Rozwój kariery\",\n",
    "        \"Rozwój osobisty\",\n",
    "        \"Zdobycie nowych umiejętności\",\n",
    "        \"Poznawanie nowych rzeczy\"\n",
    "    ],\n",
    "    \"motivation_remote\": [\n",
    "        \"Swoboda pracy\",\n",
    "        \"Możliwość pracy zdalnej\",\n",
    "        \"Praca zdalna\"\n",
    "    ],\n",
    "    \"motivation_challenges\": [\n",
    "        \"Rozwiązywanie rzeczywistych problemów\",\n",
    "        \"Wyzwania intelektualne\",\n",
    "        \"Zagadnienia w doktoracie, jako dźwigni zwiększającej mój projektowy zasięg (getting out of the box)\"\n",
    "    ],\n",
    "    \"motivation_creativity_and_innovation\": [\n",
    "        \"Pomoc w realizacji swoich pomysłów\",\n",
    "        \"Możliwość tworzenia narzędzi AI\",\n",
    "        \"Tworzenie aplikacji AI\",\n",
    "        \"Własny projekt\"\n",
    "    ],\n",
    "    \"motivation_money_and_job\": [\n",
    "        \"Wynagrodzenie\",\n",
    "        \"Odnalezienie się na rynku pracy\"\n",
    "    ]\n",
    "}\n",
    "\n",
    "def categorize_motivation(motivation):\n",
    "    if not isinstance(motivation, str):\n",
    "        return []\n",
    "\n",
    "    cleaned_motivations = []\n",
    "    for key, values in motywacje.items():\n",
    "        for value in values:\n",
    "            if value in motivation:\n",
    "                cleaned_motivations.append(key)\n",
    "\n",
    "    return \", \".join(cleaned_motivations)\n",
    "\n",
    "\n",
    "df[\"motivation_cleaned\"] = df[\"motivation\"].apply(categorize_motivation)"
   ]
  },
  {
   "cell_type": "code",
   "execution_count": null,
   "metadata": {},
   "outputs": [],
   "source": [
    "motivations_df = df[\"motivation_cleaned\"].str.get_dummies(sep=\", \")\n",
    "motivations_df = motivations_df.drop(columns=[\"[]\"])\n",
    "motivations_df.head()"
   ]
  },
  {
   "cell_type": "code",
   "execution_count": null,
   "metadata": {},
   "outputs": [],
   "source": [
    "df = pd.concat([df, motivations_df], axis=1)\n",
    "df.head()"
   ]
  },
  {
   "cell_type": "code",
   "execution_count": null,
   "metadata": {},
   "outputs": [],
   "source": [
    "df.columns"
   ]
  },
  {
   "cell_type": "code",
   "execution_count": null,
   "metadata": {},
   "outputs": [],
   "source": [
    "cleaned_df = df[[\n",
    "    'age_cleaned',\n",
    "    'edu_level_cleaned',\n",
    "    'fav_animals_cleaned',\n",
    "    'fav_place_cleaned',\n",
    "    'gender_cleaned',\n",
    "    'hobby_art',\n",
    "    'hobby_books',\n",
    "    'hobby_movies',\n",
    "    'hobby_other',\n",
    "    'hobby_sport',\n",
    "    'hobby_video_games',\n",
    "    'industry_cleaned',\n",
    "    'learning_pref_books',\n",
    "    'learning_pref_chatgpt',\n",
    "    'learning_pref_offline_courses',\n",
    "    'learning_pref_online_courses',\n",
    "    'learning_pref_personal_projects',\n",
    "    'learning_pref_teaching',\n",
    "    'learning_pref_teamwork',\n",
    "    'learning_pref_workshops',\n",
    "    'learning_preferences',\n",
    "    'motivation_career',\n",
    "    'motivation_challenges',\n",
    "    'motivation_creativity_and_innovation',\n",
    "    'motivation_money_and_job',\n",
    "    'motivation_personal_growth',\n",
    "    'motivation_remote',\n",
    "    'sweet_or_salty_cleaned',\n",
    "    'years_of_experience_cleaned',\n",
    "]].copy()\n",
    "cleaned_df = cleaned_df.rename(columns={\n",
    "    'age_cleaned': 'age',\n",
    "    'edu_level_cleaned': 'edu_level',\n",
    "    'fav_animals_cleaned': 'fav_animals',\n",
    "    'fav_place_cleaned': 'fav_place',\n",
    "    'gender_cleaned': 'gender',\n",
    "    'industry_cleaned': 'industry',\n",
    "    'sweet_or_salty_cleaned': 'sweet_or_salty',\n",
    "    'years_of_experience_cleaned': 'years_of_experience',\n",
    "})\n",
    "cleaned_df.head()"
   ]
  },
  {
   "cell_type": "code",
   "execution_count": null,
   "metadata": {},
   "outputs": [],
   "source": [
    "cleaned_df.to_csv('welcome_survey_cleaned_2024_07_27_20_43.csv', index=False, sep=\";\")"
   ]
  },
  {
   "cell_type": "code",
   "execution_count": null,
   "metadata": {},
   "outputs": [],
   "source": []
  }
 ],
 "metadata": {
  "kernelspec": {
   "display_name": "Python 3 (ipykernel)",
   "language": "python",
   "name": "python3"
  },
  "language_info": {
   "codemirror_mode": {
    "name": "ipython",
    "version": 3
   },
   "file_extension": ".py",
   "mimetype": "text/x-python",
   "name": "python",
   "nbconvert_exporter": "python",
   "pygments_lexer": "ipython3",
   "version": "3.11.3"
  }
 },
 "nbformat": 4,
 "nbformat_minor": 4
}
