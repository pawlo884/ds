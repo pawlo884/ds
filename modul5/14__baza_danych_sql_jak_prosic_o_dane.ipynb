{
 "cells": [
  {
   "cell_type": "code",
   "execution_count": null,
   "metadata": {},
   "outputs": [],
   "source": [
    "# instalujemy potrzebne biblioteki / możliwe że trzeba będzie zrobić restart kernela\n",
    "!pip install --quiet faker"
   ]
  },
  {
   "cell_type": "code",
   "execution_count": null,
   "metadata": {},
   "outputs": [],
   "source": [
    "import random\n",
    "import sqlite3\n",
    "\n",
    "import pandas as pd\n",
    "from faker import Faker"
   ]
  },
  {
   "cell_type": "code",
   "execution_count": null,
   "metadata": {},
   "outputs": [],
   "source": [
    "fake = Faker()\n",
    "\n",
    "# zanim zaczniemy stworzymy sobie losowe dane\n",
    "employees = []\n",
    "for i in range(1000):\n",
    "    employees.append({\n",
    "        \"id\": i + 1,\n",
    "        'name': fake.first_name(),\n",
    "        'surname': fake.last_name(),\n",
    "        'age': random.randint(20, 80) if random.random() > 0.1 else None,\n",
    "        'salary': random.randint(3000, 10000),\n",
    "        'department': random.choice(['IT', 'HR', 'Finance', 'Marketing'])\n",
    "    })\n",
    "\n",
    "# tworzymy DataFrame\n",
    "df = pd.DataFrame(employees)\n",
    "\n",
    "# zapisujemy do bazy danych\n",
    "with sqlite3.connect('learning_select.db') as conn:\n",
    "    df.to_sql('employees', conn, if_exists='replace', index=False)"
   ]
  },
  {
   "cell_type": "code",
   "execution_count": null,
   "metadata": {},
   "outputs": [],
   "source": [
    "# contracts\n",
    "contracts = []\n",
    "# 300 pracowników pracuje bez umowy ;-)\n",
    "for i in range(700):\n",
    "    contracts.append({\n",
    "        'employee_id': i + 1,\n",
    "        'type': random.choice(['B2B', 'UoP']),\n",
    "        'start': fake.date_between(start_date='-5y', end_date='today'),\n",
    "        'end': fake.date_between(start_date='today', end_date='+5y'),\n",
    "    })\n",
    "\n",
    "# 300 innych już nie pracuje\n",
    "for i in range(700, 1000):\n",
    "    contracts.append({\n",
    "        'employee_id': 1000 + i + 1,\n",
    "        'type': random.choice(['B2B', 'UoP']),\n",
    "        'start': fake.date_between(start_date='-5y', end_date='-1y'),\n",
    "        'end': fake.date_between(start_date='-1y', end_date='today'),\n",
    "    })\n",
    "\n",
    "# tworzymy DataFrame\n",
    "df = pd.DataFrame(contracts)\n",
    "\n",
    "# zapisujemy do bazy danych\n",
    "with sqlite3.connect('learning_select.db') as conn:\n",
    "    df.to_sql('contracts', conn, if_exists='replace', index=False)"
   ]
  },
  {
   "cell_type": "markdown",
   "metadata": {},
   "source": [
    "# Baza danych - SQL - język baz danych - jak prosić o dane?"
   ]
  },
  {
   "cell_type": "markdown",
   "metadata": {},
   "source": [
    "Podstawową instrukcją w języku SQL do proszenia o dane jest `SELECT`"
   ]
  },
  {
   "cell_type": "markdown",
   "metadata": {},
   "source": [
    "## Jak wczytać wszystkie wiersze / rekordy?"
   ]
  },
  {
   "cell_type": "code",
   "execution_count": null,
   "metadata": {},
   "outputs": [],
   "source": [
    "with sqlite3.connect('learning_select.db') as conn:\n",
    "    df = pd.read_sql('SELECT * FROM employees', conn)\n",
    "\n",
    "df"
   ]
  },
  {
   "cell_type": "markdown",
   "metadata": {},
   "source": [
    "## Czy w zapytaniach SQL słowa wbudowane trzeba pisać dużymi literami?"
   ]
  },
  {
   "cell_type": "code",
   "execution_count": null,
   "metadata": {},
   "outputs": [],
   "source": [
    "# nie trzeba słów kluczowych SQL pisac wielkimi literami\n",
    "# ALE trzymanie się tej konwencji jest dobre dla czytelności\n",
    "with sqlite3.connect('learning_select.db') as conn:\n",
    "    df = pd.read_sql('select * from employees', conn)\n",
    "\n",
    "df"
   ]
  },
  {
   "cell_type": "markdown",
   "metadata": {},
   "source": [
    "## Jak wczytać tylko wybrane kolumny?"
   ]
  },
  {
   "cell_type": "code",
   "execution_count": null,
   "metadata": {},
   "outputs": [],
   "source": [
    "with sqlite3.connect('learning_select.db') as conn:\n",
    "    df = pd.read_sql('SELECT name, surname, salary FROM employees', conn)\n",
    "\n",
    "df"
   ]
  },
  {
   "cell_type": "markdown",
   "metadata": {},
   "source": [
    "## Jak wczytać wybrane kolumny z bazy danych z aliasami?"
   ]
  },
  {
   "cell_type": "code",
   "execution_count": null,
   "metadata": {},
   "outputs": [],
   "source": [
    "with sqlite3.connect('learning_select.db') as conn:\n",
    "    df = pd.read_sql(\n",
    "        'SELECT name AS imie, surname AS nazwisko, salary AS pensja FROM employees',\n",
    "        conn,\n",
    "    )\n",
    "\n",
    "df"
   ]
  },
  {
   "cell_type": "markdown",
   "metadata": {},
   "source": [
    "## Jak filtrować dane w bazie danych?"
   ]
  },
  {
   "cell_type": "code",
   "execution_count": null,
   "metadata": {},
   "outputs": [],
   "source": [
    "with sqlite3.connect('learning_select.db') as conn:\n",
    "    df = pd.read_sql('SELECT * FROM employees WHERE age > 50', conn)\n",
    "\n",
    "df"
   ]
  },
  {
   "cell_type": "code",
   "execution_count": null,
   "metadata": {},
   "outputs": [],
   "source": [
    "with sqlite3.connect('learning_select.db') as conn:\n",
    "    df = pd.read_sql(\"SELECT * FROM employees WHERE department = 'IT'\", conn)\n",
    "\n",
    "df"
   ]
  },
  {
   "cell_type": "code",
   "execution_count": null,
   "metadata": {},
   "outputs": [],
   "source": [
    "with sqlite3.connect('learning_select.db') as conn:\n",
    "    df = pd.read_sql('SELECT * FROM employees WHERE department = \"HR\"', conn)\n",
    "\n",
    "df"
   ]
  },
  {
   "cell_type": "markdown",
   "metadata": {},
   "source": [
    "## Jak budować bardziej złożone filtry / kryteria?"
   ]
  },
  {
   "cell_type": "code",
   "execution_count": null,
   "metadata": {},
   "outputs": [],
   "source": [
    "with sqlite3.connect('learning_select.db') as conn:\n",
    "    df = pd.read_sql('''\n",
    "        SELECT\n",
    "            *\n",
    "        FROM\n",
    "            employees\n",
    "        WHERE department = \"HR\" AND age > 50\n",
    "    ''', conn)\n",
    "\n",
    "df"
   ]
  },
  {
   "cell_type": "code",
   "execution_count": null,
   "metadata": {},
   "outputs": [],
   "source": [
    "with sqlite3.connect('learning_select.db') as conn:\n",
    "    df = pd.read_sql('''\n",
    "        SELECT\n",
    "            *\n",
    "        FROM\n",
    "            employees\n",
    "        WHERE\n",
    "            (department = \"HR\" AND age > 50) OR\n",
    "            (department = \"IT\" AND age < 30)\n",
    "    ''', conn)\n",
    "\n",
    "df"
   ]
  },
  {
   "cell_type": "markdown",
   "metadata": {},
   "source": [
    "## Jak używać `IN` w kryteriach?"
   ]
  },
  {
   "cell_type": "code",
   "execution_count": null,
   "metadata": {},
   "outputs": [],
   "source": [
    "with sqlite3.connect('learning_select.db') as conn:\n",
    "    df = pd.read_sql('''\n",
    "        SELECT\n",
    "            *\n",
    "        FROM\n",
    "            employees\n",
    "        WHERE\n",
    "            department IN (\"HR\", \"IT\")\n",
    "    ''', conn)\n",
    "\n",
    "df[\"department\"].value_counts()"
   ]
  },
  {
   "cell_type": "markdown",
   "metadata": {},
   "source": [
    "## Jak znaleźć rekordy gdzie brakuje wartości?"
   ]
  },
  {
   "cell_type": "code",
   "execution_count": null,
   "metadata": {},
   "outputs": [],
   "source": [
    "with sqlite3.connect('learning_select.db') as conn:\n",
    "    df = pd.read_sql('''\n",
    "        SELECT\n",
    "            *\n",
    "        FROM\n",
    "            employees\n",
    "        WHERE\n",
    "            age IS NULL\n",
    "    ''', conn)\n",
    "\n",
    "df"
   ]
  },
  {
   "cell_type": "code",
   "execution_count": null,
   "metadata": {},
   "outputs": [],
   "source": [
    "with sqlite3.connect('learning_select.db') as conn:\n",
    "    df = pd.read_sql('''\n",
    "        SELECT\n",
    "            *\n",
    "        FROM\n",
    "            employees\n",
    "        WHERE\n",
    "            age IS NOT NULL\n",
    "    ''', conn)\n",
    "\n",
    "df"
   ]
  },
  {
   "cell_type": "markdown",
   "metadata": {},
   "source": [
    "## Jak przeszukiwać kolumny, które zawierają łańcuchy znaków?"
   ]
  },
  {
   "cell_type": "code",
   "execution_count": null,
   "metadata": {},
   "outputs": [],
   "source": [
    "with sqlite3.connect('learning_select.db') as conn:\n",
    "    df = pd.read_sql('''\n",
    "        SELECT\n",
    "            name, surname, salary\n",
    "        FROM\n",
    "            employees\n",
    "        WHERE\n",
    "            name LIKE \"A%\"\n",
    "    ''', conn)\n",
    "\n",
    "df"
   ]
  },
  {
   "cell_type": "code",
   "execution_count": null,
   "metadata": {},
   "outputs": [],
   "source": [
    "with sqlite3.connect('learning_select.db') as conn:\n",
    "    df = pd.read_sql('''\n",
    "        SELECT\n",
    "            name, surname, salary\n",
    "        FROM\n",
    "            employees\n",
    "        WHERE\n",
    "            name LIKE \"al%\"\n",
    "    ''', conn)\n",
    "\n",
    "df"
   ]
  },
  {
   "cell_type": "markdown",
   "metadata": {},
   "source": [
    "## Jak filtrować po datach?"
   ]
  },
  {
   "cell_type": "code",
   "execution_count": null,
   "metadata": {},
   "outputs": [],
   "source": [
    "with sqlite3.connect('learning_select.db') as conn:\n",
    "    df = pd.read_sql('''\n",
    "        SELECT\n",
    "            *\n",
    "        FROM\n",
    "            contracts\n",
    "        WHERE\n",
    "            start >= \"2021-01-01\"\n",
    "    ''', conn)\n",
    "\n",
    "df"
   ]
  },
  {
   "cell_type": "code",
   "execution_count": null,
   "metadata": {},
   "outputs": [],
   "source": [
    "df[\"start\"].min()"
   ]
  },
  {
   "cell_type": "markdown",
   "metadata": {},
   "source": [
    "## Jak sortować wczytane rekordy?"
   ]
  },
  {
   "cell_type": "code",
   "execution_count": null,
   "metadata": {},
   "outputs": [],
   "source": [
    "# sortowanie po jednej kolumnie\n",
    "with sqlite3.connect('learning_select.db') as conn:\n",
    "    df = pd.read_sql('''\n",
    "        SELECT\n",
    "            name,\n",
    "            age\n",
    "        FROM\n",
    "            employees\n",
    "        ORDER BY name\n",
    "    ''', conn)\n",
    "\n",
    "df"
   ]
  },
  {
   "cell_type": "code",
   "execution_count": null,
   "metadata": {},
   "outputs": [],
   "source": [
    "# sortowanie po dwóch kolumnach\n",
    "with sqlite3.connect('learning_select.db') as conn:\n",
    "    df = pd.read_sql('''\n",
    "        SELECT\n",
    "            name,\n",
    "            age\n",
    "        FROM\n",
    "            employees\n",
    "        ORDER BY name, age\n",
    "    ''', conn)\n",
    "\n",
    "df"
   ]
  },
  {
   "cell_type": "code",
   "execution_count": null,
   "metadata": {},
   "outputs": [],
   "source": [
    "# sortowanie malejące\n",
    "with sqlite3.connect('learning_select.db') as conn:\n",
    "    df = pd.read_sql('''\n",
    "        SELECT\n",
    "            name,\n",
    "            age\n",
    "        FROM\n",
    "            employees\n",
    "        ORDER BY name DESC, age ASC\n",
    "    ''', conn)\n",
    "\n",
    "df"
   ]
  },
  {
   "cell_type": "markdown",
   "metadata": {},
   "source": [
    "## Jak ograniczyć ilość wczytywany rekordów?"
   ]
  },
  {
   "cell_type": "code",
   "execution_count": null,
   "metadata": {},
   "outputs": [],
   "source": [
    "# słowo kluczowe LIMIT - ograniczenie ilości wyników\n",
    "with sqlite3.connect('learning_select.db') as conn:\n",
    "    df = pd.read_sql('''\n",
    "        SELECT\n",
    "            name,\n",
    "            age\n",
    "        FROM\n",
    "            employees\n",
    "        ORDER BY name\n",
    "        LIMIT 10\n",
    "    ''', conn)\n",
    "\n",
    "df"
   ]
  },
  {
   "cell_type": "code",
   "execution_count": null,
   "metadata": {},
   "outputs": [],
   "source": [
    "# słowo kluczowe LIMIT można łączyć z OFFSET\n",
    "with sqlite3.connect('learning_select.db') as conn:\n",
    "    df = pd.read_sql('''\n",
    "        SELECT\n",
    "            name,\n",
    "            age\n",
    "        FROM\n",
    "            employees\n",
    "        ORDER BY name\n",
    "        LIMIT 10 OFFSET 10\n",
    "    ''', conn)\n",
    "\n",
    "df"
   ]
  },
  {
   "cell_type": "markdown",
   "metadata": {},
   "source": [
    "## Jak grupować dane przed ich zaciągnięciem?"
   ]
  },
  {
   "cell_type": "code",
   "execution_count": null,
   "metadata": {},
   "outputs": [],
   "source": [
    "# instrukcja GROUP BY - grupowanie wyników\n",
    "# instrukcja COUNT - zliczanie wyników\n",
    "with sqlite3.connect('learning_select.db') as conn:\n",
    "    df = pd.read_sql('''\n",
    "        SELECT\n",
    "            department,\n",
    "            COUNT(*) AS employees_count\n",
    "        FROM\n",
    "            employees\n",
    "        GROUP BY department\n",
    "    ''', conn)\n",
    "\n",
    "df"
   ]
  },
  {
   "cell_type": "code",
   "execution_count": null,
   "metadata": {},
   "outputs": [],
   "source": [
    "# inne przykładowe funkcje agregujące\n",
    "with sqlite3.connect('learning_select.db') as conn:\n",
    "    df = pd.read_sql('''\n",
    "        SELECT\n",
    "            department,\n",
    "            AVG(salary) AS avg_salary,\n",
    "            MIN(salary) AS min_salary,\n",
    "            MAX(salary) AS max_salary,\n",
    "            SUM(salary) AS sum_salary\n",
    "        FROM\n",
    "            employees\n",
    "        GROUP BY department\n",
    "    ''', conn)\n",
    "\n",
    "df"
   ]
  },
  {
   "cell_type": "markdown",
   "metadata": {},
   "source": [
    "## Jak dodawać warunki w trakcie grupowania?"
   ]
  },
  {
   "cell_type": "code",
   "execution_count": null,
   "metadata": {},
   "outputs": [],
   "source": [
    "with sqlite3.connect('learning_select.db') as conn:\n",
    "    df = pd.read_sql('''\n",
    "        SELECT\n",
    "            department,\n",
    "            AVG(salary) AS avg_salary\n",
    "        FROM\n",
    "            employees\n",
    "        -- WHERE musi być przed GROUP BY\n",
    "        WHERE department = \"HR\" OR department = \"IT\"\n",
    "        GROUP BY department\n",
    "        HAVING avg_salary > 5000\n",
    "    ''', conn)\n",
    "\n",
    "df"
   ]
  },
  {
   "cell_type": "markdown",
   "metadata": {},
   "source": [
    "## Jak znajdować unikalne wartości?"
   ]
  },
  {
   "cell_type": "code",
   "execution_count": null,
   "metadata": {},
   "outputs": [],
   "source": [
    "with sqlite3.connect('learning_select.db') as conn:\n",
    "    df = pd.read_sql('''\n",
    "        SELECT\n",
    "            DISTINCT department\n",
    "        FROM\n",
    "            employees\n",
    "    ''', conn)\n",
    "\n",
    "df"
   ]
  },
  {
   "cell_type": "markdown",
   "metadata": {},
   "source": [
    "## Jak znajdować unikatowe wiersze?"
   ]
  },
  {
   "cell_type": "code",
   "execution_count": null,
   "metadata": {},
   "outputs": [],
   "source": [
    "with sqlite3.connect('learning_select.db') as conn:\n",
    "    df = pd.read_sql('''\n",
    "        SELECT\n",
    "            DISTINCT name, department\n",
    "        FROM\n",
    "            employees\n",
    "        WHERE department IN (\"HR\", \"IT\")\n",
    "        ORDER BY name\n",
    "    ''', conn)\n",
    "\n",
    "df"
   ]
  },
  {
   "cell_type": "markdown",
   "metadata": {},
   "source": [
    "## Łączenie danych - usuwanie części nie pokrywających się"
   ]
  },
  {
   "cell_type": "code",
   "execution_count": null,
   "metadata": {},
   "outputs": [],
   "source": [
    "with sqlite3.connect('learning_select.db') as conn:\n",
    "    df = pd.read_sql('''\n",
    "        SELECT\n",
    "            name,\n",
    "            surname,\n",
    "            department,\n",
    "            contracts.type AS contract_type,\n",
    "            contracts.start AS contract_start,\n",
    "            contracts.end AS contract_end\n",
    "        FROM\n",
    "            employees\n",
    "        JOIN contracts\n",
    "        ON employees.id = contracts.employee_id\n",
    "    ''', conn)\n",
    "\n",
    "df"
   ]
  },
  {
   "cell_type": "markdown",
   "metadata": {},
   "source": [
    "## Łączenie danych - ochraniamy z lewej"
   ]
  },
  {
   "cell_type": "code",
   "execution_count": null,
   "metadata": {},
   "outputs": [],
   "source": [
    "with sqlite3.connect('learning_select.db') as conn:\n",
    "    df = pd.read_sql('''\n",
    "        SELECT\n",
    "            name,\n",
    "            surname,\n",
    "            department,\n",
    "            contracts.type AS contract_type,\n",
    "            contracts.start AS contract_start,\n",
    "            contracts.end AS contract_end\n",
    "        FROM\n",
    "            employees\n",
    "        LEFT JOIN contracts\n",
    "        ON employees.id = contracts.employee_id\n",
    "    ''', conn)\n",
    "\n",
    "df"
   ]
  },
  {
   "cell_type": "markdown",
   "metadata": {},
   "source": [
    "## Łączenie danych - ochraniamy z prawej"
   ]
  },
  {
   "cell_type": "code",
   "execution_count": null,
   "metadata": {},
   "outputs": [],
   "source": [
    "with sqlite3.connect('learning_select.db') as conn:\n",
    "    df = pd.read_sql('''\n",
    "        SELECT\n",
    "            name,\n",
    "            surname,\n",
    "            department,\n",
    "            contracts.type AS contract_type,\n",
    "            contracts.start AS contract_start,\n",
    "            contracts.end AS contract_end\n",
    "        FROM\n",
    "            employees\n",
    "        RIGHT JOIN contracts\n",
    "        ON employees.id = contracts.employee_id\n",
    "    ''', conn)\n",
    "\n",
    "df"
   ]
  },
  {
   "cell_type": "markdown",
   "metadata": {},
   "source": [
    "## Łączenie danych - chronimy wszystkie tabele"
   ]
  },
  {
   "cell_type": "code",
   "execution_count": null,
   "metadata": {},
   "outputs": [],
   "source": [
    "with sqlite3.connect('learning_select.db') as conn:\n",
    "    df = pd.read_sql('''\n",
    "        SELECT\n",
    "            name,\n",
    "            surname,\n",
    "            department,\n",
    "            contracts.type AS contract_type,\n",
    "            contracts.start AS contract_start,\n",
    "            contracts.end AS contract_end\n",
    "        FROM\n",
    "            employees\n",
    "        FULL JOIN contracts\n",
    "        ON employees.id = contracts.employee_id\n",
    "    ''', conn)\n",
    "\n",
    "df"
   ]
  }
 ],
 "metadata": {
  "kernelspec": {
   "display_name": "Python 3 (ipykernel)",
   "language": "python",
   "name": "python3"
  },
  "language_info": {
   "codemirror_mode": {
    "name": "ipython",
    "version": 3
   },
   "file_extension": ".py",
   "mimetype": "text/x-python",
   "name": "python",
   "nbconvert_exporter": "python",
   "pygments_lexer": "ipython3",
   "version": "3.11.3"
  }
 },
 "nbformat": 4,
 "nbformat_minor": 4
}
