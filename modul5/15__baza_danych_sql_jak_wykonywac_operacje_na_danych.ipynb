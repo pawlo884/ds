{
 "cells": [
  {
   "cell_type": "code",
   "execution_count": null,
   "metadata": {},
   "outputs": [],
   "source": [
    "import pandas as pd\n",
    "\n",
    "import sqlite3"
   ]
  },
  {
   "cell_type": "markdown",
   "metadata": {},
   "source": [
    "# Baza danych - SQL - język baz danych - jak wykonywać operacje na danych?\n",
    "\n",
    "Pracując w zawodzie Data Scientist przez 90% czasu spędzonego nad pracą z bazami danych będziemy używać instrukcji `SELECT` (lub innych które pozwolą nam pobierać dane do analizy i trenowania modeli AI).\n",
    "\n",
    "Jednak warto znać inne instrukcje w języku SQL, na które możemy się natknąć w naszej pracy."
   ]
  },
  {
   "cell_type": "markdown",
   "metadata": {},
   "source": [
    "## Jak definiować tabelę w bazie danych"
   ]
  },
  {
   "cell_type": "code",
   "execution_count": null,
   "metadata": {},
   "outputs": [],
   "source": [
    "with sqlite3.connect('learning_non_select.db') as conn:\n",
    "    conn.execute('''\n",
    "        CREATE TABLE products (\n",
    "            id INTEGER PRIMARY KEY,\n",
    "            name TEXT,\n",
    "            price REAL\n",
    "        );\n",
    "    ''')"
   ]
  },
  {
   "cell_type": "markdown",
   "metadata": {},
   "source": [
    "## Jak usuwać tabelę z bazy danych?\n",
    "\n",
    "UWAGA! Tego nie rób na produkcji! Usunięcie tabeli z bazy danych spowoduje utratę wszystkich danych w niej zawartych.\n",
    "\n",
    "```python\n",
    "with sqlite3.connect('learning_non_select.db') as conn:\n",
    "    conn.execute('''\n",
    "        DROP TABLE products;\n",
    "    ''')\n",
    "```"
   ]
  },
  {
   "cell_type": "markdown",
   "metadata": {},
   "source": [
    "## Jak przesyłać dane do bazy danych?"
   ]
  },
  {
   "cell_type": "code",
   "execution_count": null,
   "metadata": {},
   "outputs": [],
   "source": [
    "with sqlite3.connect('learning_non_select.db') as conn:\n",
    "    conn.execute('''\n",
    "        INSERT INTO products (name, price) VALUES\n",
    "            ('Apple', 1.00),\n",
    "            ('Banana', 0.50),\n",
    "            ('Cherry', 2.00);\n",
    "    ''')\n",
    "\n",
    "with sqlite3.connect('learning_non_select.db') as conn:\n",
    "    print(conn.execute('SELECT * FROM products;').fetchall())"
   ]
  },
  {
   "cell_type": "markdown",
   "metadata": {},
   "source": [
    "## Jak modifikować dane w bazie danych?"
   ]
  },
  {
   "cell_type": "code",
   "execution_count": null,
   "metadata": {},
   "outputs": [],
   "source": [
    "with sqlite3.connect('learning_non_select.db') as conn:\n",
    "    conn.execute('''\n",
    "        UPDATE products SET price = 2.50 WHERE name = 'Banana';\n",
    "    ''')\n",
    "\n",
    "with sqlite3.connect('learning_non_select.db') as conn:\n",
    "    print(conn.execute('SELECT * FROM products;').fetchall())"
   ]
  },
  {
   "cell_type": "markdown",
   "metadata": {},
   "source": [
    "## Jak usuwać dane z bazy danych?"
   ]
  },
  {
   "cell_type": "code",
   "execution_count": null,
   "metadata": {},
   "outputs": [],
   "source": [
    "with sqlite3.connect('learning_non_select.db') as conn:\n",
    "    conn.execute('''\n",
    "        DELETE FROM products WHERE name = 'Apple';\n",
    "    ''')\n",
    "\n",
    "with sqlite3.connect('learning_non_select.db') as conn:\n",
    "    print(conn.execute('SELECT * FROM products;').fetchall())"
   ]
  }
 ],
 "metadata": {
  "kernelspec": {
   "display_name": "Python 3 (ipykernel)",
   "language": "python",
   "name": "python3"
  },
  "language_info": {
   "codemirror_mode": {
    "name": "ipython",
    "version": 3
   },
   "file_extension": ".py",
   "mimetype": "text/x-python",
   "name": "python",
   "nbconvert_exporter": "python",
   "pygments_lexer": "ipython3",
   "version": "3.11.3"
  }
 },
 "nbformat": 4,
 "nbformat_minor": 4
}
