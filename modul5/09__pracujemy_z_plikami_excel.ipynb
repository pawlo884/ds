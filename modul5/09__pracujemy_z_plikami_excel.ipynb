{
 "cells": [
  {
   "cell_type": "code",
   "execution_count": 1,
   "metadata": {},
   "outputs": [],
   "source": [
    "import pandas as pd"
   ]
  },
  {
   "cell_type": "markdown",
   "metadata": {},
   "source": [
    "# Pracujemy z plikami - Excel"
   ]
  },
  {
   "cell_type": "markdown",
   "metadata": {},
   "source": [
    "## Wczytywanie danych z pliku Excel"
   ]
  },
  {
   "cell_type": "code",
   "execution_count": 2,
   "metadata": {},
   "outputs": [
    {
     "data": {
      "text/html": [
       "<div>\n",
       "<style scoped>\n",
       "    .dataframe tbody tr th:only-of-type {\n",
       "        vertical-align: middle;\n",
       "    }\n",
       "\n",
       "    .dataframe tbody tr th {\n",
       "        vertical-align: top;\n",
       "    }\n",
       "\n",
       "    .dataframe thead th {\n",
       "        text-align: right;\n",
       "    }\n",
       "</style>\n",
       "<table border=\"1\" class=\"dataframe\">\n",
       "  <thead>\n",
       "    <tr style=\"text-align: right;\">\n",
       "      <th></th>\n",
       "      <th>name</th>\n",
       "      <th>address</th>\n",
       "      <th>email</th>\n",
       "    </tr>\n",
       "  </thead>\n",
       "  <tbody>\n",
       "    <tr>\n",
       "      <th>0</th>\n",
       "      <td>Brian Chan</td>\n",
       "      <td>071 Sandra Villages Apt. 818\\nNew Nancy, CO 54199</td>\n",
       "      <td>dthompson@example.org</td>\n",
       "    </tr>\n",
       "    <tr>\n",
       "      <th>1</th>\n",
       "      <td>Reginald Williams</td>\n",
       "      <td>USNV Collins\\nFPO AA 63235</td>\n",
       "      <td>gchavez@example.net</td>\n",
       "    </tr>\n",
       "    <tr>\n",
       "      <th>2</th>\n",
       "      <td>Michelle Roberts</td>\n",
       "      <td>881 Martin Mission Suite 383\\nEast Brittany, C...</td>\n",
       "      <td>robinoconnor@example.com</td>\n",
       "    </tr>\n",
       "    <tr>\n",
       "      <th>3</th>\n",
       "      <td>Daniel Marshall</td>\n",
       "      <td>27457 Sanchez Prairie\\nNorth Amanda, RI 79959</td>\n",
       "      <td>heather66@example.com</td>\n",
       "    </tr>\n",
       "    <tr>\n",
       "      <th>4</th>\n",
       "      <td>Heather Hines</td>\n",
       "      <td>0754 Kramer Overpass Suite 134\\nCraigfurt, OH ...</td>\n",
       "      <td>nbrown@example.com</td>\n",
       "    </tr>\n",
       "    <tr>\n",
       "      <th>...</th>\n",
       "      <td>...</td>\n",
       "      <td>...</td>\n",
       "      <td>...</td>\n",
       "    </tr>\n",
       "    <tr>\n",
       "      <th>95</th>\n",
       "      <td>Karen Day</td>\n",
       "      <td>52088 Vanessa Place\\nLake Victoriamouth, MH 55271</td>\n",
       "      <td>osimpson@example.net</td>\n",
       "    </tr>\n",
       "    <tr>\n",
       "      <th>96</th>\n",
       "      <td>Daniel Glass</td>\n",
       "      <td>86889 Lane Ranch Suite 352\\nChapmanville, IN 4...</td>\n",
       "      <td>joseph36@example.com</td>\n",
       "    </tr>\n",
       "    <tr>\n",
       "      <th>97</th>\n",
       "      <td>Sarah Taylor</td>\n",
       "      <td>503 Edward Lake Suite 083\\nEast Dean, NJ 28284</td>\n",
       "      <td>sbush@example.net</td>\n",
       "    </tr>\n",
       "    <tr>\n",
       "      <th>98</th>\n",
       "      <td>Charlene Kelly</td>\n",
       "      <td>54934 Hughes Hills Apt. 483\\nPerezhaven, AR 28230</td>\n",
       "      <td>ofoster@example.com</td>\n",
       "    </tr>\n",
       "    <tr>\n",
       "      <th>99</th>\n",
       "      <td>David Petersen</td>\n",
       "      <td>1938 David Row Suite 735\\nMurphyfort, MI 53049</td>\n",
       "      <td>michaeladams@example.com</td>\n",
       "    </tr>\n",
       "  </tbody>\n",
       "</table>\n",
       "<p>100 rows × 3 columns</p>\n",
       "</div>"
      ],
      "text/plain": [
       "                 name                                            address  \\\n",
       "0          Brian Chan  071 Sandra Villages Apt. 818\\nNew Nancy, CO 54199   \n",
       "1   Reginald Williams                         USNV Collins\\nFPO AA 63235   \n",
       "2    Michelle Roberts  881 Martin Mission Suite 383\\nEast Brittany, C...   \n",
       "3     Daniel Marshall      27457 Sanchez Prairie\\nNorth Amanda, RI 79959   \n",
       "4       Heather Hines  0754 Kramer Overpass Suite 134\\nCraigfurt, OH ...   \n",
       "..                ...                                                ...   \n",
       "95          Karen Day  52088 Vanessa Place\\nLake Victoriamouth, MH 55271   \n",
       "96       Daniel Glass  86889 Lane Ranch Suite 352\\nChapmanville, IN 4...   \n",
       "97       Sarah Taylor     503 Edward Lake Suite 083\\nEast Dean, NJ 28284   \n",
       "98     Charlene Kelly  54934 Hughes Hills Apt. 483\\nPerezhaven, AR 28230   \n",
       "99     David Petersen     1938 David Row Suite 735\\nMurphyfort, MI 53049   \n",
       "\n",
       "                       email  \n",
       "0      dthompson@example.org  \n",
       "1        gchavez@example.net  \n",
       "2   robinoconnor@example.com  \n",
       "3      heather66@example.com  \n",
       "4         nbrown@example.com  \n",
       "..                       ...  \n",
       "95      osimpson@example.net  \n",
       "96      joseph36@example.com  \n",
       "97         sbush@example.net  \n",
       "98       ofoster@example.com  \n",
       "99  michaeladams@example.com  \n",
       "\n",
       "[100 rows x 3 columns]"
      ]
     },
     "execution_count": 2,
     "metadata": {},
     "output_type": "execute_result"
    }
   ],
   "source": [
    "df = pd.read_excel('company.xlsx')\n",
    "\n",
    "df"
   ]
  },
  {
   "cell_type": "markdown",
   "metadata": {},
   "source": [
    "## Wczytywanie danych z pliku Excel - arkusze"
   ]
  },
  {
   "cell_type": "code",
   "execution_count": null,
   "metadata": {},
   "outputs": [],
   "source": [
    "df = pd.read_excel('company.xlsx', sheet_name='costs')\n",
    "\n",
    "df"
   ]
  },
  {
   "cell_type": "markdown",
   "metadata": {},
   "source": [
    "## Wczytywanie danych z pliku Excel - zakresy + arkusze"
   ]
  },
  {
   "cell_type": "code",
   "execution_count": null,
   "metadata": {},
   "outputs": [],
   "source": [
    "df = pd.read_excel('company.xlsx', sheet_name='costs', skiprows=2, nrows=20)\n",
    "\n",
    "df"
   ]
  },
  {
   "cell_type": "markdown",
   "metadata": {},
   "source": [
    "## Zapisywanie danych do pliku Excel"
   ]
  },
  {
   "cell_type": "code",
   "execution_count": null,
   "metadata": {},
   "outputs": [],
   "source": [
    "notes_df = pd.DataFrame([\n",
    "    {'note': 'This is a note'},\n",
    "    {'note': 'This is another note'},\n",
    "    {'note': 'This is a third note'},\n",
    "])\n",
    "\n",
    "notes_df.to_excel('notes.xlsx', index=False)"
   ]
  },
  {
   "cell_type": "markdown",
   "metadata": {},
   "source": [
    "## Zapisywanie danych do pliku Excel - pełna kontrola!"
   ]
  },
  {
   "cell_type": "code",
   "execution_count": null,
   "metadata": {},
   "outputs": [],
   "source": [
    "notes_df = pd.DataFrame([\n",
    "    {'note': 'This is a note'},\n",
    "    {'note': 'This is another note'},\n",
    "    {'note': 'This is a third note'},\n",
    "])\n",
    "\n",
    "with pd.ExcelWriter(\"company.xlsx\", mode='a', if_sheet_exists='replace') as writer:\n",
    "    notes_df.to_excel(writer, sheet_name='notes', index=False, startrow=10, startcol=2)"
   ]
  }
 ],
 "metadata": {
  "kernelspec": {
   "display_name": "Python 3 (ipykernel)",
   "language": "python",
   "name": "python3"
  },
  "language_info": {
   "codemirror_mode": {
    "name": "ipython",
    "version": 3
   },
   "file_extension": ".py",
   "mimetype": "text/x-python",
   "name": "python",
   "nbconvert_exporter": "python",
   "pygments_lexer": "ipython3",
   "version": "3.11.9"
  }
 },
 "nbformat": 4,
 "nbformat_minor": 4
}
