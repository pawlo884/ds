{
 "cells": [
  {
   "cell_type": "code",
   "execution_count": null,
   "metadata": {},
   "outputs": [],
   "source": [
    "from pathlib import Path\n",
    "import pandas as pd"
   ]
  },
  {
   "cell_type": "markdown",
   "metadata": {},
   "source": [
    "# Pracujemy z plikami - JSON"
   ]
  },
  {
   "cell_type": "markdown",
   "metadata": {},
   "source": [
    "## Czym jest JSON?\n",
    "\n",
    "JSON (JavaScript Object Notation) to format wymiany danych, który jest łatwy do odczytu i pisania przez ludzi, a także łatwy do analizy i generowania przez komputery. "
   ]
  },
  {
   "cell_type": "code",
   "execution_count": null,
   "metadata": {},
   "outputs": [],
   "source": [
    "with open(\"simple.json\", \"w\") as f:\n",
    "    f.write(\"\"\"\n",
    "[\n",
    "    {\n",
    "        \"name\": \"John\",\n",
    "        \"age\": 30,\n",
    "        \"cars\": 0\n",
    "    },\n",
    "    {\n",
    "        \"name\": \"Jane\",\n",
    "        \"age\": 25,\n",
    "        \"cars\": 1\n",
    "    }\n",
    "]\n",
    "\"\"\")"
   ]
  },
  {
   "cell_type": "code",
   "execution_count": null,
   "metadata": {},
   "outputs": [],
   "source": [
    "df = pd.read_json(\"simple.json\")\n",
    "df"
   ]
  },
  {
   "cell_type": "markdown",
   "metadata": {},
   "source": [
    "## Jak pracować z zagnieżdżonymi danymi w JSON?"
   ]
  },
  {
   "cell_type": "code",
   "execution_count": null,
   "metadata": {},
   "outputs": [],
   "source": [
    "with open(\"nested.json\", \"w\") as f:\n",
    "    f.write(\"\"\"\n",
    "[\n",
    "    {\n",
    "        \"name\": \"John\",\n",
    "        \"age\": 30,\n",
    "        \"car\": {\n",
    "            \"model\": \"Toyota\",\n",
    "            \"year\": 2000\n",
    "        }\n",
    "    },\n",
    "    {\n",
    "        \"name\": \"Jane\",\n",
    "        \"age\": 25,\n",
    "        \"car\": {\n",
    "            \"model\": \"Ford\",\n",
    "            \"year\": 2015\n",
    "        }\n",
    "    }\n",
    "]\n",
    "\"\"\")"
   ]
  },
  {
   "cell_type": "code",
   "execution_count": null,
   "metadata": {},
   "outputs": [],
   "source": [
    "df = pd.read_json(\"nested.json\")\n",
    "df"
   ]
  },
  {
   "cell_type": "code",
   "execution_count": null,
   "metadata": {},
   "outputs": [],
   "source": [
    "df[[\"car_model\", \"car_year\"]] = pd.json_normalize(df[\"car\"])\n",
    "df.drop(columns=[\"car\"], inplace=True)\n",
    "df"
   ]
  },
  {
   "cell_type": "markdown",
   "metadata": {},
   "source": [
    "## Jak wczytywać daty z pliku JSON?"
   ]
  },
  {
   "cell_type": "code",
   "execution_count": null,
   "metadata": {},
   "outputs": [],
   "source": [
    "with open(\"with_dates.json\", \"w\") as f:\n",
    "    f.write(\"\"\"\n",
    "[\n",
    "    {\n",
    "        \"name\": \"John\",\n",
    "        \"age\": 30,\n",
    "        \"date of birth\": \"1990-01-01\",\n",
    "        \"visit date\": \"2020-01-01T12:00:00\"\n",
    "    },\n",
    "    {\n",
    "        \"name\": \"Jane\",\n",
    "        \"age\": 25,\n",
    "        \"date of birth\": \"1995-01-01\",\n",
    "        \"visit date\": \"2020-01-01T13:00:00\"\n",
    "    }\n",
    "]\n",
    "\"\"\")"
   ]
  },
  {
   "cell_type": "code",
   "execution_count": null,
   "metadata": {},
   "outputs": [],
   "source": [
    "df = pd.read_json(\"with_dates.json\")\n",
    "df"
   ]
  },
  {
   "cell_type": "code",
   "execution_count": null,
   "metadata": {},
   "outputs": [],
   "source": [
    "df.info()"
   ]
  },
  {
   "cell_type": "code",
   "execution_count": null,
   "metadata": {},
   "outputs": [],
   "source": [
    "df = pd.read_json(\"with_dates.json\", convert_dates=[\"date of birth\", \"visit date\"])\n",
    "df"
   ]
  },
  {
   "cell_type": "code",
   "execution_count": null,
   "metadata": {},
   "outputs": [],
   "source": [
    "df.info()"
   ]
  },
  {
   "cell_type": "code",
   "execution_count": null,
   "metadata": {},
   "outputs": [],
   "source": [
    "df[\"date of birth\"].dt.year"
   ]
  },
  {
   "cell_type": "markdown",
   "metadata": {},
   "source": [
    "## Wczytywanie JSON-a ze ścieżki "
   ]
  },
  {
   "cell_type": "code",
   "execution_count": null,
   "metadata": {},
   "outputs": [],
   "source": [
    "# wyobraźmy sobie, że plik z danymi żyje w jakiejś strukturze katalogów\n",
    "# tworzymy więc zmienną DATA_PATH, która przechowuje ścieżkę do katalogu z danymi\n",
    "DATA_PATH = Path(\".\").absolute()\n",
    "\n",
    "# dzięki temu możemy łatwo odwoływać się do plików wewnątrz tego katalogu\n",
    "data_path = DATA_PATH / \"with_dates.json\"\n",
    "\n",
    "df = pd.read_json(data_path, convert_dates=[\"date of birth\", \"visit date\"])\n",
    "df"
   ]
  }
 ],
 "metadata": {
  "kernelspec": {
   "display_name": "Python 3 (ipykernel)",
   "language": "python",
   "name": "python3"
  },
  "language_info": {
   "codemirror_mode": {
    "name": "ipython",
    "version": 3
   },
   "file_extension": ".py",
   "mimetype": "text/x-python",
   "name": "python",
   "nbconvert_exporter": "python",
   "pygments_lexer": "ipython3",
   "version": "3.11.3"
  }
 },
 "nbformat": 4,
 "nbformat_minor": 4
}
