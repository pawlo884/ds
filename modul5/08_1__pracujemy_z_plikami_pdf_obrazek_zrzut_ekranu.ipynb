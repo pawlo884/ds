{
 "cells": [
  {
   "cell_type": "code",
   "execution_count": null,
   "metadata": {},
   "outputs": [],
   "source": [
    "# ZANIM ZACZNIEMY MUSIMY ZAINSTALOWAĆ PYDANTIC, BYĆ MOŻE BĘDZIEMY MUSIELI ZROBIĆ RESTART KERNELA\n",
    "!pip install --quiet instructor pydantic openai"
   ]
  },
  {
   "cell_type": "code",
   "execution_count": null,
   "metadata": {},
   "outputs": [],
   "source": [
    "import json\n",
    "from pathlib import Path\n",
    "from datetime import date\n",
    "import base64\n",
    "from getpass import getpass\n",
    "\n",
    "from IPython.display import Image\n",
    "import instructor\n",
    "from pydantic import BaseModel\n",
    "from openai import OpenAI\n",
    "import pandas as pd"
   ]
  },
  {
   "cell_type": "code",
   "execution_count": null,
   "metadata": {},
   "outputs": [],
   "source": [
    "openai_key = getpass(\"Wprowadź swój klucz OpenAI: \")"
   ]
  },
  {
   "cell_type": "code",
   "execution_count": null,
   "metadata": {},
   "outputs": [],
   "source": [
    "openai_client = OpenAI(api_key=openai_key)"
   ]
  },
  {
   "cell_type": "markdown",
   "metadata": {},
   "source": [
    "# Pracujemy z plikami - PDF / Obrazek / Zrzut ekranu"
   ]
  },
  {
   "cell_type": "markdown",
   "metadata": {},
   "source": [
    "## ZANIM ZACZNIEMY\n",
    "\n",
    "* Pod video załączone są linki do kilku rachunków za gaz w formacie `.png`.\n",
    "* Pobierz te pliki.\n",
    "* Następnie utwórz folder `dane_gaz`\n",
    "* A w nim foldery `raw` i `processed`\n",
    "* W folderze `raw` umieść pobrane rachunki"
   ]
  },
  {
   "cell_type": "code",
   "execution_count": null,
   "metadata": {},
   "outputs": [],
   "source": [
    "RAW_DATA_PATH = Path(\"dane_gaz\") / \"raw\"\n",
    "\n",
    "PROCESSED_DATA_PATH = Path(\"dane_gaz\") / \"processed\""
   ]
  },
  {
   "cell_type": "code",
   "execution_count": null,
   "metadata": {},
   "outputs": [],
   "source": [
    "for image_path in RAW_DATA_PATH.glob(\"*.png\"):\n",
    "    print(image_path)"
   ]
  },
  {
   "cell_type": "markdown",
   "metadata": {},
   "source": [
    "## Przykładowy rachunek"
   ]
  },
  {
   "cell_type": "code",
   "execution_count": null,
   "metadata": {
    "scrolled": true
   },
   "outputs": [],
   "source": [
    "Image(RAW_DATA_PATH / \"gaz_2023_12.png\")"
   ]
  },
  {
   "cell_type": "markdown",
   "metadata": {},
   "source": [
    "## Przygotowanie obrazków do przesłania do OpenAI"
   ]
  },
  {
   "cell_type": "code",
   "execution_count": null,
   "metadata": {},
   "outputs": [],
   "source": [
    "image_path = RAW_DATA_PATH / \"gaz_2023_12.png\"\n",
    "\n",
    "with open(image_path, \"rb\") as f:\n",
    "    image_data = base64.b64encode(f.read()).decode('utf-8')\n",
    "\n",
    "image_data[:100]"
   ]
  },
  {
   "cell_type": "code",
   "execution_count": null,
   "metadata": {},
   "outputs": [],
   "source": [
    "def prepare_image_for_open_ai(image_path):\n",
    "    with open(image_path, \"rb\") as f:\n",
    "        image_data = base64.b64encode(f.read()).decode('utf-8')\n",
    "\n",
    "    return f\"data:image/png;base64,{image_data}\""
   ]
  },
  {
   "cell_type": "markdown",
   "metadata": {},
   "source": [
    "## Wyciągamy dane przy pomocy OpenAI"
   ]
  },
  {
   "cell_type": "code",
   "execution_count": null,
   "metadata": {},
   "outputs": [],
   "source": [
    "image_path = RAW_DATA_PATH / \"gaz_2023_12.png\"\n",
    "\n",
    "response = openai_client.chat.completions.create(\n",
    "    # model=\"gpt-4o\",\n",
    "    model=\"gpt-4o-mini\",\n",
    "    temperature=0,\n",
    "    messages=[\n",
    "        {\n",
    "            \"role\": \"user\",\n",
    "            \"content\": [\n",
    "                {\n",
    "                    \"type\": \"text\",\n",
    "                    \"text\": \"\"\"\n",
    "wyciągnij wszystkie informacje zawarte na fakturze.\n",
    "Dane przedstaw w formacie JSON.\n",
    "Oczekuję następujących informacji:\n",
    "{\n",
    "\"razem_sprzedaż_okres_rozliczeniowy_data_od\": ...,\n",
    "\"razem_sprzedaż_okres_rozliczeniowy_data_do\": ...,\n",
    "\"zużycie_m3\": ...,\n",
    "\"zużycie_kWh\": ...,\n",
    "\"do_zapłaty\": ...,\n",
    "\"termin_płatności\": ...,\n",
    "}\n",
    "tylko dane jako JSON, bez żadnych komentarzy\n",
    "\"\"\"\n",
    "                },\n",
    "                {\n",
    "                    \"type\": \"image_url\",\n",
    "                    \"image_url\": {\n",
    "                        \"url\": prepare_image_for_open_ai(image_path),\n",
    "                        \"detail\": \"high\"\n",
    "                    },\n",
    "                },\n",
    "            ],\n",
    "        }\n",
    "    ],\n",
    ")\n",
    "\n",
    "# {\n",
    "# \"razem_sprzedaż_okres_rozliczeniowy_data_od\": \"01.12.2023\",\n",
    "# \"razem_sprzedaż_okres_rozliczeniowy_data_do\": \"31.12.2023\",\n",
    "# \"zużycie_m3\": 130,\n",
    "# \"zużycie_kWh\": 1505,\n",
    "# \"do_zapłaty\": \"463,55 zł\",\n",
    "# \"termin_płatności\": \"18.12.2023\"\n",
    "# }\n",
    "print(response.choices[0].message.content)"
   ]
  },
  {
   "cell_type": "code",
   "execution_count": null,
   "metadata": {},
   "outputs": [],
   "source": [
    "for image_path in RAW_DATA_PATH.glob(\"*.png\"):\n",
    "    print(f\"Processing {image_path}\")\n",
    "\n",
    "    response = openai_client.chat.completions.create(\n",
    "        model=\"gpt-4o\",\n",
    "        # model=\"gpt-4o-mini\",\n",
    "        temperature=0,\n",
    "        messages=[\n",
    "            {\n",
    "                \"role\": \"user\",\n",
    "                \"content\": [\n",
    "                    {\n",
    "                        \"type\": \"text\",\n",
    "                        \"text\": \"\"\"\n",
    "wyciągnij wszystkie informacje zawarte na fakturze.\n",
    "Dane przedstaw w formacie JSON.\n",
    "Oczekuję następujących informacji:\n",
    "{\n",
    "    \"razem_sprzedaż_okres_rozliczeniowy_data_od\": ...,\n",
    "    \"razem_sprzedaż_okres_rozliczeniowy_data_do\": ...,\n",
    "    \"zużycie_m3\": ...,\n",
    "    \"zużycie_kWh\": ...,\n",
    "    \"do_zapłaty\": ...,\n",
    "    \"termin_płatności\": ...,\n",
    "}\n",
    "tylko dane jako JSON, bez żadnych komentarzy\n",
    "\"\"\"\n",
    "                    },\n",
    "                    {\n",
    "                        \"type\": \"image_url\",\n",
    "                        \"image_url\": {\n",
    "                            \"url\": prepare_image_for_open_ai(image_path),\n",
    "                            \"detail\": \"high\"\n",
    "                        },\n",
    "                    },\n",
    "                ],\n",
    "            }\n",
    "        ],\n",
    "    )\n",
    "\n",
    "    result = response.choices[0].message.content.replace(\"```json\", \"\").replace(\"```\", \"\").strip()\n",
    "    with open(PROCESSED_DATA_PATH / f\"{image_path.stem}__simple.json\", \"w\") as f:\n",
    "        f.write(result)"
   ]
  },
  {
   "cell_type": "markdown",
   "metadata": {},
   "source": [
    "## Wyciągamy dane z pliku PDF przy pomocy OpenAI + instructor"
   ]
  },
  {
   "cell_type": "code",
   "execution_count": null,
   "metadata": {},
   "outputs": [],
   "source": [
    "class GasBillInfo(BaseModel):\n",
    "    okres_rozliczeniowy_od: date\n",
    "    okres_rozliczeniowy_do: date\n",
    "    zużycie_m3: float\n",
    "    zużycie_kWh: float\n",
    "    do_zapłaty: float\n",
    "    termin_płatności: date\n",
    "\n",
    "instructor_openai_client = instructor.from_openai(OpenAI(api_key=openai_key))"
   ]
  },
  {
   "cell_type": "code",
   "execution_count": null,
   "metadata": {},
   "outputs": [],
   "source": [
    "image_path = RAW_DATA_PATH / \"gaz_2023_12.png\"\n",
    "\n",
    "gas_bill = instructor_openai_client.chat.completions.create(\n",
    "    model=\"gpt-4o\",\n",
    "    response_model=GasBillInfo,\n",
    "    messages=[\n",
    "        {\n",
    "            \"role\": \"user\",\n",
    "            \"content\": [\n",
    "                {\n",
    "                    \"type\": \"text\",\n",
    "                    \"text\": \"Pobierz szczegóły rachunku za gaz\",\n",
    "                },\n",
    "                {\n",
    "                    \"type\": \"image_url\",\n",
    "                    \"image_url\": {\n",
    "                        \"url\": prepare_image_for_open_ai(image_path),\n",
    "                        \"detail\": \"high\"\n",
    "                    },\n",
    "                },\n",
    "            ],\n",
    "        },\n",
    "    ],\n",
    ")\n",
    "\n",
    "gas_bill"
   ]
  },
  {
   "cell_type": "code",
   "execution_count": null,
   "metadata": {},
   "outputs": [],
   "source": [
    "for image_path in RAW_DATA_PATH.glob(\"*.png\"):\n",
    "    print(f\"Processing {image_path}\")\n",
    "\n",
    "    gas_bill = instructor_openai_client.chat.completions.create(\n",
    "        model=\"gpt-4o\",\n",
    "        response_model=GasBillInfo,\n",
    "        messages=[\n",
    "            {\n",
    "                \"role\": \"user\",\n",
    "                \"content\": [\n",
    "                    {\n",
    "                        \"type\": \"text\",\n",
    "                        \"text\": \"Pobierz szczegóły rachunku za gaz\",\n",
    "                    },\n",
    "                    {\n",
    "                        \"type\": \"image_url\",\n",
    "                        \"image_url\": {\n",
    "                            \"url\": prepare_image_for_open_ai(image_path),\n",
    "                            \"detail\": \"high\"\n",
    "                        },\n",
    "                    },\n",
    "                ],\n",
    "            },\n",
    "        ],\n",
    "    )\n",
    "    with open(PROCESSED_DATA_PATH / f\"{image_path.stem}.json\", \"w\") as f:\n",
    "        f.write(gas_bill.model_dump_json())\n"
   ]
  },
  {
   "cell_type": "code",
   "execution_count": null,
   "metadata": {},
   "outputs": [],
   "source": [
    "# wczytajmy wszystkie dane\n",
    "data = []\n",
    "for json_path in PROCESSED_DATA_PATH.glob(\"*.json\"):\n",
    "    if \"simple\" in json_path.name:\n",
    "        continue \n",
    "        \n",
    "    with open(json_path) as f:\n",
    "        data.append(json.loads(f.read()))\n",
    "\n",
    "df = pd.DataFrame(data)\n",
    "df"
   ]
  },
  {
   "cell_type": "code",
   "execution_count": null,
   "metadata": {},
   "outputs": [],
   "source": [
    "df.sort_values(\"termin_płatności\").plot(x=\"termin_płatności\", y=\"do_zapłaty\", kind=\"bar\")"
   ]
  }
 ],
 "metadata": {
  "kernelspec": {
   "display_name": "Python 3 (ipykernel)",
   "language": "python",
   "name": "python3"
  },
  "language_info": {
   "codemirror_mode": {
    "name": "ipython",
    "version": 3
   },
   "file_extension": ".py",
   "mimetype": "text/x-python",
   "name": "python",
   "nbconvert_exporter": "python",
   "pygments_lexer": "ipython3",
   "version": "3.11.3"
  }
 },
 "nbformat": 4,
 "nbformat_minor": 4
}
