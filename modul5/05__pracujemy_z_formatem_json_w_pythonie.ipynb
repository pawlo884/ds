{
 "cells": [
  {
   "cell_type": "code",
   "execution_count": null,
   "metadata": {},
   "outputs": [],
   "source": [
    "import json"
   ]
  },
  {
   "cell_type": "markdown",
   "metadata": {},
   "source": [
    "# Pracujemy z formatem JSON w Pythonie"
   ]
  },
  {
   "cell_type": "markdown",
   "metadata": {},
   "source": [
    "## Jak czytać plik JSON?"
   ]
  },
  {
   "cell_type": "code",
   "execution_count": null,
   "metadata": {},
   "outputs": [],
   "source": [
    "with open(\"simple.json\", \"w\") as f:\n",
    "    f.write(\"\"\"\n",
    "[\n",
    "    {\n",
    "        \"name\": \"John\",\n",
    "        \"age\": 30,\n",
    "        \"cars\": 0\n",
    "    },\n",
    "    {\n",
    "        \"name\": \"Jane\",\n",
    "        \"age\": 25,\n",
    "        \"cars\": 1\n",
    "    }\n",
    "]\n",
    "\"\"\")"
   ]
  },
  {
   "cell_type": "code",
   "execution_count": null,
   "metadata": {},
   "outputs": [],
   "source": [
    "with open(\"simple.json\", \"r\") as f:\n",
    "    data = json.loads(f.read())\n",
    "\n",
    "data[0][\"name\"]"
   ]
  },
  {
   "cell_type": "markdown",
   "metadata": {},
   "source": [
    "## Jak zapisać dane do pliku JSON?"
   ]
  },
  {
   "cell_type": "code",
   "execution_count": null,
   "metadata": {},
   "outputs": [],
   "source": [
    "data = [\n",
    "    {\n",
    "        \"client\": \"biedronka\",\n",
    "        \"cena\": 10,\n",
    "        \"ilosc\": 100,\n",
    "        \"data\": \"2020-01-01\"\n",
    "    },\n",
    "    {\n",
    "        \"client\": \"lidl\",\n",
    "        \"cena\": 20,\n",
    "        \"ilosc\": 200,\n",
    "        \"data\": \"2020-01-02\"\n",
    "    }\n",
    "]\n",
    "\n",
    "with open(\"clients.json\", \"w\") as f:\n",
    "    f.write(json.dumps(data, indent=4))"
   ]
  }
 ],
 "metadata": {
  "kernelspec": {
   "display_name": "Python 3 (ipykernel)",
   "language": "python",
   "name": "python3"
  },
  "language_info": {
   "codemirror_mode": {
    "name": "ipython",
    "version": 3
   },
   "file_extension": ".py",
   "mimetype": "text/x-python",
   "name": "python",
   "nbconvert_exporter": "python",
   "pygments_lexer": "ipython3",
   "version": "3.11.3"
  }
 },
 "nbformat": 4,
 "nbformat_minor": 4
}
