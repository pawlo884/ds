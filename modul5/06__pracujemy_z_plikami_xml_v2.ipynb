{
 "cells": [
  {
   "cell_type": "code",
   "execution_count": null,
   "metadata": {},
   "outputs": [],
   "source": [
    "import pandas as pd"
   ]
  },
  {
   "cell_type": "code",
   "execution_count": null,
   "metadata": {},
   "outputs": [],
   "source": [
    "# żeby pracować z formatem xml musimy doinstalować pakiet lxml, korzystając z conda\n",
    "# pamiętaj żeby zrobić restart kernela\n",
    "!conda install -y lxml"
   ]
  },
  {
   "cell_type": "code",
   "execution_count": null,
   "metadata": {},
   "outputs": [],
   "source": [
    "# jeżeli nie chcesz użyć conda możesz też zainstalować lxml używając pip\n",
    "!pip install --quiet lxml"
   ]
  },
  {
   "cell_type": "markdown",
   "metadata": {},
   "source": [
    "# Pracujemy z plikami - XML"
   ]
  },
  {
   "cell_type": "markdown",
   "metadata": {},
   "source": [
    "XML to język znaczników, który jest używany do przechowywania i przesyłania danych. XML jest skrótem od Extensible Markup Language. Jest to język znaczników, który definiuje zestaw zasad kodowania dokumentów w formacie, który jest czytelny zarówno dla człowieka, jak i dla maszyny.\n",
    "\n",
    "Np.:\n",
    "```xml\n",
    "<client>\n",
    "    <name>John Doe</name>\n",
    "    <age>30</age>\n",
    "    <city>New York</city>\n",
    "</client>\n",
    "```"
   ]
  },
  {
   "cell_type": "markdown",
   "metadata": {},
   "source": [
    "## Czytanie pliku XML w Pandas"
   ]
  },
  {
   "cell_type": "code",
   "execution_count": null,
   "metadata": {},
   "outputs": [],
   "source": [
    "with open('simple.xml', \"w\") as f:\n",
    "    f.write(\"\"\"\n",
    "<clients>\n",
    "    <client>\n",
    "        <name>John Doe</name>\n",
    "        <age>25</age>\n",
    "        <city>San Francisco</city>\n",
    "    </client>\n",
    "    <client>\n",
    "        <name>Jane Doe</name>\n",
    "        <age>22</age>\n",
    "        <city>Los Angeles</city>\n",
    "    </client>\n",
    "</clients>\n",
    "\"\"\")"
   ]
  },
  {
   "cell_type": "code",
   "execution_count": null,
   "metadata": {},
   "outputs": [],
   "source": [
    "df = pd.read_xml('simple.xml')\n",
    "df"
   ]
  },
  {
   "cell_type": "code",
   "execution_count": null,
   "metadata": {},
   "outputs": [],
   "source": [
    "df.info()"
   ]
  },
  {
   "cell_type": "markdown",
   "metadata": {},
   "source": [
    "## Jak wczytywać daty z pliku XML?"
   ]
  },
  {
   "cell_type": "code",
   "execution_count": null,
   "metadata": {},
   "outputs": [],
   "source": [
    "with open('with_dates.xml', \"w\") as f:\n",
    "    f.write(\"\"\"\n",
    "<clients>\n",
    "    <client>\n",
    "        <name>John Doe</name>\n",
    "        <age>25</age>\n",
    "        <city>San Francisco</city>\n",
    "        <date_of_birth>1995-01-01</date_of_birth>\n",
    "    </client>\n",
    "    <client>\n",
    "        <name>Jane Doe</name>\n",
    "        <age>22</age>\n",
    "        <city>Los Angeles</city>\n",
    "        <date_of_birth>1998-01-01</date_of_birth>\n",
    "    </client>\n",
    "</clients>\n",
    "\"\"\")"
   ]
  },
  {
   "cell_type": "code",
   "execution_count": null,
   "metadata": {},
   "outputs": [],
   "source": [
    "df = pd.read_xml('with_dates.xml')\n",
    "df"
   ]
  },
  {
   "cell_type": "code",
   "execution_count": null,
   "metadata": {},
   "outputs": [],
   "source": [
    "df.info()"
   ]
  },
  {
   "cell_type": "code",
   "execution_count": null,
   "metadata": {},
   "outputs": [],
   "source": [
    "df = pd.read_xml('with_dates.xml', parse_dates=['date_of_birth'])\n",
    "df"
   ]
  },
  {
   "cell_type": "code",
   "execution_count": null,
   "metadata": {},
   "outputs": [],
   "source": [
    "df.info()"
   ]
  },
  {
   "cell_type": "code",
   "execution_count": null,
   "metadata": {},
   "outputs": [],
   "source": [
    "df[\"date_of_birth\"].dt.year"
   ]
  }
 ],
 "metadata": {
  "kernelspec": {
   "display_name": "Python 3 (ipykernel)",
   "language": "python",
   "name": "python3"
  },
  "language_info": {
   "codemirror_mode": {
    "name": "ipython",
    "version": 3
   },
   "file_extension": ".py",
   "mimetype": "text/x-python",
   "name": "python",
   "nbconvert_exporter": "python",
   "pygments_lexer": "ipython3",
   "version": "3.11.9"
  }
 },
 "nbformat": 4,
 "nbformat_minor": 4
}
