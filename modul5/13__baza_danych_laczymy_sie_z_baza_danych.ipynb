{
 "cells": [
  {
   "cell_type": "code",
   "execution_count": null,
   "metadata": {},
   "outputs": [],
   "source": [
    "import pandas as pd\n",
    "\n",
    "# do pracy z sqlite w pythonie używamy modułu sqlite3\n",
    "import sqlite3"
   ]
  },
  {
   "cell_type": "markdown",
   "metadata": {},
   "source": [
    "# Baza danych - łączymy się z bazą danych - SQLite"
   ]
  },
  {
   "cell_type": "markdown",
   "metadata": {},
   "source": [
    "Naszą przygodę z bazami danych zaczniemy od SQLite, bazy absolutnie minimalistycznej, ale powszechnie wykorzystywanej.\n",
    "\n",
    "Bazy danych SQLite jest obecnie używana w dowolnym środowisku:\n",
    "* iPhone'y\n",
    "* telefony z systemem Android\n",
    "* konsole do gier\n",
    "* itp.\n",
    "\n",
    "Udział w rynku bazy SQLite wynosi około 1,5%."
   ]
  },
  {
   "cell_type": "code",
   "execution_count": null,
   "metadata": {},
   "outputs": [],
   "source": [
    "# Połączenie z bazą danych\n",
    "conn = sqlite3.connect('moja_pierwsza_baza.db')"
   ]
  },
  {
   "cell_type": "markdown",
   "metadata": {},
   "source": [
    "## Tworzenie tabeli"
   ]
  },
  {
   "cell_type": "code",
   "execution_count": null,
   "metadata": {},
   "outputs": [],
   "source": [
    "# Po utworzeniu połączenia musimy utworzyć kursor,\n",
    "# który pozwoli na wykonywanie poleceń SQL\n",
    "cur = conn.cursor()\n",
    "\n",
    "# Tworzymy tabelę\n",
    "cur.execute('''\n",
    "CREATE TABLE IF NOT EXISTS clients (\n",
    "    id INTEGER PRIMARY KEY AUTOINCREMENT,\n",
    "    imie TEXT NOT NULL,\n",
    "    nazwisko TEXT NOT NULL,\n",
    "    wiek INTEGER NOT NULL\n",
    ")\n",
    "''')"
   ]
  },
  {
   "cell_type": "markdown",
   "metadata": {},
   "source": [
    "## Przesyłanie danych"
   ]
  },
  {
   "cell_type": "code",
   "execution_count": null,
   "metadata": {},
   "outputs": [],
   "source": [
    "# dane możemy przesyłać \"ręcznie\"\n",
    "cur.execute('''\n",
    "INSERT INTO clients (imie, nazwisko, wiek) VALUES ('Maciej', 'Sobczak', 39)\n",
    "''')\n",
    "cur.execute('''\n",
    "INSERT INTO clients (imie, nazwisko, wiek) VALUES ('Andrzej', 'Kowalski', 36)\n",
    "''')"
   ]
  },
  {
   "cell_type": "code",
   "execution_count": null,
   "metadata": {},
   "outputs": [],
   "source": [
    "# albo użyć do tego pandas\n",
    "dane_df = pd.DataFrame({\n",
    "    'imie': ['Jan', 'Anna', 'Piotr'],\n",
    "    'nazwisko': ['Kowalski', 'Nowak', 'Nowak'],\n",
    "    'wiek': [34, 23, 45]\n",
    "})\n",
    "\n",
    "dane_df.to_sql('clients', con=conn, if_exists='append', index=False)"
   ]
  },
  {
   "cell_type": "markdown",
   "metadata": {},
   "source": [
    "## Odczytywanie danych"
   ]
  },
  {
   "cell_type": "code",
   "execution_count": null,
   "metadata": {},
   "outputs": [],
   "source": [
    "# odpytanie bazy danych \"ręcznie\"\n",
    "cur.execute('SELECT * FROM clients')\n",
    "cur.fetchall()"
   ]
  },
  {
   "cell_type": "code",
   "execution_count": null,
   "metadata": {},
   "outputs": [],
   "source": [
    "# albo wczytanie danych do DataFrame\n",
    "df = pd.read_sql_query('SELECT * FROM clients', conn)\n",
    "df"
   ]
  },
  {
   "cell_type": "code",
   "execution_count": null,
   "metadata": {},
   "outputs": [],
   "source": [
    "# albo wczytanie tylko określonych danych do DataFrame\n",
    "df = pd.read_sql_query(\"SELECT * FROM clients WHERE nazwisko = 'Kowalski'\", conn)\n",
    "df"
   ]
  },
  {
   "cell_type": "code",
   "execution_count": null,
   "metadata": {},
   "outputs": [],
   "source": [
    "# ale w związku z tym, że my chcemy pracować jak profesjonaliści\n",
    "# to musimy pamiętać o zamknięciu połączenia\n",
    "conn.close()"
   ]
  },
  {
   "cell_type": "code",
   "execution_count": null,
   "metadata": {},
   "outputs": [],
   "source": [
    "# a żeby o tym nie zapomnieć to wykorzystamy konstrukcję `with`\n",
    "# i tak w większości będzie wyglądał wasz kod poświęcony pracy z bazą danych\n",
    "with sqlite3.connect('moja_pierwsza_baza.db') as conn:\n",
    "    safe_df = pd.read_sql_query('SELECT * FROM clients', conn)\n",
    "\n",
    "safe_df"
   ]
  }
 ],
 "metadata": {
  "kernelspec": {
   "display_name": "Python 3 (ipykernel)",
   "language": "python",
   "name": "python3"
  },
  "language_info": {
   "codemirror_mode": {
    "name": "ipython",
    "version": 3
   },
   "file_extension": ".py",
   "mimetype": "text/x-python",
   "name": "python",
   "nbconvert_exporter": "python",
   "pygments_lexer": "ipython3",
   "version": "3.11.3"
  }
 },
 "nbformat": 4,
 "nbformat_minor": 4
}
