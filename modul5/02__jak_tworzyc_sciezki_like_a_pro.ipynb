{
 "cells": [
  {
   "cell_type": "markdown",
   "metadata": {},
   "source": [
    "# Jak tworzyć ścieżki like a pro?"
   ]
  },
  {
   "cell_type": "markdown",
   "metadata": {},
   "source": [
    "## WAŻNE! Zanim zaczniemy!\n",
    "\n",
    "Zanim zaczniemy, zadanie dla ciebie, w folderze, w którym znajduje się ten notebook utwórz następujące drzewo katalogów i plików:\n",
    "```\n",
    "data\n",
    "├── raw\n",
    "│   ├── 2024-01-01.csv\n",
    "│   ├── 2024-01-01.xlsx\n",
    "│   └── 2024-01-02.csv\n",
    "└── processed\n",
    "    ├── 2024-01-01.csv\n",
    "    └── 2024-01-02.csv\n",
    "```\n",
    "same pliki csv mogą być puste, ale muszą istnieć"
   ]
  },
  {
   "cell_type": "markdown",
   "metadata": {},
   "source": [
    "W tej lekcji poznamy kilka technik tworzenie ścieżek do plików i katalogów w Pythonie. W całości skoncentrujemy się na module `pathlib`."
   ]
  },
  {
   "cell_type": "code",
   "execution_count": null,
   "metadata": {},
   "outputs": [],
   "source": [
    "# zacznijmy od importu klasy Path z modułu pathlib\n",
    "from pathlib import Path"
   ]
  },
  {
   "cell_type": "markdown",
   "metadata": {},
   "source": [
    "## Tworzenie obiektu ścieżki"
   ]
  },
  {
   "cell_type": "markdown",
   "metadata": {},
   "source": [
    "Używając klasy `Path` możemy konstruować obiekty reprezentujące ścieżki do plików i katalogów."
   ]
  },
  {
   "cell_type": "code",
   "execution_count": null,
   "metadata": {},
   "outputs": [],
   "source": [
    "DATA_PATH = Path(\"data\")\n",
    "# DATA_PATH to zmienna typu Path, która wskazuje na katalog data, i pozwala nam wykonywać operacje na plikach\n",
    "# w tym katalogu\n",
    "DATA_PATH"
   ]
  },
  {
   "cell_type": "code",
   "execution_count": null,
   "metadata": {},
   "outputs": [],
   "source": [
    "# ale możemy też stworzyć ścieżki do kolejnych katalogów lub plików bez konieczności używania\n",
    "# slashy czy backslashy\n",
    "RAW_PATH = Path(\"data\", \"raw\")\n",
    "RAW_PATH"
   ]
  },
  {
   "cell_type": "markdown",
   "metadata": {},
   "source": [
    "## Jak łączyć ścieżki - like a pro?"
   ]
  },
  {
   "cell_type": "markdown",
   "metadata": {},
   "source": [
    "Jednak prawdziwy pro będzie łączył ścieżki w taki sposób, żeby działało to na każdym systemie operacyjnym!"
   ]
  },
  {
   "cell_type": "code",
   "execution_count": null,
   "metadata": {},
   "outputs": [],
   "source": [
    "DATA_2024_01_01_PATH = DATA_PATH / \"raw\" / \"2024-01-01.csv\"\n",
    "DATA_2024_01_01_PATH"
   ]
  },
  {
   "cell_type": "markdown",
   "metadata": {},
   "source": [
    "## Jak sprawdzić czyli ścieżka / plik / katalog istnieje?"
   ]
  },
  {
   "cell_type": "markdown",
   "metadata": {},
   "source": [
    "```\n",
    "data  <-- DATA_PATH\n",
    "├── raw\n",
    "│   ├── 2024-01-01.csv <-- DATA_2024_01_01_PATH\n",
    "│   ├── 2024-01-01.xlsx\n",
    "│   └── 2024-01-02.csv\n",
    "└── processed\n",
    "    ├── 2024-01-01.csv\n",
    "    └── 2024-01-02.csv\n",
    "```"
   ]
  },
  {
   "cell_type": "code",
   "execution_count": null,
   "metadata": {},
   "outputs": [],
   "source": [
    "# katalog data istnieje, więc otrzymamy True\n",
    "DATA_PATH.exists()"
   ]
  },
  {
   "cell_type": "code",
   "execution_count": null,
   "metadata": {},
   "outputs": [],
   "source": [
    "# plik 2024-01-01.csv istnieje, więc otrzymamy True\n",
    "DATA_2024_01_01_PATH.exists()"
   ]
  },
  {
   "cell_type": "code",
   "execution_count": null,
   "metadata": {},
   "outputs": [],
   "source": [
    "# ale \"whatever\" nie istnieje, więc otrzymamy False\n",
    "(DATA_PATH / \"whatever\").exists()"
   ]
  },
  {
   "cell_type": "markdown",
   "metadata": {},
   "source": [
    "## Jak sprawdzić czy ścieżka wskazuje na plik czy katalog?"
   ]
  },
  {
   "cell_type": "markdown",
   "metadata": {},
   "source": [
    "```\n",
    "data  <-- DATA_PATH\n",
    "├── raw\n",
    "│   ├── 2024-01-01.csv <-- DATA_2024_01_01_PATH\n",
    "│   ├── 2024-01-01.xlsx\n",
    "│   └── 2024-01-02.csv\n",
    "└── processed\n",
    "    ├── 2024-01-01.csv\n",
    "    └── 2024-01-02.csv\n",
    "```"
   ]
  },
  {
   "cell_type": "code",
   "execution_count": null,
   "metadata": {},
   "outputs": [],
   "source": [
    "DATA_PATH.is_dir()"
   ]
  },
  {
   "cell_type": "code",
   "execution_count": null,
   "metadata": {},
   "outputs": [],
   "source": [
    "DATA_PATH.is_file()"
   ]
  },
  {
   "cell_type": "code",
   "execution_count": null,
   "metadata": {},
   "outputs": [],
   "source": [
    "DATA_2024_01_01_PATH.is_dir()"
   ]
  },
  {
   "cell_type": "code",
   "execution_count": null,
   "metadata": {},
   "outputs": [],
   "source": [
    "DATA_2024_01_01_PATH.is_file()"
   ]
  },
  {
   "cell_type": "markdown",
   "metadata": {},
   "source": [
    "## Jak przeiterować po plikach w katalogu?\n",
    "\n",
    "Możemy wykorzystać `iterdir()` do przeiterowania po zawartości katalogu."
   ]
  },
  {
   "cell_type": "code",
   "execution_count": null,
   "metadata": {},
   "outputs": [],
   "source": [
    "for subpath in DATA_PATH.iterdir():\n",
    "    print(subpath)"
   ]
  },
  {
   "cell_type": "code",
   "execution_count": null,
   "metadata": {},
   "outputs": [],
   "source": [
    "for subpath in (DATA_PATH / \"raw\").iterdir():\n",
    "    print(subpath)    "
   ]
  },
  {
   "cell_type": "markdown",
   "metadata": {},
   "source": [
    "## Jak przeiterować po plikach w katalogu określonego typu?"
   ]
  },
  {
   "cell_type": "code",
   "execution_count": null,
   "metadata": {},
   "outputs": [],
   "source": [
    "for subpath in DATA_PATH.glob(\"*.csv\"):\n",
    "    print(subpath)"
   ]
  },
  {
   "cell_type": "code",
   "execution_count": null,
   "metadata": {},
   "outputs": [],
   "source": [
    "for subpath in DATA_PATH.glob(\"**/*.csv\"):\n",
    "    print(subpath)"
   ]
  },
  {
   "cell_type": "markdown",
   "metadata": {},
   "source": [
    "## Jak pobrać nazwę pliku z pełnej ścieżki?"
   ]
  },
  {
   "cell_type": "code",
   "execution_count": null,
   "metadata": {},
   "outputs": [],
   "source": [
    "DATA_2024_01_01_PATH.name"
   ]
  },
  {
   "cell_type": "code",
   "execution_count": null,
   "metadata": {},
   "outputs": [],
   "source": [
    "DATA_2024_01_01_PATH.stem"
   ]
  },
  {
   "cell_type": "code",
   "execution_count": null,
   "metadata": {},
   "outputs": [],
   "source": [
    "DATA_2024_01_01_PATH.suffix"
   ]
  }
 ],
 "metadata": {
  "kernelspec": {
   "display_name": "Python 3 (ipykernel)",
   "language": "python",
   "name": "python3"
  },
  "language_info": {
   "codemirror_mode": {
    "name": "ipython",
    "version": 3
   },
   "file_extension": ".py",
   "mimetype": "text/x-python",
   "name": "python",
   "nbconvert_exporter": "python",
   "pygments_lexer": "ipython3",
   "version": "3.11.3"
  }
 },
 "nbformat": 4,
 "nbformat_minor": 4
}
