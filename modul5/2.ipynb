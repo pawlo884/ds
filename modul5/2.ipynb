{
 "cells": [
  {
   "cell_type": "code",
   "execution_count": 15,
   "metadata": {},
   "outputs": [],
   "source": [
    "import json\n",
    "from pathlib import Path\n",
    "import base64\n",
    "from getpass import getpass\n",
    "\n",
    "from IPython.display import Image\n",
    "import instructor\n",
    "from openai import OpenAI\n",
    "import pandas as pd\n",
    "from pydantic import BaseModel\n",
    "from datetime import date\n",
    "import os\n",
    "from dotenv import load_dotenv\n",
    "\n",
    "load_dotenv()\n",
    "openai_key = os.getenv(\"OPENAI_API_KEY\")\n",
    "openai_client = OpenAI(api_key=openai_key)\n"
   ]
  },
  {
   "cell_type": "code",
   "execution_count": 16,
   "metadata": {},
   "outputs": [],
   "source": [
    "RAW_DATA_PATH = Path(\"dane_gaz\") / \"raw\"\n",
    "\n",
    "PROCESSED_DATA_PATH = Path(\"dane_gaz\") / \"processed\""
   ]
  },
  {
   "cell_type": "code",
   "execution_count": null,
   "metadata": {},
   "outputs": [],
   "source": [
    "for image_path in RAW_DATA_PATH.glob(\"*.png\"):\n",
    "    print(image_path)"
   ]
  },
  {
   "cell_type": "code",
   "execution_count": null,
   "metadata": {},
   "outputs": [],
   "source": [
    "Image(RAW_DATA_PATH / \"gaz_2023_12.png\")"
   ]
  },
  {
   "cell_type": "code",
   "execution_count": 14,
   "metadata": {},
   "outputs": [],
   "source": [
    "def prepare_image_for_open_ai(image_path: Path) -> bytes:\n",
    "    with open(image_path, 'rb') as f:\n",
    "        image_data = base64.b64encode(f.read()).decode('utf-8')\n",
    "\n",
    "    return f\"data:image/png;base64,{image_data}\"\n"
   ]
  },
  {
   "cell_type": "code",
   "execution_count": null,
   "metadata": {},
   "outputs": [],
   "source": [
    "for image_path in RAW_DATA_PATH.glob('*.png'):\n",
    "    print(f\"Precessing {image_path}\")\n",
    "\n",
    "    response = openai_client.chat.completions.create(\n",
    "        model=\"gpt-4o-mini\",\n",
    "        temperature=0,\n",
    "        messages=[\n",
    "            {\n",
    "                \"role\": \"user\",\n",
    "                \"content\": [\n",
    "                    {\n",
    "                        \"type\": \"text\",\n",
    "                        \"text\": \"\"\"\n",
    "wyciągnij wszystkie informacje zawarte na fakturze.\n",
    "Dane przedstaw w formacie JSON.\n",
    "Oczekuję następujących informacji:\n",
    "{\n",
    "    \"razem_sprzedaż_okres_rozliczeniowy_data_od\": ...,\n",
    "    \"razem_sprzedaż_okres_rozliczeniowy_data_do\": ...,\n",
    "    \"zużycie_m3\": ...,\n",
    "    \"zużycie_kWh\": ...,\n",
    "    \"do_zapłaty\": ...,\n",
    "    \"termin_płatności\": ...,\n",
    "}\n",
    "tylko dane jako JSON, bez żadnych komentarzy.\n",
    "\"\"\"\n",
    "                    },\n",
    "                    {\n",
    "                        \"type\": \"image_url\",\n",
    "                        \"image_url\": {\n",
    "                            \"url\": prepare_image_for_open_ai(image_path),\n",
    "                            \"detail\": \"high\"\n",
    "                        },\n",
    "                    },\n",
    "                ],\n",
    "            }\n",
    "        ],\n",
    "    )\n",
    "\n",
    "    result = response.choices[0].message.content.replace(\"```json\", \"\").replace(\"```\",\"\").strip()\n",
    "    with open(PROCESSED_DATA_PATH / f\"{image_path.stem}__simple.json\", \"w\") as f:\n",
    "        f.write(result)\n"
   ]
  },
  {
   "cell_type": "code",
   "execution_count": 26,
   "metadata": {},
   "outputs": [],
   "source": [
    "class GasBillInfo(BaseModel):\n",
    "    okres_rozliczeniowy_od: date\n",
    "    okres_rozliczeniowy_do: date\n",
    "    zuzycie_m3: float\n",
    "    zuzycie_kWh: float\n",
    "    do_zaplaty: float\n",
    "    termin_platnosci: date\n",
    "\n",
    "\n",
    "instructor_openai_client = instructor.from_openai(OpenAI(api_key=api_key))"
   ]
  },
  {
   "cell_type": "code",
   "execution_count": 29,
   "metadata": {},
   "outputs": [
    {
     "name": "stdout",
     "output_type": "stream",
     "text": [
      "Precessing dane_gaz\\raw\\gaz_2023_12.png\n",
      "Precessing dane_gaz\\raw\\gaz_2024_01.png\n",
      "Precessing dane_gaz\\raw\\gaz_2024_02.png\n",
      "Precessing dane_gaz\\raw\\gaz_2024_03.png\n",
      "Precessing dane_gaz\\raw\\gaz_2024_04.png\n",
      "Precessing dane_gaz\\raw\\gaz_2024_05.png\n",
      "Precessing dane_gaz\\raw\\gaz_2024_06.png\n",
      "Precessing dane_gaz\\raw\\gaz_2024_07.png\n"
     ]
    }
   ],
   "source": [
    "for image_path in sorted(RAW_DATA_PATH.glob('*.png')):\n",
    "    print(f\"Precessing {image_path}\")\n",
    "\n",
    "    gas_bill = instructor_openai_client.chat.completions.create(\n",
    "        model =\"gpt-4o-mini\",\n",
    "        response_model=GasBillInfo,\n",
    "        messages=[\n",
    "            {\n",
    "                \"role\": \"user\",\n",
    "                \"content\": [\n",
    "                    {\n",
    "                        \"type\": \"text\",\n",
    "                        \"text\": \"Pobierz szczegóły rachunku za gaz\",\n",
    "                    },\n",
    "                    {\n",
    "                        \"type\": \"image_url\",\n",
    "                        \"image_url\": {\n",
    "                            \"url\": prepare_image_for_open_ai(image_path),\n",
    "                            \"detail\": \"high\",\n",
    "                        },\n",
    "                    },\n",
    "                    \n",
    "                ],\n",
    "            },\n",
    "        ],\n",
    "    )\n",
    "    with open(PROCESSED_DATA_PATH / f\"{image_path.stem}.json\", \"w\") as f:\n",
    "        f.write(gas_bill.model_dump_json())"
   ]
  },
  {
   "cell_type": "code",
   "execution_count": 30,
   "metadata": {},
   "outputs": [
    {
     "data": {
      "text/html": [
       "<div>\n",
       "<style scoped>\n",
       "    .dataframe tbody tr th:only-of-type {\n",
       "        vertical-align: middle;\n",
       "    }\n",
       "\n",
       "    .dataframe tbody tr th {\n",
       "        vertical-align: top;\n",
       "    }\n",
       "\n",
       "    .dataframe thead th {\n",
       "        text-align: right;\n",
       "    }\n",
       "</style>\n",
       "<table border=\"1\" class=\"dataframe\">\n",
       "  <thead>\n",
       "    <tr style=\"text-align: right;\">\n",
       "      <th></th>\n",
       "      <th>okres_rozliczeniowy_od</th>\n",
       "      <th>okres_rozliczeniowy_do</th>\n",
       "      <th>zuzycie_m3</th>\n",
       "      <th>zuzycie_kWh</th>\n",
       "      <th>do_zaplaty</th>\n",
       "      <th>termin_platnosci</th>\n",
       "    </tr>\n",
       "  </thead>\n",
       "  <tbody>\n",
       "    <tr>\n",
       "      <th>0</th>\n",
       "      <td>2023-03-01</td>\n",
       "      <td>2024-02-29</td>\n",
       "      <td>130.0</td>\n",
       "      <td>1505.0</td>\n",
       "      <td>463.55</td>\n",
       "      <td>2023-12-18</td>\n",
       "    </tr>\n",
       "    <tr>\n",
       "      <th>1</th>\n",
       "      <td>2023-03-01</td>\n",
       "      <td>2024-02-29</td>\n",
       "      <td>184.0</td>\n",
       "      <td>2124.0</td>\n",
       "      <td>644.73</td>\n",
       "      <td>2024-01-16</td>\n",
       "    </tr>\n",
       "    <tr>\n",
       "      <th>2</th>\n",
       "      <td>2023-03-01</td>\n",
       "      <td>2024-02-29</td>\n",
       "      <td>191.0</td>\n",
       "      <td>2204.0</td>\n",
       "      <td>668.14</td>\n",
       "      <td>2024-02-19</td>\n",
       "    </tr>\n",
       "    <tr>\n",
       "      <th>3</th>\n",
       "      <td>2024-03-01</td>\n",
       "      <td>2024-03-02</td>\n",
       "      <td>98.0</td>\n",
       "      <td>1128.0</td>\n",
       "      <td>353.21</td>\n",
       "      <td>2024-03-18</td>\n",
       "    </tr>\n",
       "    <tr>\n",
       "      <th>4</th>\n",
       "      <td>2024-03-01</td>\n",
       "      <td>2024-02-28</td>\n",
       "      <td>84.0</td>\n",
       "      <td>960.0</td>\n",
       "      <td>304.03</td>\n",
       "      <td>2024-04-16</td>\n",
       "    </tr>\n",
       "    <tr>\n",
       "      <th>5</th>\n",
       "      <td>2024-03-03</td>\n",
       "      <td>2024-04-01</td>\n",
       "      <td>35.0</td>\n",
       "      <td>394.0</td>\n",
       "      <td>138.38</td>\n",
       "      <td>2024-05-16</td>\n",
       "    </tr>\n",
       "    <tr>\n",
       "      <th>6</th>\n",
       "      <td>2024-03-01</td>\n",
       "      <td>2024-02-28</td>\n",
       "      <td>3.0</td>\n",
       "      <td>34.0</td>\n",
       "      <td>33.00</td>\n",
       "      <td>2024-06-17</td>\n",
       "    </tr>\n",
       "    <tr>\n",
       "      <th>7</th>\n",
       "      <td>2023-03-01</td>\n",
       "      <td>2024-02-28</td>\n",
       "      <td>6.0</td>\n",
       "      <td>69.0</td>\n",
       "      <td>46.90</td>\n",
       "      <td>2024-07-15</td>\n",
       "    </tr>\n",
       "  </tbody>\n",
       "</table>\n",
       "</div>"
      ],
      "text/plain": [
       "  okres_rozliczeniowy_od okres_rozliczeniowy_do  zuzycie_m3  zuzycie_kWh  \\\n",
       "0             2023-03-01             2024-02-29       130.0       1505.0   \n",
       "1             2023-03-01             2024-02-29       184.0       2124.0   \n",
       "2             2023-03-01             2024-02-29       191.0       2204.0   \n",
       "3             2024-03-01             2024-03-02        98.0       1128.0   \n",
       "4             2024-03-01             2024-02-28        84.0        960.0   \n",
       "5             2024-03-03             2024-04-01        35.0        394.0   \n",
       "6             2024-03-01             2024-02-28         3.0         34.0   \n",
       "7             2023-03-01             2024-02-28         6.0         69.0   \n",
       "\n",
       "   do_zaplaty termin_platnosci  \n",
       "0      463.55       2023-12-18  \n",
       "1      644.73       2024-01-16  \n",
       "2      668.14       2024-02-19  \n",
       "3      353.21       2024-03-18  \n",
       "4      304.03       2024-04-16  \n",
       "5      138.38       2024-05-16  \n",
       "6       33.00       2024-06-17  \n",
       "7       46.90       2024-07-15  "
      ]
     },
     "execution_count": 30,
     "metadata": {},
     "output_type": "execute_result"
    }
   ],
   "source": [
    "data = []\n",
    "for json_path in PROCESSED_DATA_PATH.glob('*.json'):\n",
    "    if \"simple\" in json_path.name:\n",
    "        continue\n",
    "\n",
    "    with open(json_path) as f:\n",
    "        data.append(json.loads(f.read()))\n",
    "        \n",
    "df = pd.DataFrame(data)\n",
    "df"
   ]
  },
  {
   "cell_type": "code",
   "execution_count": 32,
   "metadata": {},
   "outputs": [
    {
     "data": {
      "text/plain": [
       "<Axes: xlabel='termin_platnosci'>"
      ]
     },
     "execution_count": 32,
     "metadata": {},
     "output_type": "execute_result"
    },
    {
     "data": {
      "image/png": "[encoded data removed]",
      "text/plain": [
       "<Figure size 640x480 with 1 Axes>"
      ]
     },
     "metadata": {},
     "output_type": "display_data"
    }
   ],
   "source": [
    "df.sort_values(\"termin_platnosci\").plot(x=\"termin_platnosci\", y=\"do_zaplaty\", kind=\"bar\")"
   ]
  },
  {
   "cell_type": "code",
   "execution_count": null,
   "metadata": {},
   "outputs": [],
   "source": []
  }
 ],
 "metadata": {
  "kernelspec": {
   "display_name": ".venv",
   "language": "python",
   "name": "python3"
  },
  "language_info": {
   "codemirror_mode": {
    "name": "ipython",
    "version": 3
   },
   "file_extension": ".py",
   "mimetype": "text/x-python",
   "name": "python",
   "nbconvert_exporter": "python",
   "pygments_lexer": "ipython3",
   "version": "3.11.9"
  }
 },
 "nbformat": 4,
 "nbformat_minor": 2
}
