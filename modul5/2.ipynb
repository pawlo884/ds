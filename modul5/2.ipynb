{
 "cells": [
  {
   "cell_type": "code",
   "execution_count": 24,
   "metadata": {},
   "outputs": [],
   "source": [
    "import json\n",
    "from pathlib import Path\n",
    "import base64\n",
    "from getpass import getpass\n",
    "\n",
    "from IPython.display import Image\n",
    "import instructor\n",
    "from openai import OpenAI\n",
    "import pandas as pd\n",
    "from pydantic import BaseModel\n",
    "from datetime import date\n",
    "import os\n",
    "from dotenv import load_dotenv\n",
    "\n",
    "load_dotenv()\n",
    "openai_key = os.getenv(\"OPENAI_API_KEY\")\n",
    "openai_client = OpenAI(api_key=openai_key)\n"
   ]
  },
  {
   "cell_type": "code",
   "execution_count": 20,
   "metadata": {},
   "outputs": [],
   "source": [
    "RAW_DATA_PATH = Path(\"dane_gaz\") / \"raw\"\n",
    "\n",
    "PROCESSED_DATA_PATH = Path(\"dane_gaz\") / \"processed\""
   ]
  },
  {
   "cell_type": "code",
   "execution_count": 25,
   "metadata": {},
   "outputs": [],
   "source": [
    "RAW_DATA_PATH = Path(\"zad_dom\") / \"raw_inv\"\n",
    "PROCESSED_DATA_PATH = Path(\"zad_dom\") / \"processed_inv\""
   ]
  },
  {
   "cell_type": "code",
   "execution_count": 26,
   "metadata": {},
   "outputs": [
    {
     "name": "stdout",
     "output_type": "stream",
     "text": [
      "zad_dom\\raw_inv\\zad_domowe__invoice_1.png\n",
      "zad_dom\\raw_inv\\zad_domowe__invoice_10.png\n",
      "zad_dom\\raw_inv\\zad_domowe__invoice_2.png\n",
      "zad_dom\\raw_inv\\zad_domowe__invoice_3.png\n",
      "zad_dom\\raw_inv\\zad_domowe__invoice_4.png\n",
      "zad_dom\\raw_inv\\zad_domowe__invoice_5.png\n",
      "zad_dom\\raw_inv\\zad_domowe__invoice_6.png\n",
      "zad_dom\\raw_inv\\zad_domowe__invoice_7.png\n",
      "zad_dom\\raw_inv\\zad_domowe__invoice_8.png\n",
      "zad_dom\\raw_inv\\zad_domowe__invoice_9.png\n"
     ]
    }
   ],
   "source": [
    "for image_path in RAW_DATA_PATH.glob(\"*.png\"):\n",
    "    print(image_path)"
   ]
  },
  {
   "cell_type": "code",
   "execution_count": null,
   "metadata": {},
   "outputs": [],
   "source": [
    "Image(RAW_DATA_PATH / \"gaz_2023_12.png\")"
   ]
  },
  {
   "cell_type": "code",
   "execution_count": 16,
   "metadata": {},
   "outputs": [],
   "source": [
    "def prepare_image_for_open_ai(image_path: Path) -> bytes:\n",
    "    with open(image_path, 'rb') as f:\n",
    "        image_data = base64.b64encode(f.read()).decode('utf-8')\n",
    "\n",
    "    return f\"data:image/png;base64,{image_data}\"\n"
   ]
  },
  {
   "cell_type": "code",
   "execution_count": null,
   "metadata": {},
   "outputs": [],
   "source": [
    "for image_path in RAW_DATA_PATH.glob('*.png'):\n",
    "    print(f\"Precessing {image_path}\")\n",
    "\n",
    "    response = openai_client.chat.completions.create(\n",
    "        model=\"gpt-4o-mini\",\n",
    "        temperature=0,\n",
    "        messages=[\n",
    "            {\n",
    "                \"role\": \"user\",\n",
    "                \"content\": [\n",
    "                    {\n",
    "                        \"type\": \"text\",\n",
    "                        \"text\": \"\"\"\n",
    "wyciągnij wszystkie informacje zawarte na fakturze.\n",
    "Dane przedstaw w formacie JSON.\n",
    "Oczekuję następujących informacji:\n",
    "{\n",
    "    \"razem_sprzedaż_okres_rozliczeniowy_data_od\": ...,\n",
    "    \"razem_sprzedaż_okres_rozliczeniowy_data_do\": ...,\n",
    "    \"zużycie_m3\": ...,\n",
    "    \"zużycie_kWh\": ...,\n",
    "    \"do_zapłaty\": ...,\n",
    "    \"termin_płatności\": ...,\n",
    "}\n",
    "tylko dane jako JSON, bez żadnych komentarzy.\n",
    "\"\"\"\n",
    "                    },\n",
    "                    {\n",
    "                        \"type\": \"image_url\",\n",
    "                        \"image_url\": {\n",
    "                            \"url\": prepare_image_for_open_ai(image_path),\n",
    "                            \"detail\": \"high\"\n",
    "                        },\n",
    "                    },\n",
    "                ],\n",
    "            }\n",
    "        ],\n",
    "    )\n",
    "\n",
    "    result = response.choices[0].message.content.replace(\"```json\", \"\").replace(\"```\",\"\").strip()\n",
    "    with open(PROCESSED_DATA_PATH / f\"{image_path.stem}__simple.json\", \"w\") as f:\n",
    "        f.write(result)\n"
   ]
  },
  {
   "cell_type": "code",
   "execution_count": null,
   "metadata": {},
   "outputs": [],
   "source": [
    "class GasBillInfo(BaseModel):\n",
    "    okres_rozliczeniowy_od: date\n",
    "    okres_rozliczeniowy_do: date\n",
    "    zuzycie_m3: float\n",
    "    zuzycie_kWh: float\n",
    "    do_zaplaty: float\n",
    "    termin_platnosci: date\n",
    "\n",
    "\n",
    "instructor_openai_client = instructor.from_openai(OpenAI(api_key=api_key))"
   ]
  },
  {
   "cell_type": "code",
   "execution_count": null,
   "metadata": {},
   "outputs": [],
   "source": [
    "for image_path in sorted(RAW_DATA_PATH.glob('*.png')):\n",
    "    print(f\"Precessing {image_path}\")\n",
    "\n",
    "    gas_bill = instructor_openai_client.chat.completions.create(\n",
    "        model =\"gpt-4o-mini\",\n",
    "        response_model=GasBillInfo,\n",
    "        messages=[\n",
    "            {\n",
    "                \"role\": \"user\",\n",
    "                \"content\": [\n",
    "                    {\n",
    "                        \"type\": \"text\",\n",
    "                        \"text\": \"Pobierz szczegóły rachunku za gaz\",\n",
    "                    },\n",
    "                    {\n",
    "                        \"type\": \"image_url\",\n",
    "                        \"image_url\": {\n",
    "                            \"url\": prepare_image_for_open_ai(image_path),\n",
    "                            \"detail\": \"high\",\n",
    "                        },\n",
    "                    },\n",
    "                    \n",
    "                ],\n",
    "            },\n",
    "        ],\n",
    "    )\n",
    "    with open(PROCESSED_DATA_PATH / f\"{image_path.stem}.json\", \"w\") as f:\n",
    "        f.write(gas_bill.model_dump_json())"
   ]
  },
  {
   "cell_type": "code",
   "execution_count": null,
   "metadata": {},
   "outputs": [],
   "source": [
    "data = []\n",
    "for json_path in PROCESSED_DATA_PATH.glob('*.json'):\n",
    "    if \"simple\" in json_path.name:\n",
    "        continue\n",
    "\n",
    "    with open(json_path) as f:\n",
    "        data.append(json.loads(f.read()))\n",
    "        \n",
    "df = pd.DataFrame(data)\n",
    "df"
   ]
  },
  {
   "cell_type": "code",
   "execution_count": null,
   "metadata": {},
   "outputs": [],
   "source": [
    "df.sort_values(\"termin_platnosci\").plot(x=\"termin_platnosci\", y=\"do_zaplaty\", kind=\"bar\")"
   ]
  },
  {
   "cell_type": "code",
   "execution_count": null,
   "metadata": {},
   "outputs": [],
   "source": []
  }
 ],
 "metadata": {
  "kernelspec": {
   "display_name": ".venv",
   "language": "python",
   "name": "python3"
  },
  "language_info": {
   "codemirror_mode": {
    "name": "ipython",
    "version": 3
   },
   "file_extension": ".py",
   "mimetype": "text/x-python",
   "name": "python",
   "nbconvert_exporter": "python",
   "pygments_lexer": "ipython3",
   "version": "3.11.9"
  }
 },
 "nbformat": 4,
 "nbformat_minor": 2
}
