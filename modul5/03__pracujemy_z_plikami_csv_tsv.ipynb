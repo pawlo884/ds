{
 "cells": [
  {
   "cell_type": "code",
   "execution_count": null,
   "metadata": {},
   "outputs": [],
   "source": [
    "from pathlib import Path\n",
    "import pandas as pd"
   ]
  },
  {
   "cell_type": "markdown",
   "metadata": {},
   "source": [
    "# Pracujemy z plikami - CSV / TSV"
   ]
  },
  {
   "cell_type": "markdown",
   "metadata": {},
   "source": [
    "## Czym jest CSV?"
   ]
  },
  {
   "cell_type": "code",
   "execution_count": null,
   "metadata": {},
   "outputs": [],
   "source": [
    "with open(\"simple.csv\", \"w\") as f:\n",
    "    f.write(\"\"\"\n",
    "imie,nazwisko,wiek\n",
    "Jan,Kowalski,25\n",
    "Anna,Nowak,37\n",
    "\"\"\")"
   ]
  },
  {
   "cell_type": "code",
   "execution_count": null,
   "metadata": {},
   "outputs": [],
   "source": [
    "df = pd.read_csv('simple.csv')\n",
    "df"
   ]
  },
  {
   "cell_type": "code",
   "execution_count": null,
   "metadata": {},
   "outputs": [],
   "source": [
    "with open(\"no_header.csv\", \"w\") as f:\n",
    "    f.write(\"\"\"\n",
    "Jan,Kowalski,25\n",
    "Anna,Nowak,37\n",
    "\"\"\")"
   ]
  },
  {
   "cell_type": "code",
   "execution_count": null,
   "metadata": {},
   "outputs": [],
   "source": [
    "df = pd.read_csv('no_header.csv', header=None)\n",
    "df"
   ]
  },
  {
   "cell_type": "code",
   "execution_count": null,
   "metadata": {},
   "outputs": [],
   "source": [
    "df = pd.read_csv('no_header.csv', header=None, names=['name', 'surname', 'age'])\n",
    "df"
   ]
  },
  {
   "cell_type": "code",
   "execution_count": null,
   "metadata": {},
   "outputs": [],
   "source": [
    "with open(\"semicolon.csv\", \"w\") as f:\n",
    "    f.write(\"\"\"\n",
    "imie;nazwisko;wiek\n",
    "Jan;Kowalski;25\n",
    "Anna;Nowak;35\n",
    "\"\"\")"
   ]
  },
  {
   "cell_type": "code",
   "execution_count": null,
   "metadata": {},
   "outputs": [],
   "source": [
    "df = pd.read_csv('semicolon.csv', sep=\";\")\n",
    "df"
   ]
  },
  {
   "cell_type": "code",
   "execution_count": null,
   "metadata": {},
   "outputs": [],
   "source": [
    "with open(\"broken_because_of_comma.csv\", \"w\") as f:\n",
    "    f.write(\"\"\"\n",
    "imie,nazwisko,wiek\n",
    "Jan,Kowalski, Junior,25\n",
    "Anna,Nowak,35\n",
    "\"\"\")"
   ]
  },
  {
   "cell_type": "code",
   "execution_count": null,
   "metadata": {},
   "outputs": [],
   "source": [
    "df = pd.read_csv('broken_because_of_comma.csv', sep=\",\")\n",
    "df"
   ]
  },
  {
   "cell_type": "code",
   "execution_count": null,
   "metadata": {},
   "outputs": [],
   "source": [
    "with open(\"fixed_because_of_comma.csv\", \"w\") as f:\n",
    "    f.write(\"\"\"\n",
    "imie,nazwisko,wiek\n",
    "Jan,\"Kowalski, Junior\",25\n",
    "Anna,Nowak,35\n",
    "\"\"\")"
   ]
  },
  {
   "cell_type": "code",
   "execution_count": null,
   "metadata": {},
   "outputs": [],
   "source": [
    "df = pd.read_csv('fixed_because_of_comma.csv')\n",
    "df"
   ]
  },
  {
   "cell_type": "markdown",
   "metadata": {},
   "source": [
    "## Jak wczytywać daty z pliku CSV?"
   ]
  },
  {
   "cell_type": "code",
   "execution_count": null,
   "metadata": {},
   "outputs": [],
   "source": [
    "with open(\"with_dates.csv\", \"w\") as f:\n",
    "    f.write(\"\"\"\n",
    "imie,nazwisko,wiek,\"data urodzenia\",wizyta\n",
    "Jan,Kowalski,25,1985-01-01,2024-01-01T12:00:00\n",
    "Anna,Nowak,35,1954-02-26,2024-03-07T12:00:00\n",
    "\"\"\")"
   ]
  },
  {
   "cell_type": "code",
   "execution_count": null,
   "metadata": {},
   "outputs": [],
   "source": [
    "df = pd.read_csv('with_dates.csv')\n",
    "df"
   ]
  },
  {
   "cell_type": "code",
   "execution_count": null,
   "metadata": {},
   "outputs": [],
   "source": [
    "df.info()"
   ]
  },
  {
   "cell_type": "code",
   "execution_count": null,
   "metadata": {},
   "outputs": [],
   "source": [
    "df = pd.read_csv('with_dates.csv', parse_dates=['data urodzenia', 'wizyta'])\n",
    "df"
   ]
  },
  {
   "cell_type": "code",
   "execution_count": null,
   "metadata": {},
   "outputs": [],
   "source": [
    "df.info()"
   ]
  },
  {
   "cell_type": "code",
   "execution_count": null,
   "metadata": {},
   "outputs": [],
   "source": [
    "df[\"data urodzenia\"].dt.year"
   ]
  },
  {
   "cell_type": "markdown",
   "metadata": {},
   "source": [
    "## Wczytywanie CSV ze ścieżki "
   ]
  },
  {
   "cell_type": "code",
   "execution_count": null,
   "metadata": {},
   "outputs": [],
   "source": [
    "# wyobraźmy sobie, że plik z danymi żyje w jakiejś strukturze katalogów\n",
    "# tworzymy więc zmienną DATA_PATH, która przechowuje ścieżkę do katalogu z danymi\n",
    "DATA_PATH = Path(\".\").absolute()\n",
    "\n",
    "# wczytujemy plik z danymi\n",
    "df = pd.read_csv(DATA_PATH / \"with_dates.csv\", parse_dates=['data urodzenia', 'wizyta'])\n",
    "df\n"
   ]
  },
  {
   "cell_type": "markdown",
   "metadata": {},
   "source": [
    "## Czym jest TSV?"
   ]
  },
  {
   "cell_type": "code",
   "execution_count": null,
   "metadata": {},
   "outputs": [],
   "source": [
    "with open(\"simple.tsv\", \"w\") as f:\n",
    "    f.write(\"\"\"\n",
    "imie\\tnazwisko\\twiek\n",
    "Jan\\tKowalski\\t25\n",
    "Anna\\tNowak\\t35\n",
    "\"\"\")"
   ]
  },
  {
   "cell_type": "code",
   "execution_count": null,
   "metadata": {},
   "outputs": [],
   "source": [
    "df = pd.read_csv('simple.tsv', sep=\"\\t\")\n",
    "df"
   ]
  }
 ],
 "metadata": {
  "kernelspec": {
   "display_name": "Python 3 (ipykernel)",
   "language": "python",
   "name": "python3"
  },
  "language_info": {
   "codemirror_mode": {
    "name": "ipython",
    "version": 3
   },
   "file_extension": ".py",
   "mimetype": "text/x-python",
   "name": "python",
   "nbconvert_exporter": "python",
   "pygments_lexer": "ipython3",
   "version": "3.11.3"
  }
 },
 "nbformat": 4,
 "nbformat_minor": 4
}
