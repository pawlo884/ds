{
 "cells": [
  {
   "cell_type": "markdown",
   "metadata": {},
   "source": [
    "# Wizualizacja i wykresy - plotly\n",
    "\n",
    "Plotly to biblioteka do tworzenia interaktywnych wykresów. W przeciwieństwie do `matplotlib` czy `seaborn`, `plotly` pozwala na interakcję z wykresem - można przybliżać, oddalać, przesuwać, zaznaczać obszary, wybierać serie danych do wyświetlenia itp.\n",
    "\n",
    "## Jak zainstalować i używać bibliotekę `plotly`?\n",
    "\n",
    "Za pomocą conda:\n",
    "```bash\n",
    "conda activate od_zera_do_ai\n",
    "conda install -y plotly\n",
    "```\n",
    "\n",
    "lub za pomocą pip:\n",
    "```bash\n",
    "pip install --quiet plotly\n",
    "```"
   ]
  },
  {
   "cell_type": "code",
   "execution_count": null,
   "metadata": {},
   "outputs": [],
   "source": [
    "import plotly.express as px\n",
    "import seaborn as sns"
   ]
  },
  {
   "cell_type": "code",
   "execution_count": null,
   "metadata": {},
   "outputs": [],
   "source": [
    "# wykorzystamy dane z seaborn\n",
    "tips_df = sns.load_dataset(\"tips\")\n",
    "\n",
    "tips_df.sample(10)"
   ]
  },
  {
   "cell_type": "markdown",
   "metadata": {},
   "source": [
    "## Jak tworzyć histogramy za pomocą `plotly`?"
   ]
  },
  {
   "cell_type": "code",
   "execution_count": null,
   "metadata": {},
   "outputs": [],
   "source": [
    "fig = px.histogram(\n",
    "    tips_df,\n",
    "    x=\"total_bill\",\n",
    "    title=\"Rozkład wartości rachunków\",\n",
    "    width=600,\n",
    "    height=400,\n",
    ")\n",
    "fig.show()"
   ]
  },
  {
   "cell_type": "markdown",
   "metadata": {},
   "source": [
    "## Jak tworzyć histogram z optymalną ilością koszyków?"
   ]
  },
  {
   "cell_type": "code",
   "execution_count": null,
   "metadata": {},
   "outputs": [],
   "source": [
    "# jak znaleźć optymalną liczbę przedziałów?\n",
    "nbins = int(len(tips_df) ** (1 / 2))\n",
    "\n",
    "fig = px.histogram(\n",
    "    tips_df,\n",
    "    x=\"total_bill\",\n",
    "    title=\"Rozkład wartości rachunków\",\n",
    "    nbins=nbins,\n",
    "    width=600,\n",
    "    height=400,\n",
    ")\n",
    "fig.show()"
   ]
  },
  {
   "cell_type": "markdown",
   "metadata": {},
   "source": [
    "## Jak stworzyć bar chart / histogram dla danych kategorycznych w `plotly`?"
   ]
  },
  {
   "cell_type": "code",
   "execution_count": null,
   "metadata": {},
   "outputs": [],
   "source": [
    "# bar chart!\n",
    "fig = px.histogram(tips_df, x=\"day\")\n",
    "fig.update_layout(\n",
    "    title=\"Liczba rachunków w zależności od dnia tygodnia\",\n",
    "    xaxis_title=\"Dzień tygodnia\",\n",
    "    yaxis_title=\"Liczba rachunków\",\n",
    ")\n",
    "fig.show()"
   ]
  },
  {
   "cell_type": "markdown",
   "metadata": {},
   "source": [
    "## Jak stworzyć bar chart w `plotly`?"
   ]
  },
  {
   "cell_type": "code",
   "execution_count": null,
   "metadata": {},
   "outputs": [],
   "source": [
    "tips_df[\"tip_percentage\"] = tips_df[\"tip\"] / tips_df[\"total_bill\"] * 100\n",
    "mean_tips_df = tips_df.groupby(\"day\", as_index=False)[\"tip_percentage\"].mean()\n",
    "\n",
    "fig = px.bar(mean_tips_df, x=\"day\", y=\"tip_percentage\")\n",
    "fig.update_layout(\n",
    "    title=\"Średnia napiwku w zależności od dnia tygodnia\",\n",
    "    xaxis_title=\"Dzień tygodnia\",\n",
    "    yaxis_title=\"Średnia napiwku\",\n",
    ")\n",
    "fig.show()"
   ]
  },
  {
   "cell_type": "markdown",
   "metadata": {},
   "source": [
    "## Jak stworzyć wykres pudełkowy w `plotly`?"
   ]
  },
  {
   "cell_type": "code",
   "execution_count": null,
   "metadata": {},
   "outputs": [],
   "source": [
    "fig = px.box(tips_df, x=\"day\", y=\"tip\")\n",
    "fig.update_layout(\n",
    "    title=\"Rozkład napiwków w zależności od dnia tygodnia\",\n",
    "    xaxis_title=\"Dzień tygodnia\",\n",
    "    yaxis_title=\"Napiwek\",\n",
    ")\n",
    "fig.show()"
   ]
  },
  {
   "cell_type": "markdown",
   "metadata": {},
   "source": [
    "## Jak stworzyć wykres punktowy w `plotly`?"
   ]
  },
  {
   "cell_type": "code",
   "execution_count": null,
   "metadata": {},
   "outputs": [],
   "source": [
    "fig = px.scatter(tips_df, x=\"total_bill\", y=\"tip\")\n",
    "fig.update_layout(\n",
    "    title=\"Zależność napiwku od wartości rachunku\",\n",
    "    xaxis_title=\"Wartość rachunku\",\n",
    "    yaxis_title=\"Napiwek\",\n",
    ")\n",
    "fig.show()"
   ]
  },
  {
   "cell_type": "markdown",
   "metadata": {},
   "source": [
    "## Jak stworzyć wykres punktowy w `plotly` dodając kolory i rozmiary punktów?"
   ]
  },
  {
   "cell_type": "code",
   "execution_count": null,
   "metadata": {},
   "outputs": [],
   "source": [
    "fig = px.scatter(\n",
    "    tips_df,\n",
    "    x=\"total_bill\",\n",
    "    y=\"tip\",\n",
    "    color=\"smoker\",\n",
    "    size=\"size\",\n",
    ")\n",
    "fig.update_layout(\n",
    "    title=\"Zależność napiwku od wartości rachunku\",\n",
    "    xaxis_title=\"Wartość rachunku\",\n",
    "    yaxis_title=\"Napiwek\",\n",
    ")\n",
    "fig.show()"
   ]
  },
  {
   "cell_type": "markdown",
   "metadata": {},
   "source": [
    "## Jak stworzyć heatmapę w `plotly`?"
   ]
  },
  {
   "cell_type": "code",
   "execution_count": null,
   "metadata": {},
   "outputs": [],
   "source": [
    "fig = px.imshow(\n",
    "    tips_df.corr(numeric_only=True),\n",
    "    color_continuous_scale=\"Inferno_r\",\n",
    ")\n",
    "fig.show()"
   ]
  }
 ],
 "metadata": {
  "kernelspec": {
   "display_name": "Python 3 (ipykernel)",
   "language": "python",
   "name": "python3"
  },
  "language_info": {
   "codemirror_mode": {
    "name": "ipython",
    "version": 3
   },
   "file_extension": ".py",
   "mimetype": "text/x-python",
   "name": "python",
   "nbconvert_exporter": "python",
   "pygments_lexer": "ipython3",
   "version": "3.11.9"
  }
 },
 "nbformat": 4,
 "nbformat_minor": 4
}
