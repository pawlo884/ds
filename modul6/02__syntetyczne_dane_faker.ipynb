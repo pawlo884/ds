{
 "cells": [
  {
   "cell_type": "markdown",
   "metadata": {},
   "source": [
    "# Generowanie syntetycznych danych korzystając z biblioteki Faker\n",
    "\n",
    "Biblioteka Faker to narzędzie Pythona do generowania fałszywych danych. Jest szczególnie przydatna podczas testowania aplikacji"
   ]
  },
  {
   "cell_type": "markdown",
   "metadata": {},
   "source": [
    "## Jak zainstalować bibliotekę Faker?\n",
    "\n",
    "Za pomocą conda:\n",
    "```bash\n",
    "conda activate od_zera_do_ai\n",
    "conda install -y faker\n",
    "```\n",
    "\n",
    "lub za pomocą pip:\n",
    "```bash\n",
    "pip install Faker\n",
    "```"
   ]
  },
  {
   "cell_type": "markdown",
   "metadata": {},
   "source": [
    "## Jak zacząć korzystać z biblioteki Faker?"
   ]
  },
  {
   "cell_type": "code",
   "execution_count": null,
   "metadata": {},
   "outputs": [],
   "source": [
    "# należy zaimportować z biblioteki faker klasę Faker\n",
    "from faker import Faker\n",
    "\n",
    "fake = Faker()"
   ]
  },
  {
   "cell_type": "markdown",
   "metadata": {},
   "source": [
    "## Jak wygenerować fałszywe imię i nazwisko?"
   ]
  },
  {
   "cell_type": "code",
   "execution_count": null,
   "metadata": {},
   "outputs": [],
   "source": [
    "fake.name()"
   ]
  },
  {
   "cell_type": "markdown",
   "metadata": {},
   "source": [
    "## Jak wygenerować fałszywy adres e-mail?"
   ]
  },
  {
   "cell_type": "code",
   "execution_count": null,
   "metadata": {},
   "outputs": [],
   "source": [
    "fake.email()"
   ]
  },
  {
   "cell_type": "markdown",
   "metadata": {},
   "source": [
    "## Jak wygenerować fałszywy adres?"
   ]
  },
  {
   "cell_type": "code",
   "execution_count": null,
   "metadata": {},
   "outputs": [],
   "source": [
    "fake.address()"
   ]
  },
  {
   "cell_type": "markdown",
   "metadata": {},
   "source": [
    "## Jak wygenerować fałszywy tekst?"
   ]
  },
  {
   "cell_type": "code",
   "execution_count": null,
   "metadata": {},
   "outputs": [],
   "source": [
    "fake.text()"
   ]
  },
  {
   "cell_type": "code",
   "execution_count": null,
   "metadata": {},
   "outputs": [],
   "source": [
    "fake.text(300)"
   ]
  },
  {
   "cell_type": "markdown",
   "metadata": {},
   "source": [
    "## Jakie typy danych można generować za pomocą biblioteki Faker?\n",
    "\n",
    "Faker może generować szeroki zakres typów danych. Oto kilka przykładów:"
   ]
  },
  {
   "cell_type": "code",
   "execution_count": null,
   "metadata": {},
   "outputs": [],
   "source": [
    "print(fake.name())       # Imię i nazwisko\n",
    "print(fake.address())    # Adres\n",
    "print(fake.text())       # Tekst\n",
    "print(fake.email())      # E-mail\n",
    "print(fake.phone_number())  # Numer telefonu\n",
    "print(fake.date_of_birth())  # Data urodzenia\n",
    "print(fake.company())    # Nazwa firmy\n",
    "print(fake.job())        # Stanowisko pracy\n",
    "print(fake.credit_card_number())  # Numer karty kredytowej\n",
    "print(fake.iban())       # Numer IBAN"
   ]
  },
  {
   "cell_type": "markdown",
   "metadata": {},
   "source": [
    "## Jak sprawdzić czy faker może wygenerować szukane przeze mnie dane?"
   ]
  },
  {
   "cell_type": "code",
   "execution_count": null,
   "metadata": {},
   "outputs": [],
   "source": [
    "for attr in dir(fake):\n",
    "    if \"name\" in attr:\n",
    "        print(attr)"
   ]
  },
  {
   "cell_type": "markdown",
   "metadata": {},
   "source": [
    "## Czy faker potrafi wygenerować dane w języku polskim?"
   ]
  },
  {
   "cell_type": "code",
   "execution_count": null,
   "metadata": {},
   "outputs": [],
   "source": [
    "fake_pl = Faker('pl_PL')\n",
    "fake_pl.name()"
   ]
  },
  {
   "cell_type": "code",
   "execution_count": null,
   "metadata": {},
   "outputs": [],
   "source": [
    "fake_pl.address()"
   ]
  },
  {
   "cell_type": "code",
   "execution_count": null,
   "metadata": {},
   "outputs": [],
   "source": [
    "fake_pl.text()"
   ]
  },
  {
   "cell_type": "markdown",
   "metadata": {},
   "source": [
    "## Jak sprawić, żeby faker zawsze generował te same dane?"
   ]
  },
  {
   "cell_type": "code",
   "execution_count": null,
   "metadata": {},
   "outputs": [],
   "source": [
    "from faker import Faker\n",
    "\n",
    "fake = Faker()\n",
    "Faker.seed(0)"
   ]
  },
  {
   "cell_type": "code",
   "execution_count": null,
   "metadata": {},
   "outputs": [],
   "source": [
    "print(fake.name())\n",
    "print(fake.address())"
   ]
  },
  {
   "cell_type": "markdown",
   "metadata": {},
   "source": [
    "## Jak generować listy danych?"
   ]
  },
  {
   "cell_type": "code",
   "execution_count": null,
   "metadata": {},
   "outputs": [],
   "source": [
    "fake = Faker()\n",
    "\n",
    "names = [fake.name() for _ in range(5)]\n",
    "names"
   ]
  },
  {
   "cell_type": "markdown",
   "metadata": {},
   "source": [
    "## Jak użyć faker do anonimizacji danych?"
   ]
  },
  {
   "cell_type": "code",
   "execution_count": null,
   "metadata": {},
   "outputs": [],
   "source": [
    "import pandas as pd\n",
    "from faker import Faker\n",
    "\n",
    "\n",
    "fake = Faker()\n",
    "Faker.seed(4321)\n",
    "\n",
    "# załóżmy, że mamy bazę pracowników, dane kontaktowe i wynagrodzenia\n",
    "# dane kontaktowe są bardzo wrażliwe, więc nie możemy ich udostępniać\n",
    "# ale co jeżeli musimy komuś przekazać dane do analizy?\n",
    "df = pd.DataFrame([\n",
    "    {'name': \"John Doe\", 'email': \"john@real.com\", 'salary': 560},\n",
    "    {'name': \"Anna Smith\", 'email': \"anna@real.com\", 'salary': 500},\n",
    "    {'name': \"Will White\", 'email': \"will@gmail.com\", 'salary': 450},\n",
    "])\n",
    "\n",
    "unique_emails_len = len(df['email'])\n",
    "anonymized_emails = []\n",
    "while len(anonymized_emails) < unique_emails_len:\n",
    "    email = fake.email()\n",
    "    if email not in anonymized_emails:\n",
    "        anonymized_emails.append(email)\n",
    "\n",
    "unique_names_len = len(df['name'])\n",
    "anonymized_names = []\n",
    "while len(anonymized_names) < unique_names_len:\n",
    "    name = fake.name()\n",
    "    if name not in anonymized_names:\n",
    "        anonymized_names.append(name)\n",
    "\n",
    "\n",
    "df['email'] = anonymized_emails\n",
    "df['name'] = anonymized_names\n",
    "\n",
    "df"
   ]
  },
  {
   "cell_type": "markdown",
   "metadata": {},
   "source": [
    "## Jak wygenerować DataFrame z fałszywymi danymi?"
   ]
  },
  {
   "cell_type": "code",
   "execution_count": null,
   "metadata": {},
   "outputs": [],
   "source": [
    "import faker\n",
    "import random\n",
    "\n",
    "fake = faker.Faker()\n",
    "\n",
    "data = []\n",
    "for i in range(1000):\n",
    "    data.append({\n",
    "        'Age': random.randint(20, 100) if random.random() > 0.1 else None,\n",
    "        'Name': fake.first_name() + ' ' + fake.last_name() if random.random() > 0.1 else None,\n",
    "        'Address': fake.address() if random.random() > 0.1 else None,\n",
    "        'Height': random.randint(150, 200) if random.random() > 0.1 else None,\n",
    "        'Weight': random.randint(40, 110) if random.random() > 0.1 else None,\n",
    "    })\n",
    "\n",
    "clients_df = pd.DataFrame(data)\n",
    "clients_df"
   ]
  }
 ],
 "metadata": {
  "kernelspec": {
   "display_name": "Python 3 (ipykernel)",
   "language": "python",
   "name": "python3"
  },
  "language_info": {
   "codemirror_mode": {
    "name": "ipython",
    "version": 3
   },
   "file_extension": ".py",
   "mimetype": "text/x-python",
   "name": "python",
   "nbconvert_exporter": "python",
   "pygments_lexer": "ipython3",
   "version": "3.11.9"
  }
 },
 "nbformat": 4,
 "nbformat_minor": 4
}
