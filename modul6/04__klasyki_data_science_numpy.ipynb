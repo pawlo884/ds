{
 "cells": [
  {
   "cell_type": "markdown",
   "metadata": {},
   "source": [
    "# Klasyki Data Science - numpy"
   ]
  },
  {
   "cell_type": "markdown",
   "metadata": {},
   "source": [
    "## Czym zajmuje się bibiloteka `numpy`\n",
    "\n",
    "* Biblioteka `numpy` jest jedną z najważniejszych bibliotek w ekosystemie Pythona. \n",
    "* Zawiera ona wiele przydatnych funkcji do operacji na macierzach, wektorach i tensorach. \n",
    "* Dzięki niej możemy wykonywać operacje na dużych zbiorach danych w sposób wydajny."
   ]
  },
  {
   "cell_type": "markdown",
   "metadata": {},
   "source": [
    "## Jak zainstalować i używać bibliotekę `numpy`?\n",
    "\n",
    "Za pomocą conda:\n",
    "```bash\n",
    "conda activate od_zera_do_ai\n",
    "conda install -y numpy\n",
    "```\n",
    "\n",
    "lub za pomocą pip:\n",
    "```bash\n",
    "pip install numpy\n",
    "```"
   ]
  },
  {
   "cell_type": "code",
   "execution_count": null,
   "metadata": {},
   "outputs": [],
   "source": [
    "import numpy as np"
   ]
  },
  {
   "cell_type": "markdown",
   "metadata": {},
   "source": [
    "## Jak stworzyć tablice w `numpy`?"
   ]
  },
  {
   "cell_type": "code",
   "execution_count": null,
   "metadata": {},
   "outputs": [],
   "source": [
    "array = np.array([1, 2, 3, 4, 5])\n",
    "print(array)"
   ]
  },
  {
   "cell_type": "markdown",
   "metadata": {},
   "source": [
    "## Jak wykonywać operacje arytmetyczne na tablicach w `numpy`?"
   ]
  },
  {
   "cell_type": "code",
   "execution_count": null,
   "metadata": {},
   "outputs": [],
   "source": [
    "array1 = np.array([1, 2, 3])\n",
    "array2 = np.array([4, 5, 6])\n",
    "\n",
    "# Dodawanie\n",
    "result = array1 + array2\n",
    "print(result)\n",
    "\n",
    "# Mnożenie\n",
    "result = array1 * array2\n",
    "print(result)\n",
    "\n",
    "# Dzielenie\n",
    "result = array1 / array2\n",
    "print(result)"
   ]
  },
  {
   "cell_type": "markdown",
   "metadata": {},
   "source": [
    "## Operacje pomiędzy liczbą a tablicą w `numpy`"
   ]
  },
  {
   "cell_type": "code",
   "execution_count": null,
   "metadata": {},
   "outputs": [],
   "source": [
    "array = np.array([1, 2, 3, 4, 5])\n",
    "print(array)\n",
    "\n",
    "# Dodawanie\n",
    "result = array + 1\n",
    "print(result)\n",
    "\n",
    "# Odejmowanie\n",
    "result = array - 4\n",
    "print(result)\n",
    "\n",
    "# Mnożenie\n",
    "result = array * 2\n",
    "print(result)\n",
    "\n",
    "# Dzielenie\n",
    "result = array / 2\n",
    "print(result)"
   ]
  },
  {
   "cell_type": "markdown",
   "metadata": {},
   "source": [
    "## Jak wygenerować dane losowe w `numpy`?"
   ]
  },
  {
   "cell_type": "code",
   "execution_count": null,
   "metadata": {},
   "outputs": [],
   "source": [
    "# generowanie liczb rzeczywistych z przedziału [0, 1)\n",
    "random_data = np.random.random(10)\n",
    "print(random_data)\n",
    "\n",
    "# generowanie liczb całkowitych z przedziału [0, 10)\n",
    "random_data = np.random.randint(0, 10, 10)\n",
    "print(random_data)\n",
    "\n",
    "# generowanie liczb z rozkładu normalnego\n",
    "random_data = np.random.normal(0, 1, 10)\n",
    "print(random_data)"
   ]
  }
 ],
 "metadata": {
  "kernelspec": {
   "display_name": "Python 3 (ipykernel)",
   "language": "python",
   "name": "python3"
  },
  "language_info": {
   "codemirror_mode": {
    "name": "ipython",
    "version": 3
   },
   "file_extension": ".py",
   "mimetype": "text/x-python",
   "name": "python",
   "nbconvert_exporter": "python",
   "pygments_lexer": "ipython3",
   "version": "3.11.9"
  }
 },
 "nbformat": 4,
 "nbformat_minor": 4
}
