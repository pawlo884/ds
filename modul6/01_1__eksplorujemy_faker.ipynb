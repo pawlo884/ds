{
 "cells": [
  {
   "cell_type": "code",
   "execution_count": null,
   "metadata": {},
   "outputs": [],
   "source": [
    "import base64\n",
    "from textwrap import dedent, indent\n",
    "from IPython.display import Image\n",
    "\n",
    "def mindmap(title: str, data: str, width: int = 400, height: int = 300) -> Image:\n",
    "    \"\"\"Based on: https://mermaid.ink/\"\"\"\n",
    "\n",
    "    size = \"\"\n",
    "    if width:\n",
    "        size += f\"width={width},\"\n",
    "    if height:\n",
    "        size += f\"height={height},\"\n",
    "    data = indent(dedent(data.strip()), 8 * \" \")\n",
    "    data_escaped = []\n",
    "    for i, line in enumerate(data.split(\"\\n\")):\n",
    "        white_chars_count = len(line) - len(line.lstrip())\n",
    "        data_escaped.append(white_chars_count * \" \" + f'id{i + 1}(\"{line.strip()}\")')\n",
    "\n",
    "    data = \"\\n\".join(data_escaped)\n",
    "    content = f\"\"\"\n",
    "mindmap\n",
    "    root(({title}))\n",
    "{data}\n",
    "    \"\"\"\n",
    "    url = \"https://mermaid.ink/svg/\" + base64.b64encode(content.encode(\"utf-8\")).decode(\"utf-8\")\n",
    "    if size:\n",
    "        url += f\"?{size}\"\n",
    "\n",
    "    return Image(url=url)\n"
   ]
  },
  {
   "cell_type": "markdown",
   "metadata": {},
   "source": [
    "# Faker"
   ]
  },
  {
   "cell_type": "markdown",
   "metadata": {},
   "source": [
    "Wszystko zaczyna się od jakiejś rekomendacji. Ktoś przesyła nam lub gdzieś znajdujemy link: https://github.com/joke2k/faker"
   ]
  },
  {
   "cell_type": "markdown",
   "metadata": {},
   "source": [
    "## Czy warto?\n",
    "\n",
    "- czy jest popularna? TAK 17.4k gwiazdek\n",
    "- czy jest aktualizowana? TAK\n",
    "- czy jest dobrze udokumentowana? TAK\n",
    "- czy jest używana w projektach? TAK"
   ]
  },
  {
   "cell_type": "markdown",
   "metadata": {},
   "source": [
    "## Instalacja\n",
    "\n",
    "```bash\n",
    "pip install Faker\n",
    "```\n",
    "\n",
    "ALE na https://anaconda.org/conda-forge/faker znajdujemy `conda install conda-forge::faker`\n",
    "\n",
    "```bash\n",
    "conda install -y faker\n",
    "```"
   ]
  },
  {
   "cell_type": "markdown",
   "metadata": {},
   "source": [
    "## Linki\n",
    "\n",
    "- [Kod](https://github.com/joke2k/faker)\n",
    "- [Dokumentacja](https://faker.readthedocs.io/en/stable/)\n",
    "- [Lista metod](https://faker.readthedocs.io/en/stable/providers.html)"
   ]
  },
  {
   "cell_type": "markdown",
   "metadata": {},
   "source": [
    "## Mapa wiedzy"
   ]
  },
  {
   "cell_type": "code",
   "execution_count": null,
   "metadata": {},
   "outputs": [],
   "source": [
    "mindmap(\"Faker\", \"\"\"\n",
    "Zastosowania\n",
    "    Fałszywe dane\n",
    "    Testowanie\n",
    "    Generowanie danych\n",
    "        Gdy potrzebuję na szybko pobawić się inną biblioteką, które potrzebuje danych\n",
    "    Wypełnianie baz danych\n",
    "        Gdy zaczynam jakiś projekt i chcę dodać na szybko dane testowe\n",
    "    Anonimizacja danych\n",
    "        Dane autentyczne chcę podmienić na dane wymyślone, żeby komuś udostępnić\n",
    "from faker import Faker\n",
    "    inne języki\n",
    "        fake = Faker('it_IT')\n",
    "    fake = Faker()\n",
    "        osoby\n",
    "            fake.name()\n",
    "            fake.address()\n",
    "            fake.email()\n",
    "            fake.phone_number()\n",
    "            fake.date_of_birth()\n",
    "        tekst\n",
    "            fake.text()\n",
    "\"\"\", width=1000, height=800)"
   ]
  },
  {
   "cell_type": "markdown",
   "metadata": {},
   "source": [
    "## Zabawa / Playground - Odkrywaj z `TAB` + `?` + `??`!"
   ]
  },
  {
   "cell_type": "code",
   "execution_count": null,
   "metadata": {},
   "outputs": [],
   "source": [
    "from faker import Faker\n",
    "\n",
    "fake = Faker()"
   ]
  },
  {
   "cell_type": "code",
   "execution_count": null,
   "metadata": {},
   "outputs": [],
   "source": [
    "fake.first_name()"
   ]
  },
  {
   "cell_type": "code",
   "execution_count": null,
   "metadata": {},
   "outputs": [],
   "source": [
    "fake.city()"
   ]
  },
  {
   "cell_type": "code",
   "execution_count": null,
   "metadata": {},
   "outputs": [],
   "source": [
    "fake.am_pm()"
   ]
  },
  {
   "cell_type": "code",
   "execution_count": null,
   "metadata": {},
   "outputs": [],
   "source": [
    "fake.cryptocurrency??"
   ]
  },
  {
   "cell_type": "code",
   "execution_count": null,
   "metadata": {},
   "outputs": [],
   "source": []
  }
 ],
 "metadata": {
  "kernelspec": {
   "display_name": "Python 3 (ipykernel)",
   "language": "python",
   "name": "python3"
  },
  "language_info": {
   "codemirror_mode": {
    "name": "ipython",
    "version": 3
   },
   "file_extension": ".py",
   "mimetype": "text/x-python",
   "name": "python",
   "nbconvert_exporter": "python",
   "pygments_lexer": "ipython3",
   "version": "3.11.9"
  }
 },
 "nbformat": 4,
 "nbformat_minor": 4
}
