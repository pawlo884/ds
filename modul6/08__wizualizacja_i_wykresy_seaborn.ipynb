{
 "cells": [
  {
   "cell_type": "markdown",
   "metadata": {},
   "source": [
    "# Wizualizacja i wykresy - seaborn\n",
    "\n",
    "Biblioteka `seaborn` jest nakładką na `matplotlib` i pozwala na tworzenie atrakcyjnych wykresów w kilku liniach kodu.\n",
    "\n",
    "`seaborn` tworzy wykresy, które adresują problemy przed którymi zwykle stoimy w trakcie analizy danych. \n",
    "\n",
    "## Jak zainstalować i używać bibliotekę `seaborn`?\n",
    "\n",
    "Za pomocą conda:\n",
    "```bash\n",
    "conda activate od_zera_do_ai\n",
    "conda install -y seaborn\n",
    "```\n",
    "\n",
    "lub za pomocą pip:\n",
    "```bash\n",
    "pip install seaborn\n",
    "```"
   ]
  },
  {
   "cell_type": "code",
   "execution_count": null,
   "metadata": {},
   "outputs": [],
   "source": [
    "import seaborn as sns\n",
    "\n",
    "sns.set_theme()"
   ]
  },
  {
   "cell_type": "markdown",
   "metadata": {},
   "source": [
    "## Jak badać relację pomiędzy zmiennymi / kolumnami używając `seaborn` i wykresów punktowych?"
   ]
  },
  {
   "cell_type": "code",
   "execution_count": null,
   "metadata": {},
   "outputs": [],
   "source": [
    "# searborn posiada wbudowane zbiory danych\n",
    "tips_df = sns.load_dataset(\"tips\")\n",
    "\n",
    "tips_df.sample(10)"
   ]
  },
  {
   "cell_type": "code",
   "execution_count": null,
   "metadata": {},
   "outputs": [],
   "source": [
    "# relational plots\n",
    "sns.relplot(\n",
    "    data=tips_df,\n",
    "    x=\"total_bill\",\n",
    "    y=\"tip\",\n",
    "    col=\"time\",\n",
    "    hue=\"smoker\",\n",
    "    style=\"smoker\",\n",
    "    size=\"size\",\n",
    ")"
   ]
  },
  {
   "cell_type": "markdown",
   "metadata": {},
   "source": [
    "## Jak badać relację pomiędzy zmiennymi / kolumnami używając `seaborn` i wykresów liniowych (z przedziałami ufności)?"
   ]
  },
  {
   "cell_type": "code",
   "execution_count": null,
   "metadata": {},
   "outputs": [],
   "source": [
    "fmri_df = sns.load_dataset(\"fmri\")\n",
    "\n",
    "fmri_df.sample(10)"
   ]
  },
  {
   "cell_type": "code",
   "execution_count": null,
   "metadata": {},
   "outputs": [],
   "source": [
    "# średnia + przedział ufności\n",
    "sns.relplot(\n",
    "    data=fmri_df,\n",
    "    kind=\"line\",\n",
    "    x=\"timepoint\",\n",
    "    y=\"signal\",\n",
    "    col=\"region\",\n",
    "    hue=\"event\",\n",
    "    style=\"event\",\n",
    ")"
   ]
  },
  {
   "cell_type": "markdown",
   "metadata": {},
   "source": [
    "## Jak tworzyć linie regresji za pomocą `seaborn`?"
   ]
  },
  {
   "cell_type": "code",
   "execution_count": null,
   "metadata": {},
   "outputs": [],
   "source": [
    "tips_df = sns.load_dataset(\"tips\")\n",
    "\n",
    "# regression model\n",
    "sns.lmplot(data=tips_df, x=\"total_bill\", y=\"tip\", col=\"time\", hue=\"smoker\")"
   ]
  },
  {
   "cell_type": "markdown",
   "metadata": {},
   "source": [
    "## Jak badać rozkłady zmiennych liczbowych za pomocą `seaborn`?"
   ]
  },
  {
   "cell_type": "code",
   "execution_count": null,
   "metadata": {},
   "outputs": [],
   "source": [
    "tips_df = sns.load_dataset(\"tips\")\n",
    "\n",
    "sns.displot(data=tips_df, x=\"total_bill\", col=\"time\", kde=True)"
   ]
  },
  {
   "cell_type": "markdown",
   "metadata": {},
   "source": [
    "## Jak badać rozkłady zmiennych kategorycznych za pomocą `seaborn` - gdy rekordów nie jest zbyt wiele?"
   ]
  },
  {
   "cell_type": "code",
   "execution_count": null,
   "metadata": {},
   "outputs": [],
   "source": [
    "tips_df = sns.load_dataset(\"tips\")\n",
    "\n",
    "sns.catplot(data=tips_df, kind=\"swarm\", x=\"day\", y=\"total_bill\", hue=\"smoker\")"
   ]
  },
  {
   "cell_type": "markdown",
   "metadata": {},
   "source": [
    "## Jak badać rozkłady zmiennych kategorycznych za pomocą `seaborn` - gdy rekordów jest dużo?"
   ]
  },
  {
   "cell_type": "code",
   "execution_count": null,
   "metadata": {},
   "outputs": [],
   "source": [
    "tips_df = sns.load_dataset(\"tips\")\n",
    "\n",
    "sns.catplot(data=tips_df, kind=\"violin\", x=\"day\", y=\"total_bill\", hue=\"smoker\", split=True)"
   ]
  },
  {
   "cell_type": "markdown",
   "metadata": {},
   "source": [
    "## Jak badać rozkłady zmiennych kategorycznych za pomocą `seaborn` i wykresów słupkowych?"
   ]
  },
  {
   "cell_type": "code",
   "execution_count": null,
   "metadata": {},
   "outputs": [],
   "source": [
    "tips_df = sns.load_dataset(\"tips\")\n",
    "\n",
    "sns.catplot(data=tips_df, kind=\"bar\", x=\"day\", y=\"total_bill\", hue=\"smoker\")"
   ]
  },
  {
   "cell_type": "markdown",
   "metadata": {},
   "source": [
    "## Jak łączyć wiele wykresów w jednym obiekcie `seaborn`?"
   ]
  },
  {
   "cell_type": "code",
   "execution_count": null,
   "metadata": {},
   "outputs": [],
   "source": [
    "penguins_df = sns.load_dataset(\"penguins\")\n",
    "\n",
    "penguins_df.sample(10)"
   ]
  },
  {
   "cell_type": "code",
   "execution_count": null,
   "metadata": {},
   "outputs": [],
   "source": [
    "sns.jointplot(data=penguins_df, x=\"flipper_length_mm\", y=\"bill_length_mm\", hue=\"species\")"
   ]
  },
  {
   "cell_type": "markdown",
   "metadata": {},
   "source": [
    "## Jak badać zależności pomiędzy zmiennymi za pomocą `seaborn`?"
   ]
  },
  {
   "cell_type": "code",
   "execution_count": null,
   "metadata": {},
   "outputs": [],
   "source": [
    "penguins_df = sns.load_dataset(\"penguins\")\n",
    "\n",
    "sns.pairplot(data=penguins_df, hue=\"species\")"
   ]
  }
 ],
 "metadata": {
  "kernelspec": {
   "display_name": "Python 3 (ipykernel)",
   "language": "python",
   "name": "python3"
  },
  "language_info": {
   "codemirror_mode": {
    "name": "ipython",
    "version": 3
   },
   "file_extension": ".py",
   "mimetype": "text/x-python",
   "name": "python",
   "nbconvert_exporter": "python",
   "pygments_lexer": "ipython3",
   "version": "3.11.9"
  }
 },
 "nbformat": 4,
 "nbformat_minor": 4
}
