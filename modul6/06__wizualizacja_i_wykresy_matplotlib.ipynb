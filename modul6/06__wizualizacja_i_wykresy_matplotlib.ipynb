{
 "cells": [
  {
   "cell_type": "markdown",
   "metadata": {},
   "source": [
    "# Wizualizacja i wykresy - matplotlib"
   ]
  },
  {
   "cell_type": "markdown",
   "metadata": {},
   "source": [
    "## Jak zainstalować i używać bibliotekę `matplotlib`?\n",
    "\n",
    "Za pomocą conda:\n",
    "```bash\n",
    "conda activate od_zera_do_ai\n",
    "conda install -y matplotlib\n",
    "```\n",
    "\n",
    "lub za pomocą pip:\n",
    "```bash\n",
    "pip install matplotlib\n",
    "```"
   ]
  },
  {
   "cell_type": "code",
   "execution_count": null,
   "metadata": {},
   "outputs": [],
   "source": [
    "import matplotlib.pyplot as plt\n",
    "from faker import Faker\n",
    "import random\n",
    "import numpy as np\n",
    "\n",
    "fake = Faker()"
   ]
  },
  {
   "cell_type": "markdown",
   "metadata": {},
   "source": [
    "## Jak wygenerować line plot w matplotlib?"
   ]
  },
  {
   "cell_type": "code",
   "execution_count": null,
   "metadata": {},
   "outputs": [],
   "source": [
    "plt.plot([1, 5, 3, 6])\n",
    "plt.ylabel('liczby')\n",
    "plt.show()"
   ]
  },
  {
   "cell_type": "code",
   "execution_count": null,
   "metadata": {},
   "outputs": [],
   "source": [
    "plt.plot([1, 2, 3, 4], [1, 4, 9, 16])\n",
    "plt.ylabel('liczby')\n",
    "plt.show()"
   ]
  },
  {
   "cell_type": "markdown",
   "metadata": {},
   "source": [
    "## Jak wygenerować wykres punktowy w `Matplotlib` kontrolując kolory i kształty punktów?"
   ]
  },
  {
   "cell_type": "code",
   "execution_count": null,
   "metadata": {},
   "outputs": [],
   "source": [
    "plt.plot([1, 2, 3, 4], [1, 4, 9, 16], 'ro')\n",
    "plt.axis((0, 6, 0, 20))\n",
    "plt.show()"
   ]
  },
  {
   "cell_type": "code",
   "execution_count": null,
   "metadata": {},
   "outputs": [],
   "source": [
    "xs = []\n",
    "xs_2 = []\n",
    "xs_3 = []\n",
    "for i in range(0, 25):\n",
    "    x = i * 0.2\n",
    "\n",
    "    xs.append(x)\n",
    "    xs_2.append(x**2)\n",
    "    xs_3.append(x**3)\n",
    "\n",
    "plt.plot(xs, xs, 'r--', xs, xs_2, 'bs', xs, xs_3, 'g^')\n",
    "plt.show()"
   ]
  },
  {
   "cell_type": "code",
   "execution_count": null,
   "metadata": {},
   "outputs": [],
   "source": [
    "data = {\n",
    "    \"x\": [],\n",
    "    \"y\": [],\n",
    "    \"color\": [],\n",
    "    \"size\": []\n",
    "}\n",
    "for i in range(0, 100):\n",
    "    data[\"x\"].append(random.random())\n",
    "    data[\"y\"].append(random.randint(0, 50))\n",
    "    data[\"color\"].append(random.random())\n",
    "    data[\"size\"].append(random.random() * 100)\n",
    "\n",
    "plt.scatter('x', 'y', c='color', s='size', data=data)\n",
    "plt.xlabel('entry a')\n",
    "plt.ylabel('entry b')\n",
    "plt.show()"
   ]
  },
  {
   "cell_type": "markdown",
   "metadata": {},
   "source": [
    "## Nakładanie kilku wykresów na siebie w `Matplotlib`"
   ]
  },
  {
   "cell_type": "code",
   "execution_count": null,
   "metadata": {},
   "outputs": [],
   "source": [
    "names = ['group_a', 'group_b', 'group_c']\n",
    "values = [1, 10, 100]\n",
    "\n",
    "plt.figure(figsize=(9, 3))\n",
    "plt.bar(names, values)\n",
    "plt.plot(names, values)\n",
    "plt.scatter(names, values)\n",
    "plt.suptitle('Nasz wykres')\n",
    "plt.show()"
   ]
  },
  {
   "cell_type": "markdown",
   "metadata": {},
   "source": [
    "## Jak wygenerować kilka wykresów w jednym obiekcie `Matplotlib`?"
   ]
  },
  {
   "cell_type": "code",
   "execution_count": null,
   "metadata": {},
   "outputs": [],
   "source": [
    "names = ['group_a', 'group_b', 'group_c']\n",
    "values = [1, 10, 100]\n",
    "\n",
    "plt.figure(figsize=(9, 3))\n",
    "\n",
    "plt.subplot(131)\n",
    "plt.bar(names, values)\n",
    "\n",
    "plt.subplot(132)\n",
    "plt.scatter(names, values)\n",
    "\n",
    "plt.subplot(133)\n",
    "plt.plot(names, values)\n",
    "\n",
    "plt.suptitle('Trzy w cenie jednego')\n",
    "plt.show()"
   ]
  },
  {
   "cell_type": "markdown",
   "metadata": {},
   "source": [
    "## Jak dodać tytuł i etykiety osi do wykresu w `Matplotlib`?"
   ]
  },
  {
   "cell_type": "code",
   "execution_count": null,
   "metadata": {},
   "outputs": [],
   "source": [
    "mu, sigma = 100, 15  # mu to średnia, sigma to odchylenie standardowe\n",
    "x = mu + sigma * np.random.randn(10000)\n",
    "\n",
    "# the histogram of the data\n",
    "n, bins, patches = plt.hist(x, 50, density=True, facecolor='g', alpha=0.75)\n",
    "\n",
    "plt.xlabel('IQ')\n",
    "plt.ylabel('Prawdopodobieństwo')\n",
    "plt.title('Histogram IQ')\n",
    "plt.text(60, .025, r'$\\mu=100,\\ \\sigma=15$')\n",
    "plt.axis([40, 160, 0, 0.03])\n",
    "plt.grid(True)\n",
    "plt.show()"
   ]
  },
  {
   "cell_type": "markdown",
   "metadata": {},
   "source": [
    "## Jak wygenerować bar plot w `Matplotlib`?"
   ]
  },
  {
   "cell_type": "code",
   "execution_count": null,
   "metadata": {},
   "outputs": [],
   "source": [
    "names = [fake.name() for _ in range(10)]\n",
    "values = []\n",
    "for _ in range(10):\n",
    "    values.append(random.randint(0, 100))\n",
    "\n",
    "plt.bar(names, values)"
   ]
  },
  {
   "cell_type": "code",
   "execution_count": null,
   "metadata": {},
   "outputs": [],
   "source": [
    "names = [fake.name() for _ in range(10)]\n",
    "values = []\n",
    "for _ in range(10):\n",
    "    values.append(random.randint(0, 100))\n",
    "\n",
    "plt.barh(names, values)"
   ]
  },
  {
   "cell_type": "markdown",
   "metadata": {},
   "source": [
    "## Jak wygenerować scatter plot w `Matplotlib`?"
   ]
  },
  {
   "cell_type": "code",
   "execution_count": null,
   "metadata": {},
   "outputs": [],
   "source": [
    "x = [random.uniform(0, 10) for _ in range(100)]\n",
    "y = [random.uniform(0, 10) for _ in range(100)]\n",
    "\n",
    "fig, ax = plt.subplots()\n",
    "\n",
    "ax.scatter(x, y, color='blue', alpha=0.6)\n",
    "ax.set_title(\"Scatter Plot 1\")\n",
    "ax.set_xlabel(\"X Axis 1\")\n",
    "ax.set_ylabel(\"Y Axis 1\")\n",
    "ax.set_xlim(0, 10)\n",
    "ax.set_ylim(0, 10)\n",
    "ax.grid(True)"
   ]
  },
  {
   "cell_type": "markdown",
   "metadata": {},
   "source": [
    "## Jak wygenerować subplot-y używając axes w `Matplotlib`?"
   ]
  },
  {
   "cell_type": "code",
   "execution_count": null,
   "metadata": {},
   "outputs": [],
   "source": [
    "x1 = [random.uniform(0, 10) for _ in range(100)]\n",
    "y1 = [random.uniform(0, 10) for _ in range(100)]\n",
    "\n",
    "x2 = [random.uniform(0, 10) for _ in range(100)]\n",
    "y2 = [random.uniform(0, 10) for _ in range(100)]\n",
    "\n",
    "# Creating a figure and two axes\n",
    "fig, (ax1, ax2) = plt.subplots(1, 2, figsize=(12, 6))\n",
    "\n",
    "# Plotting data on the first axes\n",
    "ax1.scatter(x1, y1, color='blue', alpha=0.6)\n",
    "ax1.set_title(\"Scatter Plot 1\")\n",
    "ax1.set_xlabel(\"X Axis 1\")\n",
    "ax1.set_ylabel(\"Y Axis 1\")\n",
    "ax1.set_xlim(0, 10)\n",
    "ax1.set_ylim(0, 10)\n",
    "ax1.grid(True)\n",
    "\n",
    "# Plotting data on the second axes\n",
    "ax2.scatter(x2, y2, color='red', alpha=0.6)\n",
    "ax2.set_title(\"Scatter Plot 2\")\n",
    "ax2.set_xlabel(\"X Axis 2\")\n",
    "ax2.set_ylabel(\"Y Axis 2\")\n",
    "ax2.set_xlim(0, 10)\n",
    "ax2.set_ylim(0, 10)\n",
    "ax2.grid(True)\n",
    "\n",
    "plt.tight_layout()\n",
    "plt.show()"
   ]
  }
 ],
 "metadata": {
  "kernelspec": {
   "display_name": "Python 3 (ipykernel)",
   "language": "python",
   "name": "python3"
  },
  "language_info": {
   "codemirror_mode": {
    "name": "ipython",
    "version": 3
   },
   "file_extension": ".py",
   "mimetype": "text/x-python",
   "name": "python",
   "nbconvert_exporter": "python",
   "pygments_lexer": "ipython3",
   "version": "3.11.9"
  }
 },
 "nbformat": 4,
 "nbformat_minor": 4
}
