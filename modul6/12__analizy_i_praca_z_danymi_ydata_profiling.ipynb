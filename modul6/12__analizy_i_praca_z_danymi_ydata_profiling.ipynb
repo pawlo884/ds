{
 "cells": [
  {
   "cell_type": "markdown",
   "metadata": {},
   "source": [
    "# Analizy i praca z danymi - Ydata-profiling\n",
    "\n",
    "`Ydata-profiling` to biblioteka do analizy i pracy z danymi. Pozwala na szybkie i łatwe wykonywanie analizy danych, wizualizacji.\n",
    "\n",
    "\n",
    "## Jak zainstalować i używać bibliotekę `Ydata-profiling`?\n",
    "\n",
    "Za pomocą conda:\n",
    "```bash\n",
    "conda activate od_zera_do_ai\n",
    "conda install -y ydata-profiling\n",
    "```\n",
    "\n",
    "lub za pomocą pip:\n",
    "```bash\n",
    "pip install --quiet ydata-profiling\n",
    "```"
   ]
  },
  {
   "cell_type": "code",
   "execution_count": 2,
   "metadata": {},
   "outputs": [],
   "source": [
    "import pandas as pd\n",
    "from ydata_profiling import ProfileReport"
   ]
  },
  {
   "cell_type": "code",
   "execution_count": 3,
   "metadata": {},
   "outputs": [],
   "source": [
    "hm_2024_df = pd.read_csv('halfmarathon_wroclaw_2024__final.csv', sep=';')\n",
    "hm_2023_df = pd.read_csv('halfmarathon_wroclaw_2023__final.csv', sep=';')"
   ]
  },
  {
   "cell_type": "markdown",
   "metadata": {},
   "source": [
    "## Jak wykonywać automatyczną analizę danych w Pythonie?"
   ]
  },
  {
   "cell_type": "code",
   "execution_count": 4,
   "metadata": {},
   "outputs": [
    {
     "name": "stderr",
     "output_type": "stream",
     "text": [
      "100%|██████████| 27/27 [00:02<00:00,  9.02it/s]3<00:00,  6.41it/s, Describe variable: Tempo]                   \n",
      "Summarize dataset: 100%|██████████| 262/262 [00:28<00:00,  9.28it/s, Completed]                                                  \n",
      "Generate report structure: 100%|██████████| 1/1 [00:09<00:00,  9.32s/it]\n",
      "Render HTML: 100%|██████████| 1/1 [00:06<00:00,  6.16s/it]\n",
      "Export report to file: 100%|██████████| 1/1 [00:00<00:00, 11.24it/s]\n"
     ]
    }
   ],
   "source": [
    "hm_2024_report = ProfileReport(hm_2024_df, title=\"Analiza danych z półmaratonu Wrocław 2024\")\n",
    "hm_2024_report.to_file(\"hm_2024_report.html\")"
   ]
  },
  {
   "cell_type": "markdown",
   "metadata": {},
   "source": [
    "## Jak porównać dwa zbiory danych?"
   ]
  },
  {
   "cell_type": "code",
   "execution_count": 5,
   "metadata": {},
   "outputs": [
    {
     "name": "stderr",
     "output_type": "stream",
     "text": [
      "100%|██████████| 27/27 [00:02<00:00, 10.16it/s]2<00:01,  4.70it/s, Describe variable: Tempo]                   \n",
      "Summarize dataset: 100%|██████████| 262/262 [00:28<00:00,  9.24it/s, Completed]                                                  \n",
      "Generate report structure: 100%|██████████| 1/1 [00:09<00:00,  9.15s/it]\n",
      "Render HTML: 100%|██████████| 1/1 [00:06<00:00,  6.07s/it]\n",
      "Export report to file: 100%|██████████| 1/1 [00:00<00:00, 11.11it/s]\n"
     ]
    }
   ],
   "source": [
    "hm_2023_report = ProfileReport(hm_2023_df, title=\"Analiza danych z półmaratonu Wrocław 2023\")\n",
    "hm_2023_report.to_file(\"hm_2023_report.html\")"
   ]
  },
  {
   "cell_type": "code",
   "execution_count": 6,
   "metadata": {},
   "outputs": [
    {
     "name": "stderr",
     "output_type": "stream",
     "text": [
      "Generate report structure: 100%|██████████| 1/1 [00:15<00:00, 15.34s/it]\n",
      "Render HTML: 100%|██████████| 1/1 [00:10<00:00, 10.88s/it]\n",
      "Export report to file: 100%|██████████| 1/1 [00:00<00:00,  6.35it/s]\n"
     ]
    }
   ],
   "source": [
    "comparison_report = hm_2023_report.compare(hm_2024_report)\n",
    "comparison_report.to_file(\"comparison_report.html\")"
   ]
  },
  {
   "cell_type": "code",
   "execution_count": null,
   "metadata": {},
   "outputs": [],
   "source": []
  }
 ],
 "metadata": {
  "kernelspec": {
   "display_name": ".venv",
   "language": "python",
   "name": "python3"
  },
  "language_info": {
   "codemirror_mode": {
    "name": "ipython",
    "version": 3
   },
   "file_extension": ".py",
   "mimetype": "text/x-python",
   "name": "python",
   "nbconvert_exporter": "python",
   "pygments_lexer": "ipython3",
   "version": "3.11.9"
  }
 },
 "nbformat": 4,
 "nbformat_minor": 4
}
