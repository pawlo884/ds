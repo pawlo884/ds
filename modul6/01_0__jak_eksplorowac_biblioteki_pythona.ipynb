{
 "cells": [
  {
   "cell_type": "markdown",
   "metadata": {},
   "source": [
    "# Jak eksplorować biblioteki Pythona?"
   ]
  },
  {
   "cell_type": "markdown",
   "metadata": {},
   "source": [
    "## Ktoś gdzieś polecił mi nową bibliotekę, co teraz?\n",
    "\n",
    "* Czy warto ją zainstalować?\n",
    "* Jaka jest jej popularność?\n",
    "* Czy jest stabilna?\n",
    "* Czy jeżeli mi się spodoba czy mam pewność, że będzie wspierana?\n",
    "* Kiedy ostatnio była aktualizowana?\n",
    "* Czy jest aktualnie rozwijana?"
   ]
  },
  {
   "cell_type": "markdown",
   "metadata": {},
   "source": [
    "## Instalujemy i zaczynamy zabawę!\n",
    "\n",
    "* Czy biblioteka ma jakieś zależności systemowe?\n",
    "* Czy mam problem z instalacją?\n",
    "* Czy mogę instalować przez `conda`? https://anaconda.org/\n",
    "* Czy mogę instalować przez `pip`? https://pypi.org/\n",
    "\n",
    "Problemy na tym etapie oznaczają:\n",
    "* Może być dla mnie za wcześnie na tą bibliotekę\n",
    "* Może zadziałać dla mnie, ale czy zadziała dla innych?\n",
    "* Jeżeli bezpośrednio nie znam autorów to może warto zaczekać"
   ]
  },
  {
   "cell_type": "markdown",
   "metadata": {},
   "source": [
    "## Eksplorujemy bibliotekę - budujemy mapę myśli i przykłady\n",
    "\n",
    "* Co daje mi ta biblioteka?\n",
    "* Gdzie może mi się przydać?\n",
    "* Czy jest dokumentacja?\n",
    "* Czy jest przykładowy kod?"
   ]
  }
 ],
 "metadata": {
  "kernelspec": {
   "display_name": "Python 3 (ipykernel)",
   "language": "python",
   "name": "python3"
  },
  "language_info": {
   "codemirror_mode": {
    "name": "ipython",
    "version": 3
   },
   "file_extension": ".py",
   "mimetype": "text/x-python",
   "name": "python",
   "nbconvert_exporter": "python",
   "pygments_lexer": "ipython3",
   "version": "3.11.9"
  }
 },
 "nbformat": 4,
 "nbformat_minor": 4
}
